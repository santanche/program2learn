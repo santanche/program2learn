{
 "cells": [
  {
   "cell_type": "markdown",
   "id": "21809a2f-c05a-4867-83c9-405f4d19794d",
   "metadata": {},
   "source": [
    "### Quasiquote (backquote) `` ` ``, unquote `,` e unquote-splicing `,@`\n",
    "\n",
    "Convenhamos que ficar escrevendo `(list` junto a `'sexp` para uma expressão que não queremos computar e somente `sexp` para uma expressão que queremos computar não é muito elegante.\n",
    "\n",
    "Por conta disso, scheme vem equipado com um reader macro chamado de **quasiquote** ou **backquote** (``` ` ```), ele funciona de forma similar ao **quote**:"
   ]
  },
  {
   "cell_type": "code",
   "execution_count": 3,
   "id": "f9f5ed72-0489-42bf-bfff-8f43595af989",
   "metadata": {
    "trusted": false
   },
   "outputs": [
    {
     "data": {
      "text/plain": [
       "(x y 1 2)"
      ]
     },
     "execution_count": 3,
     "metadata": {
      "text/plain": "(x y 1 2)"
     },
     "output_type": "execute_result"
    }
   ],
   "source": [
    "`(x y 1 2)"
   ]
  },
  {
   "cell_type": "markdown",
   "id": "eee3c6df-5f92-4542-a455-e976bba291fe",
   "metadata": {},
   "source": [
    "Entretando, quando combinado com outro reader macros **unquote** (`,`) ele é capaz de computar valores sob demanda, por exemplo:"
   ]
  },
  {
   "cell_type": "code",
   "execution_count": 4,
   "id": "bdcec3e6-7ffd-498e-b1b9-8cbb64126c08",
   "metadata": {
    "trusted": false
   },
   "outputs": [
    {
     "data": {
      "text/plain": [
       "((x 1) (y 2))"
      ]
     },
     "execution_count": 4,
     "metadata": {
      "text/plain": "((x 1) (y 2))"
     },
     "output_type": "execute_result"
    }
   ],
   "source": [
    "(define x 1)\n",
    "(define y 2)\n",
    "\n",
    "`((x ,x) (y ,y))"
   ]
  },
  {
   "cell_type": "markdown",
   "id": "5a100fd5-cfc4-4a8c-b663-5c469bc7a818",
   "metadata": {},
   "source": [
    "### Questão 1\n",
    "\n",
    "O que o código a seguir retorna? \n",
    "\n",
    "```scheme\n",
    "(define x 'y)\n",
    "`,x \n",
    "```"
   ]
  },
  {
   "cell_type": "markdown",
   "id": "57576e8a-4e88-4720-ba94-81df545f05ab",
   "metadata": {},
   "source": []
  },
  {
   "cell_type": "markdown",
   "id": "7fd06d9e-e5de-4fe2-a6f9-1c5fd6b9f1a4",
   "metadata": {},
   "source": [
    "### Questão 2\n",
    "\n",
    "E o código a seguir?\n",
    "```scheme\n",
    "(define x 'y)\n",
    "`',x\n",
    "```"
   ]
  },
  {
   "cell_type": "markdown",
   "id": "ab960a6f-b8ba-4990-a982-d250f98dd5da",
   "metadata": {},
   "source": []
  },
  {
   "cell_type": "markdown",
   "id": "46651743-0436-4546-b32b-ba8dd8cdbc5c",
   "metadata": {},
   "source": [
    "Além disso, temos também o reader macro **unquote-splicing** (`,@`) que é meio complicado de entender, mas em poucas palavras ele \"remove 1 par de parenteses de uma lista\".\n",
    "\n",
    "Ou seja:\n"
   ]
  },
  {
   "cell_type": "code",
   "execution_count": 9,
   "id": "e5730b46-2fa8-4572-a95a-f9215eee67df",
   "metadata": {
    "trusted": false
   },
   "outputs": [
    {
     "data": {
      "text/plain": [
       "(0 1 2 3 4)"
      ]
     },
     "execution_count": 9,
     "metadata": {
      "text/plain": "(0 1 2 3 4)"
     },
     "output_type": "execute_result"
    }
   ],
   "source": [
    "(define x '(1 2 3 4))\n",
    "\n",
    "`(0 ,@x)"
   ]
  },
  {
   "cell_type": "markdown",
   "id": "c4fdc681-69a9-449e-b1b4-173feb1da25a",
   "metadata": {},
   "source": [
    "Viram como a lista `'(1 2 3 4)` foi \"desempacotada\" em `1 2 3 4` para depois se juntar ao `0` em uma nova lista?\n",
    "\n",
    "O **unquote-splicing** é poderosissimo e utilizado para trabalhar com macros que recebem um número váriavel de argumentos, por exemplo:"
   ]
  },
  {
   "cell_type": "code",
   "execution_count": 5,
   "id": "ef5f0644-dc3d-4013-be3a-7b84fdd45606",
   "metadata": {
    "trusted": false
   },
   "outputs": [
    {
     "data": {
      "text/plain": [
       "(begin (display \"oi\") (newline) (display \"tchau\") (newline))"
      ]
     },
     "execution_count": 5,
     "metadata": {
      "text/plain": "(begin (display \"oi\") (newline) (display \"tchau\") (newline))"
     },
     "output_type": "execute_result"
    }
   ],
   "source": [
    "(define (f . args)\n",
    "  `(begin ,@args))\n",
    "\n",
    "(f '(display \"oi\")\n",
    "   '(newline) \n",
    "   '(display \"tchau\") \n",
    "   '(newline))"
   ]
  },
  {
   "cell_type": "markdown",
   "id": "f77b3044-2c7d-4dbd-a829-b18061419122",
   "metadata": {},
   "source": [
    "Ou seja, se `f` fosse um macro, em tempo de compilação, nós teriámos uma lista de listas: \n",
    "\n",
    "```scheme\n",
    "'((display \"oi\")\n",
    "  (newline)\n",
    "  (display \"tchau\")\n",
    "  (newline))\n",
    "```\n",
    "\n",
    "Que seria transformado em um código:\n",
    "\n",
    "```scheme\n",
    "(begin (display \"oi\") \n",
    "       (newline) \n",
    "       (display \"tchau\")\n",
    "       (newline))\n",
    "```\n",
    "\n",
    "Como mostrado a seguir:"
   ]
  },
  {
   "cell_type": "code",
   "execution_count": 4,
   "id": "53198a74-7b57-49bd-9075-e03bdbc664f0",
   "metadata": {
    "trusted": false
   },
   "outputs": [
    {
     "data": {
      "text/plain": [
       "oi\n",
       "tchau\n"
      ]
     },
     "execution_count": 4,
     "metadata": {
      "text/plain": "oi\ntchau\n"
     },
     "output_type": "execute_result"
    }
   ],
   "source": [
    "(define-macro (m . args)\n",
    "  `(begin ,@args))\n",
    "\n",
    "(m (display \"oi\")\n",
    "   (newline) \n",
    "   (display \"tchau\") \n",
    "   (newline))"
   ]
  },
  {
   "cell_type": "markdown",
   "id": "1302a104-b1a4-43c7-aacb-4664e518cf16",
   "metadata": {},
   "source": [
    "Em resumo, utilizamos **unquote-splicing** para adicionar elementos no inicio ou no fim de uma série de instruções sem precisar utilizar funções que manipulam a lista."
   ]
  },
  {
   "cell_type": "markdown",
   "id": "a9697210-1d9d-4c03-8e2b-4a04bd7c605b",
   "metadata": {},
   "source": [
    "#### Questão 3\n",
    "Complete o macro `desafio`, utilizando **somente** **quasiquote**, **unquote** e **unquote-splicing** que recebe um argumento `arg1`, uma função `f`, e um número váriavel de argumentos `args` e retorna uma aplicação de `f` a `args` e `arg1`.\n",
    "\n",
    "Exemplo:\n",
    "\n",
    "```scheme\n",
    "(desafio 2 / 1 3 5) \n",
    "\n",
    ";; expande para\n",
    "\n",
    "(/ 1 3 5 2)\n",
    "\n",
    ";; computa para\n",
    "\n",
    "1/30\n",
    "```"
   ]
  },
  {
   "cell_type": "code",
   "execution_count": 1,
   "id": "8522ed7b-f776-4a34-97c0-49948dccbf16",
   "metadata": {
    "trusted": false
   },
   "outputs": [
    {
     "data": {
      "text/plain": [
       "1/30"
      ]
     },
     "execution_count": 1,
     "metadata": {
      "text/plain": "1/30"
     },
     "output_type": "execute_result"
    }
   ],
   "source": [
    "(define-macro (desafio arg1 f . args)\n",
    "  `(? ?? ???))\n",
    "\n",
    "(desafio 2 / 1 3 5)"
   ]
  },
  {
   "cell_type": "markdown",
   "id": "d6a9445f-531e-4d7d-b849-53ea976b3775",
   "metadata": {},
   "source": [
    "### Qual a utilidade de macros?\n",
    "\n",
    "Como vimos na última aula, macros são utilizados para manipular estruturas de uma linguagem, no caso do **scheme**, cons cells.\n",
    "\n",
    "Por exemplo, um problema que encontramos recorrentemente em **scheme** é que `lambdas` não possuem nome, ou seja, é muito difícil em, um único bloco `lambda`, fazermos recursão.\n",
    "\n",
    "Para resolvermos isso podemos criar o macro `nlambda` (named-lambda) que possui a seguinte estrutura:\n",
    "\n",
    "```scheme\n",
    "(nlambda (nome . args)\n",
    "   corpo)\n",
    "```\n",
    "\n",
    "Podemos assim utilizar `map` e `nlambda` para definirmos uma função que calcula o `fatorial` de `n` argumentos, memorizando resultados anteriores e devolvendo uma lista: \n",
    "\n",
    "```scheme\n",
    "(define (fast-fact-list . args)\n",
    "  (let ([memo (make-hash-table)])\n",
    "    (hash-set! memo 0 1)\n",
    "    (map (nlambda (fact x)\n",
    "                  (let ([n (hash-ref memo 0)])\n",
    "                      (if n\n",
    "                          n\n",
    "                          (* x (fact (1- x))))))\n",
    "         args)))                        \n",
    "```\n",
    "\n",
    "Podemos definir `nlambda` em **6** simples linhas:"
   ]
  },
  {
   "cell_type": "code",
   "execution_count": 2,
   "id": "28f35ce2-a04f-4f6d-8a22-1f55e7efa480",
   "metadata": {
    "trusted": true
   },
   "outputs": [],
   "source": [
    "(defmacro nlambda (n+args . body) \n",
    "  (let ([name (car n+args)]       \n",
    "        [args (cdr n+args)])      \n",
    "    `(letrec ([,name (lambda ,args\n",
    "                       ,@body)])  \n",
    "       ,name)))"
   ]
  },
  {
   "cell_type": "markdown",
   "id": "ee2aa5f8-25f6-4226-9cc7-ce275437e071",
   "metadata": {},
   "source": [
    "### Questão 4\n",
    "\n",
    "Vamos construir um macro `nlet`, que permite você nomear um bloco `let`, ele possui a seguinte sintaxe:\n",
    "\n",
    "```scheme\n",
    "(nlet <nome> ([<var1> <val1>]\n",
    "              ...\n",
    "              [<varn> <valn>])\n",
    "      <corpo>)\n",
    "```\n",
    "\n",
    "Caso `<corpo>` chame `<nome>` com `n` argumentos, devemos computar `<corpo>` substituindo cada uma das `n` váriaveis  pelos respectivos `n` argumentos.\n",
    "\n",
    "Ou seja:\n",
    "\n",
    "```scheme\n",
    "(define (fact x)\n",
    "  (nlet iter ([n x]\n",
    "              [acc 1])\n",
    "        (if (zero? n)\n",
    "            acc\n",
    "            (iter (1- n) (* n acc)))))\n",
    "```\n",
    "\n",
    "É equivalente a uma forma iterativa de computar o fatorial de um número."
   ]
  },
  {
   "cell_type": "markdown",
   "id": "9a5ee584-bbd1-4ff0-81de-938d87533dd3",
   "metadata": {},
   "source": [
    "##### a) Construa uma função `firsts`, que recebe uma lista de pares `((x 1) (y 2))` e retorna uma lista formada pelo primeiro elemento de cada lista."
   ]
  },
  {
   "cell_type": "code",
   "execution_count": null,
   "id": "70deeff1-50ec-47a7-a018-89bf77e49925",
   "metadata": {
    "trusted": true
   },
   "outputs": [],
   "source": [
    "(define (firsts l)\n",
    "  ...)"
   ]
  },
  {
   "cell_type": "markdown",
   "id": "39b72cc4-9fe9-433d-beaa-d6cd6c18bc4d",
   "metadata": {},
   "source": [
    "##### b) Construa uma função `seconds`, que, equivalente a primeira função, recebe uma lista de pares `((x 1) (y 2))` e retorna uma lista formada pelo segundo  de cada lista."
   ]
  },
  {
   "cell_type": "code",
   "execution_count": null,
   "id": "4b2a74ec-c45e-40a5-bac8-86ffa225723a",
   "metadata": {
    "trusted": true
   },
   "outputs": [],
   "source": [
    "(define (map-cadr l)\n",
    "  ...)\n",
    "                  "
   ]
  },
  {
   "cell_type": "markdown",
   "id": "1cf0757b-0750-4ac6-8eca-fe1b2cb1acfa",
   "metadata": {},
   "source": [
    "##### c) Por fim, defina o macro `nlet` ☠️."
   ]
  },
  {
   "cell_type": "code",
   "execution_count": null,
   "id": "d7b4e629-2fe5-4c3e-ab9f-e892a40790fd",
   "metadata": {
    "trusted": true
   },
   "outputs": [],
   "source": [
    "(define-macro (nlet nome letargs . body)\n",
    "  ...)"
   ]
  },
  {
   "cell_type": "markdown",
   "id": "90cbb7a3-d104-4a69-b743-8a66823f69b3",
   "metadata": {},
   "source": [
    "### Questão 5 ☠️ ☠️\n",
    "Utilizando `nlet` construa um macro `for` que recebe:\n",
    "\n",
    "1) uma lista compostas por listas no formato `(<var> <val>)` ou `(<var> <val> <step>)`, no primeiro formato a variável `<var>` mantem seu valor a cada iteração, já no segundo caso `<var>` deve ser substiuido por `(<step> <var>)` a cada iteração;\n",
    "2) uma lista de condicionais, se todas falsas `#f` a iteração para;\n",
    "3) um corpo a ser executado a cada iteração.\n",
    "\n",
    "Por exemplo:\n",
    "```scheme\n",
    "(for ([x 0 (1+ x)]\n",
    "      [y 10])\n",
    "     [(>= x y)]\n",
    "  (when (> x 3)\n",
    "    (display x)\n",
    "    (newline))\n",
    "  (when (< y 5)\n",
    "    (display y)\n",
    "    (newline)))\n",
    "```"
   ]
  },
  {
   "cell_type": "code",
   "execution_count": null,
   "id": "ca0055dc-bbe5-4ee6-9415-9374b91028c2",
   "metadata": {
    "trusted": false
   },
   "outputs": [],
   "source": [
    "(define-macro (for vvs conds . body)\n",
    "  ...)"
   ]
  }
 ],
 "metadata": {
  "kernelspec": {
   "display_name": "Guile",
   "language": "scheme",
   "name": "guile"
  },
  "language_info": {
   "codemirror_mode": "scheme",
   "file_extension": ".scm",
   "mimetype": "application/x-scheme",
   "name": "guile",
   "pygments_lexer": "scheme",
   "version": "3.0.0"
  }
 },
 "nbformat": 4,
 "nbformat_minor": 5
}
