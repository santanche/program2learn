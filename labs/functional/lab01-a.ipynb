{
 "cells": [
  {
   "cell_type": "markdown",
   "id": "5edd4561",
   "metadata": {},
   "source": [
    "# Lista 1a\n",
    "\n",
    "## Níveis de Abstrações e Modularização com `define`"
   ]
  },
  {
   "cell_type": "markdown",
   "id": "fcab6292",
   "metadata": {
    "vscode": {
     "languageId": "scheme"
    }
   },
   "source": [
    "Em aulas anteriores, falamos sobre diferentes níveis de abstração em uma progressão que começou com procedimentos/funções, avançando para módulos em um nível superior (exemplo do Modula-2), comparáveis a Tipos Abstratos de Dados (TAD). O conceito de classes da OO estruturalmente pode se comportar como um TAD, acrescentando a noção de objeto/instância.\n",
    "\n",
    "Em funcional, é possível se definir uma função dentro de outra, permitindo encapsular funções em uma abstração superior. Os exercícios a seguir refletem sobre isso."
   ]
  },
  {
   "cell_type": "markdown",
   "id": "144660b5",
   "metadata": {},
   "source": [
    "Podemos utilizar `define` dentro de `define`, exemplo:\n",
    "```scheme\n",
    "(define (func x)\n",
    "  (define (duplica y) \n",
    "    (+ y y))\n",
    "  (duplica x))\n",
    "```"
   ]
  },
  {
   "cell_type": "markdown",
   "id": "25d31cd2",
   "metadata": {},
   "source": [
    "## Questão 1\n",
    "\n",
    "Defina uma função `fibonacci` que receba como parâmetro `n` e retorne os n primeiros números da sequência de Fibonacci."
   ]
  },
  {
   "cell_type": "code",
   "execution_count": null,
   "id": "1bc6e32d",
   "metadata": {
    "vscode": {
     "languageId": "scheme"
    }
   },
   "outputs": [],
   "source": []
  },
  {
   "cell_type": "markdown",
   "id": "e424cecc-aecf-46e5-b291-d21a6333a918",
   "metadata": {},
   "source": [
    "## Questão 2\n",
    "Dado o seguinte código em python:\n",
    "```python\n",
    "memo = {}\n",
    "\n",
    "def misterio(a, b):\n",
    "    if (a, b) in memo:\n",
    "        return memo[(a, b)]\n",
    "\n",
    "    if b == 0:\n",
    "        return a\n",
    "    else:\n",
    "        memo[(a, b)] = misterio(b, a % b)\n",
    "\n",
    "    return memo[(a, b)]\n",
    "```\n",
    "Responda:"
   ]
  },
  {
   "cell_type": "markdown",
   "id": "19d7fc3a-797b-4589-9e77-a2f11c24d24a",
   "metadata": {},
   "source": [
    "a) O que essa função faz?"
   ]
  },
  {
   "cell_type": "code",
   "execution_count": null,
   "id": "a72d2a77-136c-4758-9256-5f701cae8c29",
   "metadata": {
    "vscode": {
     "languageId": "scheme"
    }
   },
   "outputs": [],
   "source": []
  },
  {
   "cell_type": "markdown",
   "id": "1dfd74b1-8a6e-40bb-8f5e-eb063259a43b",
   "metadata": {},
   "source": [
    "b) Ela é pura?"
   ]
  },
  {
   "cell_type": "code",
   "execution_count": null,
   "id": "da3863fa-bd0e-4ced-9c56-fcd8791675aa",
   "metadata": {
    "vscode": {
     "languageId": "scheme"
    }
   },
   "outputs": [],
   "source": []
  },
  {
   "cell_type": "markdown",
   "id": "871d98e7-0e1a-4f9e-a8b8-1fa07c378650",
   "metadata": {},
   "source": [
    "c) Como ficaria uma implementação pura?"
   ]
  },
  {
   "cell_type": "code",
   "execution_count": null,
   "id": "bcdb6319-cad6-44f9-98df-11cefa8a257c",
   "metadata": {
    "vscode": {
     "languageId": "scheme"
    }
   },
   "outputs": [],
   "source": []
  },
  {
   "cell_type": "markdown",
   "id": "038cc3fe-0c40-4199-8622-ab8249cb4649",
   "metadata": {},
   "source": [
    "d) Sabendo que em Guile existem as funções:\n",
    "\n",
    "- make-hash-table, que cria uma hash-table;\n",
    "- hash-ref, que recebe um hash-table e uma chave e retorna o valor associado a essa chave, se ele existe, e #f caso contrário;\n",
    "- hash-set!, que recebe uma hash-table, uma chave e um valor e associa a chave ao valor no hash-table.\n",
    "\n",
    "Exemplo de uso:\n",
    "```scheme\n",
    "(define ht (make-hash-table))\n",
    "(hash-set! ht 'dois 2)\n",
    "(hash-ref ht 'dois) ; -> 2\n",
    "(hash-ref ht 'tres) ; -> #f\n",
    "```\n",
    "\n",
    "Escreva a implementação **pura** em Guile."
   ]
  },
  {
   "cell_type": "code",
   "execution_count": null,
   "id": "67a9514d-2728-4a3b-a780-9bcfb1f3fb4a",
   "metadata": {
    "vscode": {
     "languageId": "scheme"
    }
   },
   "outputs": [],
   "source": []
  },
  {
   "cell_type": "markdown",
   "id": "65690845",
   "metadata": {},
   "source": [
    "## Abstract Data Type (ADT) e Funções Aninhadas\n",
    "\n",
    "Retomando o exemplo do ADT sobre empréstimo.\n",
    "\n",
    "### Máquina de Empréstimo\n",
    "\n",
    "Financiamento com juros compostos e número de parcelas fixas.\n",
    "\n",
    "Dados disponíveis:\n",
    "* S - valor da primeira parcela\n",
    "* N - número de parcelas\n",
    "* J – percentual de juros mensal\n",
    "\n",
    "Cada nova parcela é sempre calculada em relação à anterior:\n",
    "Parcela[mês] = Parcela[mês-1] * (1 + J / 100)"
   ]
  },
  {
   "cell_type": "markdown",
   "id": "e4ee886e-89fd-4c3b-8f61-bf48b1e7edb4",
   "metadata": {},
   "source": [
    "## Questão 3\n",
    "\n",
    "Em Scheme é possível utilizar `set!` dentro de uma função para alterar um valor externo a função, tal como o `hash-set!` altera o um hash-table.\n",
    "\n",
    "Essa e outras caracteristicas fazem com que Scheme não seja uma linguagem puramente funcional, sabe explicar o motivo?"
   ]
  },
  {
   "cell_type": "markdown",
   "id": "caabeecd-ea5b-4eb4-9f43-b01521337355",
   "metadata": {},
   "source": []
  },
  {
   "cell_type": "markdown",
   "id": "7709e3d8-f3a9-4c9c-84f6-73ae3a20716a",
   "metadata": {},
   "source": [
    "Exemplo de uso de `set!`:"
   ]
  },
  {
   "cell_type": "code",
   "execution_count": 3,
   "id": "0886c72d-a742-44a9-b48f-782c963c0ae0",
   "metadata": {},
   "outputs": [
    {
     "data": {
      "text/plain": [
       "x: 2\n",
       "x: 4\n",
       "x: 9\n",
       "#t"
      ]
     },
     "execution_count": 3,
     "metadata": {
      "text/plain": "x: 2\nx: 4\nx: 9\n#t"
     },
     "output_type": "execute_result"
    }
   ],
   "source": [
    "(define x 2)\n",
    "\n",
    "(define (soma-x! y)\n",
    "  (set! x (+ x y)))\n",
    "\n",
    "(define (printa-x)\n",
    "  (format #t \"x: ~A\\n\" x))\n",
    "\n",
    "(printa-x)\n",
    "\n",
    "(soma-x! 2)\n",
    "\n",
    "(printa-x)\n",
    "\n",
    "(soma-x! 5)\n",
    "\n",
    "(printa-x)"
   ]
  },
  {
   "cell_type": "markdown",
   "id": "77e0b011",
   "metadata": {},
   "source": [
    "## Questão 4\n",
    "\n",
    "Construa em Scheme um ADT:\n",
    "\n",
    "<img src=\"tad-emprestimo.png\" width=\"600px\" height=\"auto\">\n",
    "\n",
    "\n",
    "a) De forma imperativa (utilizando `set!`)."
   ]
  },
  {
   "cell_type": "code",
   "execution_count": null,
   "id": "3cbe0eab",
   "metadata": {
    "vscode": {
     "languageId": "scheme"
    }
   },
   "outputs": [],
   "source": []
  },
  {
   "cell_type": "markdown",
   "id": "fb1f6786-b67c-4ea7-a20a-315a7608bfd9",
   "metadata": {},
   "source": [
    "b) De forma funcional (utilizando funções aninhadas)."
   ]
  },
  {
   "cell_type": "code",
   "execution_count": null,
   "id": "a9fe016e-36ba-4a48-9114-0b3d34c6b883",
   "metadata": {},
   "outputs": [],
   "source": []
  }
 ],
 "metadata": {
  "kernelspec": {
   "display_name": "Guile",
   "language": "scheme",
   "name": "guile"
  },
  "language_info": {
   "codemirror_mode": "scheme",
   "file_extension": ".scm",
   "mimetype": "application/x-scheme",
   "name": "guile",
   "pygments_lexer": "scheme",
   "version": "3.0.0"
  }
 },
 "nbformat": 4,
 "nbformat_minor": 5
}
