{
 "cells": [
  {
   "cell_type": "markdown",
   "id": "b9373abc",
   "metadata": {},
   "source": [
    "# First-class Citizen\n",
    "\n",
    "Cada paradigma escolhe primitivas tratadas como first-class citizen. O conceito de first-class é subjetivo, mas indica o quanto a primitiva pode atuar em outros contextos do programa, além de seu papel principal. Segundo Scott [1] isso é caracterizado pela capacidade desta primitiva: ser passada como parâmetro, retornar via uma sub-rotina e ser atribuída a uma variável.\n",
    "\n",
    "Breve história da primeira classe até agora:\n",
    "* 1950s - Fortran: números e arrays\n",
    "* 1958 - Lisp: Functions, lists, symbols\n",
    "* 1960s - ALGOL: números e dados estruturados\n",
    "* 1967–72: Simula, Smalltalk: objetos (e classes também em Smalltalk)\n",
    "\n",
    "[1] Scott, M. L. (2009). Programming Language Pragmatics. In Programming Language Pragmatics: Third Edition (Third). Elsevier Inc. https://doi.org/10.1016/B978-0-12-374514-9.X0001-8"
   ]
  },
  {
   "cell_type": "markdown",
   "id": "7efbc860",
   "metadata": {},
   "source": [
    "## Passando Funções como Parâmetros"
   ]
  },
  {
   "cell_type": "markdown",
   "id": "66ad4cf0",
   "metadata": {},
   "source": [
    "### Uma versão reduzida de `map`\n",
    "\n",
    "Podemos implementar uma função `map-1`, que é uma versão reduzida de `map`, recebendo apenas uma função `f`, que recebe apenas um argumento, e uma lista `l`, aplicando `f` para cada elemento de `l`. da seguinte maneira:"
   ]
  },
  {
   "cell_type": "code",
   "execution_count": 1,
   "id": "1bac2c69",
   "metadata": {
    "vscode": {
     "languageId": "scheme"
    }
   },
   "outputs": [],
   "source": [
    "(define (map-1 f l)\n",
    "  (if (null? l)\n",
    "      '()\n",
    "      (cons (f (car l))\n",
    "            (map-1 f (cdr l)))))"
   ]
  },
  {
   "cell_type": "markdown",
   "id": "85c09653-7090-4e53-8f81-29ba98b101c4",
   "metadata": {},
   "source": [
    "### Questão 1\n",
    "Complete a função `filter`, que recebe uma função `pred?` e uma lista `l` e devolve uma lista contendo apenas os valores `x` onde `(f x)` é verdadeiro, ou seja, diferente de `#f`."
   ]
  },
  {
   "cell_type": "code",
   "execution_count": null,
   "id": "cd6a2b22-73ae-476e-bfef-61d146e3fb4a",
   "metadata": {
    "trusted": true,
    "vscode": {
     "languageId": "scheme"
    }
   },
   "outputs": [],
   "source": [
    "(define (filter pred? l)\n",
    "  (define (recur l acc)\n",
    "      (cond ((null? l) (reverse ?))               ; caso base\n",
    "            (??        (recur ??? (cons ???? ?))) ; mantém o elemento\n",
    "            (else      (recur ??? ?))))           ; descarta o elemento\n",
    "  (recur l '()))"
   ]
  },
  {
   "cell_type": "markdown",
   "id": "056d9e0c-760d-4380-acf8-c6cb1c4cdcad",
   "metadata": {},
   "source": [
    "### Questão 2\n",
    "Sabendo que `reverse` é uma função que recebe uma lista e inverte a ordem de seus elementos, discorra sobre o motivo de utilizá-la no caso base. Seja breve."
   ]
  },
  {
   "cell_type": "markdown",
   "id": "c4037b1d",
   "metadata": {},
   "source": []
  },
  {
   "cell_type": "markdown",
   "id": "9c705c01-0017-47df-97f4-080bf2272269",
   "metadata": {},
   "source": [
    "## Função de Ordem Superior\n",
    "Uma das características das linguagens modernas, herdada das linguagens funcionais, são as funções de ordem superior.\n",
    "\n",
    "Essas funções se caracterizam por receberem funções como argumento ou retornarem novas funções.\n",
    "\n",
    "Por exemplo, a função `map` recebe uma função `f` e uma lista `lst` e aplica `f` em cada elemento de `lst`."
   ]
  },
  {
   "cell_type": "code",
   "execution_count": null,
   "id": "7f9fd3bc-805c-4f8d-8e2e-9cbea4a3d187",
   "metadata": {
    "trusted": true,
    "vscode": {
     "languageId": "scheme"
    }
   },
   "outputs": [],
   "source": [
    ";; A função 1+ recebe um número e retorna esse número mais um:\n",
    "(1+ 2)"
   ]
  },
  {
   "cell_type": "code",
   "execution_count": null,
   "id": "482b4ed9-7ea5-418d-b1d7-d498984304ac",
   "metadata": {
    "trusted": true,
    "vscode": {
     "languageId": "scheme"
    }
   },
   "outputs": [],
   "source": [
    "(map 1+ '(1 2 3 4))"
   ]
  },
  {
   "cell_type": "markdown",
   "id": "bb61d68a-82c5-4d2c-80c3-0d383e88ccb3",
   "metadata": {},
   "source": [
    "`map` também pode receber uma função `f` que recebe mais de um argumento e um número equivalente de listas, ou seja, uma função que recebe `n` argumentos e `n` listas, retornando uma lista formada por pela aplicação de `f` ao primeiro elemento de cada lista, ao segundo elemento de cada lista, e assim sucessivamente.\n",
    "### Exemplo:"
   ]
  },
  {
   "cell_type": "code",
   "execution_count": null,
   "id": "f8bcfe35-3bea-4e12-b3b0-e1386960e535",
   "metadata": {
    "trusted": true,
    "vscode": {
     "languageId": "scheme"
    }
   },
   "outputs": [],
   "source": [
    "(map + '(1 2 3 4) '(4 3 2 1))"
   ]
  },
  {
   "cell_type": "markdown",
   "id": "0d5ddb53-2510-4a00-8fa0-21239dab2fd2",
   "metadata": {},
   "source": [
    "### Questão 3\n",
    "\n",
    "Utilizando `map`, complete a função `mul-lista` que recebe um número `n` e uma lista `l` e multiplica cada elemento de `l` por `n`."
   ]
  },
  {
   "cell_type": "code",
   "execution_count": null,
   "id": "e11ad5a4-3573-4f49-93a2-020bf4ca8488",
   "metadata": {
    "trusted": true,
    "vscode": {
     "languageId": "scheme"
    }
   },
   "outputs": [],
   "source": [
    "(define (mul-lista n l) \n",
    "  ...)"
   ]
  },
  {
   "cell_type": "markdown",
   "id": "a196285e-4d1e-4773-8671-65031ca8fb65",
   "metadata": {},
   "source": [
    "### Questão 4\n",
    "Complete a função `mul-listas` que recebe duas listas, `l1` e `l2`, e retorna uma lista equivalente ao produto de cada elemente de uma lista com o elemento correspondente da outra."
   ]
  },
  {
   "cell_type": "code",
   "execution_count": null,
   "id": "428a3872-0c46-4a9a-a961-8b5d21c8adaa",
   "metadata": {
    "trusted": true,
    "vscode": {
     "languageId": "scheme"
    }
   },
   "outputs": [],
   "source": [
    "(define (mul-listas l1 l2)\n",
    "  (map (lambda (x y) ...) l1 l2))"
   ]
  },
  {
   "cell_type": "markdown",
   "id": "de3e266b-6932-4791-80b4-599b1feba7e3",
   "metadata": {},
   "source": [
    "### Questão 5\n",
    "Complete a função `zip`, semelhante à função `my-pairs` apresentada na aula [Implementando LISP em LISP](https://www.youtube.com/watch?v=yxhRQNT9FnM) utilizando `map`. \n",
    "\n",
    "Essa função recebe duas listas, `l1` e `l2`, e retorna uma lista de pares, onde cada par é formado por um elemento de `l1` e um de `l2`, emparelhados de acordo com suas posições."
   ]
  },
  {
   "cell_type": "code",
   "execution_count": null,
   "id": "9e825777-3566-4c4e-b17a-56cec0e43f66",
   "metadata": {
    "trusted": true,
    "vscode": {
     "languageId": "scheme"
    }
   },
   "outputs": [],
   "source": [
    "(define (zip l1 l2)\n",
    "  (map (lambda (x y) ...) l1 l2))"
   ]
  },
  {
   "cell_type": "markdown",
   "id": "fc5bec0a-781e-4308-9243-dfaa4a785319",
   "metadata": {},
   "source": [
    "## Definindo novas funções de ordem superior\n",
    "\n",
    "Para definir funções de ordem superior, criamos uma função que recebe pelo menos uma função ou retorna uma função.\n",
    "\n",
    "Por exemplo, a função `comp` abaixo recebe duas funções `f` e `g`, que recebem somente 1 argumento e retornam somente 1 valor, e retorna uma função equivalente a `f(g(x))`. "
   ]
  },
  {
   "cell_type": "code",
   "execution_count": null,
   "id": "0e5e1a81-b96f-471a-b2da-721b0846e55c",
   "metadata": {
    "trusted": true,
    "vscode": {
     "languageId": "scheme"
    }
   },
   "outputs": [],
   "source": [
    "(define (comp f g)\n",
    "  (lambda (x) (f (g x))))"
   ]
  },
  {
   "cell_type": "code",
   "execution_count": null,
   "id": "3c0d67f0-131d-4d24-9c32-714c5dbd94b2",
   "metadata": {
    "trusted": true,
    "vscode": {
     "languageId": "scheme"
    }
   },
   "outputs": [],
   "source": [
    "(map (comp (lambda (x) (* 2 x)) 1+) '(1 2 3))"
   ]
  },
  {
   "cell_type": "markdown",
   "id": "be241c2f-6bd7-4682-9602-cc89265fecba",
   "metadata": {},
   "source": [
    "### Uma versão reduzida de `map`\n",
    "\n",
    "Podemos implementar uma função `map-1`, que é uma versão reduzida de `map`, recebendo apenas uma função `f`, que recebe apenas um argumento, e uma lista `l`, aplicando `f` para cada elemento de `l`. da seguinte maneira:"
   ]
  },
  {
   "cell_type": "code",
   "execution_count": null,
   "id": "40ece01e-02aa-4501-8e64-f747e68ffac0",
   "metadata": {
    "trusted": true,
    "vscode": {
     "languageId": "scheme"
    }
   },
   "outputs": [],
   "source": [
    "(define (map-1 f l)\n",
    "  (if (null? l)\n",
    "      '()\n",
    "      (cons (f (car l))\n",
    "            (map-1 f (cdr l)))))"
   ]
  },
  {
   "cell_type": "markdown",
   "id": "ba03126a-1013-4e6d-9ee9-ffdc8231043d",
   "metadata": {},
   "source": [
    "## Optimização de chamadas de cauda (Tail call optimization)\n",
    "\n",
    "É comum que compiladores de linguagens funcionais realizem uma otimização conhecida como **tail call optimization (TCO)**, que consiste em reutilizar o *stack frame* atual quando a ação final de uma função (seu retorno) é chamar outra (ou a si mesma).\n",
    "\n",
    "Isso impede que a memória \"exploda\" durante a execução de programas recursivos."
   ]
  },
  {
   "cell_type": "markdown",
   "id": "b9ae9730-a0d8-407b-a258-1044af748fc9",
   "metadata": {},
   "source": [
    "### Exemplo:\n",
    "A implementação:\n",
    "```scheme\n",
    "(define (soma-lista l)\n",
    "  (if (null? l)\n",
    "      0\n",
    "      (+ (car l) (soma-lista (cdr l)))))\n",
    "```\n",
    "\n",
    "Não sofre otimização de cauda, pois ocorre uma chamada recursiva da função `soma-lista` dentro da função `+`. Funções assim são chamadas de funções **recursivas**."
   ]
  },
  {
   "cell_type": "markdown",
   "id": "784ce4c0-614a-476d-87d6-e1b13b8d8263",
   "metadata": {},
   "source": [
    "### Transformando de **recursivo** para **iterativo**\n",
    "\n",
    "Existem diversas técnicas para transformar funções **recursivas** em **iterativas** (quando possível). A mais comum é a criação de uma função interna e de um acumulador (normalmente chamado de `acc`).\n",
    "\n",
    "Por exemplo, a versão iterativa da função `soma-lista` seria:\n",
    "\n",
    "```scheme\n",
    "(define (soma-lista l)\n",
    "  (define (iter l acc)\n",
    "    (if (null? l)\n",
    "         acc\n",
    "         (iter (cdr l) (+ (car l) acc))))\n",
    "   (iter l 0))\n",
    "```\n",
    "\n",
    "Essa função sofre otimização de chamada de cauda e, por conta disso, é mais rápida e eficaz em espaço do que a implementação recursiva!"
   ]
  },
  {
   "cell_type": "markdown",
   "id": "8cd2d13b-a869-4bd5-8d69-f83e4d3f1dcb",
   "metadata": {},
   "source": [
    "### Questão 6\n",
    "Escreva uma versão **recursiva** da função fatorial, definida como:\n",
    "\n",
    "```\n",
    "fatorial(n) = n * fatorial(n - 1) se n > 0\n",
    "fatorial(n) = 1                   caso contrário\n",
    "```"
   ]
  },
  {
   "cell_type": "code",
   "execution_count": null,
   "id": "b43b154a-8e2e-4dba-9d3a-46ba878a79c8",
   "metadata": {
    "trusted": true,
    "vscode": {
     "languageId": "scheme"
    }
   },
   "outputs": [],
   "source": [
    "(define (fact-recur n)\n",
    "  ...)"
   ]
  },
  {
   "cell_type": "markdown",
   "id": "146fc260-e21f-45ab-a38a-a3846bd8f113",
   "metadata": {},
   "source": [
    "### Questão 7\n",
    "Seguindo o padrão definido em *Transformando de **recursivo** para **iterativo***, defina uma versão **recursiva** da função fatorial anterior"
   ]
  },
  {
   "cell_type": "code",
   "execution_count": null,
   "id": "3f1ebf02-a0c1-4ddd-b438-c69be15154fd",
   "metadata": {
    "trusted": true,
    "vscode": {
     "languageId": "scheme"
    }
   },
   "outputs": [],
   "source": [
    "(define (fact-iter n)\n",
    "  ...)"
   ]
  },
  {
   "cell_type": "markdown",
   "id": "7ca4d2bd-bef8-466d-b924-7999c72063da",
   "metadata": {},
   "source": [
    "### Questão 8\n",
    "\n",
    "Complete a função `accumulate` a seguir. Ela recebe como argumentos uma função `f`, que recebe dois argumentos, um acumulador `acc` e uma lista `l`, aplicando, repetidamente, `f` em `acc` e no próximo elemento de `l`, retornando `acc` quando `l` é vazia `'()`."
   ]
  },
  {
   "cell_type": "code",
   "execution_count": null,
   "id": "20a5765e-3e49-405a-8489-1c5e458dfda8",
   "metadata": {
    "trusted": true,
    "vscode": {
     "languageId": "scheme"
    }
   },
   "outputs": [],
   "source": [
    "(define (accumulate f acc l)\n",
    "  (if ?\n",
    "      ??\n",
    "      (accumulate f ??? (cdr l))))"
   ]
  },
  {
   "cell_type": "markdown",
   "id": "df91c6d3-1445-4c8d-ae05-e3727052acae",
   "metadata": {},
   "source": [
    "### Questão 9 ☠️\n",
    "Implemente a versão iterativa da função `accumulate`"
   ]
  },
  {
   "cell_type": "code",
   "execution_count": null,
   "id": "6460409b-44b2-477e-aeda-f054c704db14",
   "metadata": {
    "trusted": true,
    "vscode": {
     "languageId": "scheme"
    }
   },
   "outputs": [],
   "source": [
    "(define (accumulate-recur f acc l)\n",
    "  ...)"
   ]
  },
  {
   "cell_type": "markdown",
   "id": "58617f7f-b591-4381-9ecf-6bf36174be56",
   "metadata": {},
   "source": [
    "### Questão 10 ☠️☠️\n",
    "Implemente `map-1` utilizando `accumulate` e `reverse`."
   ]
  },
  {
   "cell_type": "code",
   "execution_count": null,
   "id": "0223940d-79a0-40f7-9075-6b8ed690ec89",
   "metadata": {
    "trusted": true,
    "vscode": {
     "languageId": "scheme"
    }
   },
   "outputs": [],
   "source": [
    "(define (map-1 f l)\n",
    "  ...)"
   ]
  },
  {
   "cell_type": "markdown",
   "id": "16f85bc2-155f-44c5-b620-9bc8c5eed0bb",
   "metadata": {},
   "source": [
    "## Loops e funções iterativas\n",
    "\n",
    "Funções com recursão de cauda, após serem compiladas, se tornam semelhantes a um loop `while` ou `for` de linguagens imperativas.\n",
    "\n",
    "Na verdade, essa técnica deu origem aos `loops` de linguagens imperativas, sendo conhecidas como [**funções recursivas primitivas**](https://en.wikipedia.org/wiki/Primitive_recursive_function) e já eram discutidas no cálculo lambda."
   ]
  },
  {
   "cell_type": "markdown",
   "id": "76a5d124-06a6-4030-b293-c0a38fdf60a4",
   "metadata": {},
   "source": [
    "### Questão 11\n",
    "Complete a função `for`, que recebe uma função `pred?`, que recebe um argumento e retorna um valor verdadeiro caso uma condição seja obedecida, e `#f` caso contrário, e uma função `body`, que recebe um argumento e `x`, que será o argumento em comum para `pred?` e `body`. Essa função aplicará `body` em chamadas iterativas de `while` até que `pred?` seja `#f`"
   ]
  },
  {
   "cell_type": "code",
   "execution_count": null,
   "id": "059e9fff-0da1-4f68-a14b-5c499da75930",
   "metadata": {
    "trusted": true,
    "vscode": {
     "languageId": "scheme"
    }
   },
   "outputs": [],
   "source": [
    "(define (for pred? body x)\n",
    "  (if (? x)\n",
    "      (?? ? ??? (??? x))\n",
    "      (??? x)))"
   ]
  },
  {
   "cell_type": "markdown",
   "id": "fedac4d9-7f06-47e2-acc0-36bc5c53fff4",
   "metadata": {},
   "source": [
    "Espera-se que a aplicação\n",
    "```scheme\n",
    "(for (lambda (x) (< x 5))                                  ; pred?\n",
    "     (lambda (x) (format #t \"~A -> ~A\\n\" x (1+ x)) (1+ x)) ; body\n",
    "     -1)                                                   ; x\n",
    "```\n",
    "retorne:\n",
    "```\n",
    "-1 -> 0\n",
    "0 -> 1\n",
    "1 -> 2\n",
    "2 -> 3\n",
    "3 -> 4\n",
    "4 -> 5\n",
    "5 -> 6\n",
    "6\n",
    "```"
   ]
  },
  {
   "cell_type": "markdown",
   "id": "6cb841cc-2237-4654-b0ad-fae4d6b33de5",
   "metadata": {},
   "source": [
    "### Questão 12\n",
    "Essa implementação possui limitações? Se sim, liste pelo menos três.\n"
   ]
  },
  {
   "cell_type": "markdown",
   "id": "6f5a4434-684e-4e3e-8184-e96e693a4e63",
   "metadata": {},
   "source": []
  },
  {
   "cell_type": "markdown",
   "id": "fcf5692c-948c-4c35-ae0a-846af2c1c19a",
   "metadata": {},
   "source": [
    "### Questão 13\n",
    "É possível implementar uma função `for`, em Scheme com funcionalidade idêntica à do `C` utilizando somente funções? Se sim, como fazer isso? Caso não seja possível, por quê?"
   ]
  },
  {
   "cell_type": "markdown",
   "id": "3153e4f2-03f2-498a-aad1-c774fc9bbf87",
   "metadata": {},
   "source": []
  }
 ],
 "metadata": {
  "kernelspec": {
   "display_name": "Guile",
   "language": "scheme",
   "name": "guile"
  },
  "language_info": {
   "codemirror_mode": "scheme",
   "file_extension": ".scm",
   "mimetype": "application/x-scheme",
   "name": "guile",
   "pygments_lexer": "scheme",
   "version": "3.0.0"
  }
 },
 "nbformat": 4,
 "nbformat_minor": 5
}
