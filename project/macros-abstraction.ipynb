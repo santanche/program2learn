{
 "cells": [
  {
   "cell_type": "markdown",
   "id": "11eda784",
   "metadata": {
    "vscode": {
     "languageId": "scheme"
    }
   },
   "source": [
    "# Criando Primitivas SQL-like"
   ]
  },
  {
   "cell_type": "markdown",
   "id": "eba0f371",
   "metadata": {
    "vscode": {
     "languageId": "scheme"
    }
   },
   "source": [
    "## Criando um Lista de Associação\n",
    "\n",
    "A lista representa o esquema de um conjunto de dados."
   ]
  },
  {
   "cell_type": "code",
   "execution_count": 243,
   "id": "8d21453c",
   "metadata": {
    "vscode": {
     "languageId": "scheme"
    }
   },
   "outputs": [],
   "source": [
    "(define prehistoric-schema\n",
    "  '((name . 0) (type . 1) (period . 2) (size . 3) (diet . 4)))"
   ]
  },
  {
   "cell_type": "code",
   "execution_count": 244,
   "id": "2f99dd00",
   "metadata": {
    "vscode": {
     "languageId": "scheme"
    }
   },
   "outputs": [
    {
     "data": {
      "text/plain": [
       "(type . 1)"
      ]
     },
     "execution_count": 244,
     "metadata": {
      "text/plain": "(type . 1)"
     },
     "output_type": "execute_result"
    }
   ],
   "source": [
    "(assq 'type prehistoric-schema)"
   ]
  },
  {
   "cell_type": "code",
   "execution_count": 245,
   "id": "be129ed2",
   "metadata": {
    "vscode": {
     "languageId": "scheme"
    }
   },
   "outputs": [
    {
     "data": {
      "text/plain": [
       "2"
      ]
     },
     "execution_count": 245,
     "metadata": {
      "text/plain": "2"
     },
     "output_type": "execute_result"
    }
   ],
   "source": [
    "(cdr (assq 'period prehistoric-schema))"
   ]
  },
  {
   "cell_type": "code",
   "execution_count": 246,
   "id": "ce23bd59",
   "metadata": {
    "vscode": {
     "languageId": "scheme"
    }
   },
   "outputs": [
    {
     "data": {
      "text/plain": [
       "\"Cretaceous\""
      ]
     },
     "execution_count": 246,
     "metadata": {
      "text/plain": "\"Cretaceous\""
     },
     "output_type": "execute_result"
    }
   ],
   "source": [
    "(list-ref '(\"Tyrannosaurus Rex\" \"dinosaur\" \"Cretaceous\" 12.0 \"carnivore\") 2)"
   ]
  },
  {
   "cell_type": "markdown",
   "id": "42be010a",
   "metadata": {},
   "source": [
    "## Projeção de 1 elemento (`project-1`)"
   ]
  },
  {
   "cell_type": "code",
   "execution_count": 247,
   "id": "d59a9534",
   "metadata": {
    "vscode": {
     "languageId": "scheme"
    }
   },
   "outputs": [],
   "source": [
    "(define (project-1 row column-name)\n",
    "  (let ((position (cdr (assq column-name prehistoric-schema))))\n",
    "    (list-ref row position)))"
   ]
  },
  {
   "cell_type": "code",
   "execution_count": 248,
   "id": "4295a94c",
   "metadata": {
    "vscode": {
     "languageId": "scheme"
    }
   },
   "outputs": [
    {
     "data": {
      "text/plain": [
       "\"Cretaceous\""
      ]
     },
     "execution_count": 248,
     "metadata": {
      "text/plain": "\"Cretaceous\""
     },
     "output_type": "execute_result"
    }
   ],
   "source": [
    "(project-1 '(\"Tyrannosaurus Rex\" \"dinosaur\" \"Cretaceous\" 12.0 \"carnivore\") 'period)"
   ]
  },
  {
   "cell_type": "markdown",
   "id": "e51b312d",
   "metadata": {},
   "source": [
    "## Tarefa\n",
    "\n",
    "O que vai acontecer no seguinte cenário?"
   ]
  },
  {
   "cell_type": "code",
   "execution_count": 249,
   "id": "a8ff69a3",
   "metadata": {
    "vscode": {
     "languageId": "scheme"
    }
   },
   "outputs": [],
   "source": [
    "(define (project-1 row column-name)\n",
    "  (let ((position (cdr (assq 'column-name prehistoric-schema))))\n",
    "    (list-ref 'row position)))"
   ]
  },
  {
   "cell_type": "code",
   "execution_count": 250,
   "id": "4ab46318",
   "metadata": {
    "vscode": {
     "languageId": "scheme"
    }
   },
   "outputs": [
    {
     "ename": "wrong-type-arg",
     "evalue": "(#f Wrong type to apply: ~S (Tyrannosaurus Rex) (Tyrannosaurus Rex))",
     "output_type": "error",
     "traceback": [
      "wrong-type-arg",
      "(#f Wrong type to apply: ~S (Tyrannosaurus Rex) (Tyrannosaurus Rex))"
     ]
    }
   ],
   "source": [
    "(project-1 (\"Tyrannosaurus Rex\" \"dinosaur\" \"Cretaceous\" 12.0 \"carnivore\") period)"
   ]
  },
  {
   "cell_type": "markdown",
   "id": "a6855f6d",
   "metadata": {},
   "source": [
    "## Macro `project-1`\n",
    "\n",
    "### `define-macro`"
   ]
  },
  {
   "cell_type": "code",
   "execution_count": 251,
   "id": "36d7d35b",
   "metadata": {
    "vscode": {
     "languageId": "scheme"
    }
   },
   "outputs": [],
   "source": [
    "(define-macro (project-1 row column-name)\n",
    "  `(let ((position (cdr (assq ,column-name prehistoric-schema))))\n",
    "     (list-ref ,row position)))"
   ]
  },
  {
   "cell_type": "code",
   "execution_count": 252,
   "id": "79909d96",
   "metadata": {
    "vscode": {
     "languageId": "scheme"
    }
   },
   "outputs": [
    {
     "data": {
      "text/plain": [
       "\"Cretaceous\""
      ]
     },
     "execution_count": 252,
     "metadata": {
      "text/plain": "\"Cretaceous\""
     },
     "output_type": "execute_result"
    }
   ],
   "source": [
    "(project-1 '(\"Tyrannosaurus Rex\" \"dinosaur\" \"Cretaceous\" 12.0 \"carnivore\") 'period)"
   ]
  },
  {
   "cell_type": "code",
   "execution_count": 253,
   "id": "364ebbc8",
   "metadata": {
    "vscode": {
     "languageId": "scheme"
    }
   },
   "outputs": [
    {
     "data": {
      "text/plain": [
       "\"Cretaceous\""
      ]
     },
     "execution_count": 253,
     "metadata": {
      "text/plain": "\"Cretaceous\""
     },
     "output_type": "execute_result"
    }
   ],
   "source": [
    "(let ((position (cdr (assq 'period prehistoric-schema))))\n",
    "    (list-ref '(\"Tyrannosaurus Rex\" \"dinosaur\" \"Cretaceous\" 12.0 \"carnivore\") position)))"
   ]
  },
  {
   "cell_type": "code",
   "execution_count": 254,
   "id": "1fdd55bd",
   "metadata": {
    "vscode": {
     "languageId": "scheme"
    }
   },
   "outputs": [],
   "source": [
    "(define-macro (project-1 row column-name)\n",
    "  `(let ((position (cdr (assq ',column-name prehistoric-schema))))\n",
    "     (list-ref ',row position)))"
   ]
  },
  {
   "cell_type": "code",
   "execution_count": 255,
   "id": "23dc8644",
   "metadata": {
    "vscode": {
     "languageId": "scheme"
    }
   },
   "outputs": [
    {
     "data": {
      "text/plain": [
       "\"Cretaceous\""
      ]
     },
     "execution_count": 255,
     "metadata": {
      "text/plain": "\"Cretaceous\""
     },
     "output_type": "execute_result"
    }
   ],
   "source": [
    "(project-1 (\"Tyrannosaurus Rex\" \"dinosaur\" \"Cretaceous\" 12.0 \"carnivore\") period)"
   ]
  },
  {
   "cell_type": "markdown",
   "id": "08b60d0c",
   "metadata": {},
   "source": [
    "## Hygienic Macro `project-1`\n",
    "\n",
    "### `define-syntax`"
   ]
  },
  {
   "cell_type": "markdown",
   "id": "b84b194f",
   "metadata": {},
   "source": [
    "### Questão\n",
    "\n",
    "Redefina a macro `project-1` usando `define-syntax` de forma que atenda a chamada a seguir."
   ]
  },
  {
   "cell_type": "code",
   "execution_count": 256,
   "id": "de5606ae",
   "metadata": {
    "vscode": {
     "languageId": "scheme"
    }
   },
   "outputs": [],
   "source": [
    "(define-syntax project-1\n",
    " (syntax-rules ()\n",
    "  [(project-1 row column-name)\n",
    "   (let ((position (cdr (assq 'column-name prehistoric-schema))))\n",
    "     (list-ref 'row position))]))"
   ]
  },
  {
   "cell_type": "code",
   "execution_count": 257,
   "id": "f797bce4",
   "metadata": {
    "vscode": {
     "languageId": "scheme"
    }
   },
   "outputs": [
    {
     "data": {
      "text/plain": [
       "\"Cretaceous\""
      ]
     },
     "execution_count": 257,
     "metadata": {
      "text/plain": "\"Cretaceous\""
     },
     "output_type": "execute_result"
    }
   ],
   "source": [
    "(project-1 (\"Tyrannosaurus Rex\" \"dinosaur\" \"Cretaceous\" 12.0 \"carnivore\") period)"
   ]
  },
  {
   "cell_type": "markdown",
   "id": "14d146eb",
   "metadata": {},
   "source": [
    "### Questão\n",
    "\n",
    "Usando `literals` modifique a macro `project-1` anterior de forma que atenda a chamada a seguir."
   ]
  },
  {
   "cell_type": "code",
   "execution_count": 258,
   "id": "2f93e9e4",
   "metadata": {
    "vscode": {
     "languageId": "scheme"
    }
   },
   "outputs": [],
   "source": [
    "(define-syntax select-1\n",
    " (syntax-rules (from)\n",
    "  [(select-1 column-name from row)\n",
    "   (let ((position (cdr (assq 'column-name prehistoric-schema))))\n",
    "     (list-ref 'row position))]))"
   ]
  },
  {
   "cell_type": "code",
   "execution_count": 259,
   "id": "0476bcf8",
   "metadata": {
    "vscode": {
     "languageId": "scheme"
    }
   },
   "outputs": [
    {
     "data": {
      "text/plain": [
       "\"Cretaceous\""
      ]
     },
     "execution_count": 259,
     "metadata": {
      "text/plain": "\"Cretaceous\""
     },
     "output_type": "execute_result"
    }
   ],
   "source": [
    "(select-1 period from (\"Tyrannosaurus Rex\" \"dinosaur\" \"Cretaceous\" 12.0 \"carnivore\"))"
   ]
  },
  {
   "cell_type": "markdown",
   "id": "336f02dc",
   "metadata": {},
   "source": [
    "## Organizando o Conceito de Tabela"
   ]
  },
  {
   "cell_type": "code",
   "execution_count": 260,
   "id": "d36b39fe",
   "metadata": {
    "vscode": {
     "languageId": "scheme"
    }
   },
   "outputs": [],
   "source": [
    "(define prehistoric-schema\n",
    "  '(name type period size diet))"
   ]
  },
  {
   "cell_type": "code",
   "execution_count": 261,
   "id": "aa5d1caa",
   "metadata": {
    "vscode": {
     "languageId": "scheme"
    }
   },
   "outputs": [],
   "source": [
    "(define prehistoric-data\n",
    "  '((\"Tyrannosaurus Rex\" \"dinosaur\" \"Cretaceous\" 12.0 \"carnivore\")\n",
    "    (\"Pteranodon\"        \"pterosaur\" \"Cretaceous\" 7.0  \"carnivore\")\n",
    "    (\"Mosasaurus\"        \"aquatic\"   \"Cretaceous\" 18.0 \"carnivore\")\n",
    "    (\"Stegosaurus\"       \"dinosaur\"  \"Jurassic\"   9.0  \"herbivore\")\n",
    "    (\"Plesiosaurus\"      \"aquatic\"   \"Jurassic\"   3.5  \"carnivore\")\n",
    "    (\"Triceratops\"       \"dinosaur\"  \"Cretaceous\" 9.0  \"herbivore\")\n",
    "    (\"Quetzalcoatlus\"    \"pterosaur\" \"Cretaceous\" 11.0 \"carnivore\")\n",
    "    (\"Ichthyosaurus\"     \"aquatic\"   \"Jurassic\"   2.0  \"carnivore\")))"
   ]
  },
  {
   "cell_type": "markdown",
   "id": "74b57af7",
   "metadata": {},
   "source": [
    "### Definindo `create-table`\n",
    "* função de ordem superior que empacota esquema e dados e os recupera através da função retornada;\n",
    "* o princípio de closure mantém a função atrelada aos dados."
   ]
  },
  {
   "cell_type": "code",
   "execution_count": 262,
   "id": "a5f65354",
   "metadata": {
    "vscode": {
     "languageId": "scheme"
    }
   },
   "outputs": [],
   "source": [
    "(define (create-table schema data)\n",
    "  (let ((table-schema schema)\n",
    "        (indexed-schema (map cons schema (iota (length schema))))\n",
    "        (table-data data))\n",
    "    (define (dispatch part)\n",
    "      (case part\n",
    "        ((schema) table-schema)\n",
    "        ((indexed-schema) indexed-schema)\n",
    "        ((data) table-data)\n",
    "        (else (error \"Unknown part:\" part))))\n",
    "    dispatch))"
   ]
  },
  {
   "cell_type": "code",
   "execution_count": 263,
   "id": "5d8db7b1",
   "metadata": {
    "vscode": {
     "languageId": "scheme"
    }
   },
   "outputs": [],
   "source": [
    "(define prehistoric-table (create-table prehistoric-schema prehistoric-data))"
   ]
  },
  {
   "cell_type": "code",
   "execution_count": 264,
   "id": "3975e865",
   "metadata": {
    "vscode": {
     "languageId": "scheme"
    }
   },
   "outputs": [
    {
     "data": {
      "text/plain": [
       "(name type period size diet)"
      ]
     },
     "execution_count": 264,
     "metadata": {
      "text/plain": "(name type period size diet)"
     },
     "output_type": "execute_result"
    }
   ],
   "source": [
    "(prehistoric-table 'schema)"
   ]
  },
  {
   "cell_type": "code",
   "execution_count": 265,
   "id": "7bf1d967",
   "metadata": {
    "vscode": {
     "languageId": "scheme"
    }
   },
   "outputs": [
    {
     "data": {
      "text/plain": [
       "((name . 0) (type . 1) (period . 2) (size . 3) (diet . 4))"
      ]
     },
     "execution_count": 265,
     "metadata": {
      "text/plain": "((name . 0) (type . 1) (period . 2) (size . 3) (diet . 4))"
     },
     "output_type": "execute_result"
    }
   ],
   "source": [
    "(prehistoric-table 'indexed-schema)"
   ]
  },
  {
   "cell_type": "code",
   "execution_count": 266,
   "id": "ebf3f72d",
   "metadata": {
    "vscode": {
     "languageId": "scheme"
    }
   },
   "outputs": [
    {
     "data": {
      "text/plain": [
       "((\"Tyrannosaurus Rex\" \"dinosaur\" \"Cretaceous\" 12.0 \"carnivore\") (\"Pteranodon\" \"pterosaur\" \"Cretaceous\" 7.0 \"carnivore\") (\"Mosasaurus\" \"aquatic\" \"Cretaceous\" 18.0 \"carnivore\") (\"Stegosaurus\" \"dinosaur\" \"Jurassic\" 9.0 \"herbivore\") (\"Plesiosaurus\" \"aquatic\" \"Jurassic\" 3.5 \"carnivore\") (\"Triceratops\" \"dinosaur\" \"Cretaceous\" 9.0 \"herbivore\") (\"Quetzalcoatlus\" \"pterosaur\" \"Cretaceous\" 11.0 \"carnivore\") (\"Ichthyosaurus\" \"aquatic\" \"Jurassic\" 2.0 \"carnivore\"))"
      ]
     },
     "execution_count": 266,
     "metadata": {
      "text/plain": "((\"Tyrannosaurus Rex\" \"dinosaur\" \"Cretaceous\" 12.0 \"carnivore\") (\"Pteranodon\" \"pterosaur\" \"Cretaceous\" 7.0 \"carnivore\") (\"Mosasaurus\" \"aquatic\" \"Cretaceous\" 18.0 \"carnivore\") (\"Stegosaurus\" \"dinosaur\" \"Jurassic\" 9.0 \"herbivore\") (\"Plesiosaurus\" \"aquatic\" \"Jurassic\" 3.5 \"carnivore\") (\"Triceratops\" \"dinosaur\" \"Cretaceous\" 9.0 \"herbivore\") (\"Quetzalcoatlus\" \"pterosaur\" \"Cretaceous\" 11.0 \"carnivore\") (\"Ichthyosaurus\" \"aquatic\" \"Jurassic\" 2.0 \"carnivore\"))"
     },
     "output_type": "execute_result"
    }
   ],
   "source": [
    "(prehistoric-table 'data)"
   ]
  },
  {
   "cell_type": "markdown",
   "id": "6a52ab11",
   "metadata": {},
   "source": [
    "## Definindo a Operação de Projeção como uma Macro"
   ]
  },
  {
   "cell_type": "code",
   "execution_count": 267,
   "id": "8a970adc",
   "metadata": {
    "vscode": {
     "languageId": "scheme"
    }
   },
   "outputs": [],
   "source": [
    "(define-syntax projection\n",
    "  (syntax-rules ()\n",
    "    ((projection table columns)\n",
    "      (let ((columns-proj\n",
    "            (map (lambda (col)\n",
    "                  (cdr (assq col (table 'indexed-schema))))\n",
    "                              'columns)))\n",
    "        (create-table 'columns\n",
    "          (map (lambda (row)\n",
    "                (map (lambda (col) (list-ref row col))\n",
    "                      columns-proj))\n",
    "              (table 'data)))))))"
   ]
  },
  {
   "cell_type": "code",
   "execution_count": 268,
   "id": "7683b264",
   "metadata": {
    "vscode": {
     "languageId": "scheme"
    }
   },
   "outputs": [],
   "source": [
    "(define sub-table (projection prehistoric-table (name type)))"
   ]
  },
  {
   "cell_type": "code",
   "execution_count": 269,
   "id": "2c21e277",
   "metadata": {
    "vscode": {
     "languageId": "scheme"
    }
   },
   "outputs": [
    {
     "data": {
      "text/plain": [
       "(name type)"
      ]
     },
     "execution_count": 269,
     "metadata": {
      "text/plain": "(name type)"
     },
     "output_type": "execute_result"
    }
   ],
   "source": [
    "(sub-table 'schema)"
   ]
  },
  {
   "cell_type": "code",
   "execution_count": 270,
   "id": "1a143ca8",
   "metadata": {
    "vscode": {
     "languageId": "scheme"
    }
   },
   "outputs": [
    {
     "data": {
      "text/plain": [
       "((name . 0) (type . 1))"
      ]
     },
     "execution_count": 270,
     "metadata": {
      "text/plain": "((name . 0) (type . 1))"
     },
     "output_type": "execute_result"
    }
   ],
   "source": [
    "(sub-table 'indexed-schema)"
   ]
  },
  {
   "cell_type": "code",
   "execution_count": 271,
   "id": "79252607",
   "metadata": {
    "vscode": {
     "languageId": "scheme"
    }
   },
   "outputs": [
    {
     "data": {
      "text/plain": [
       "((\"Tyrannosaurus Rex\" \"dinosaur\") (\"Pteranodon\" \"pterosaur\") (\"Mosasaurus\" \"aquatic\") (\"Stegosaurus\" \"dinosaur\") (\"Plesiosaurus\" \"aquatic\") (\"Triceratops\" \"dinosaur\") (\"Quetzalcoatlus\" \"pterosaur\") (\"Ichthyosaurus\" \"aquatic\"))"
      ]
     },
     "execution_count": 271,
     "metadata": {
      "text/plain": "((\"Tyrannosaurus Rex\" \"dinosaur\") (\"Pteranodon\" \"pterosaur\") (\"Mosasaurus\" \"aquatic\") (\"Stegosaurus\" \"dinosaur\") (\"Plesiosaurus\" \"aquatic\") (\"Triceratops\" \"dinosaur\") (\"Quetzalcoatlus\" \"pterosaur\") (\"Ichthyosaurus\" \"aquatic\"))"
     },
     "output_type": "execute_result"
    }
   ],
   "source": [
    "(sub-table 'data)"
   ]
  },
  {
   "cell_type": "markdown",
   "id": "6405d07e",
   "metadata": {},
   "source": [
    "## Definindo a Operação de Seleção como uma Macro"
   ]
  },
  {
   "cell_type": "code",
   "execution_count": 272,
   "id": "10349825",
   "metadata": {
    "vscode": {
     "languageId": "scheme"
    }
   },
   "outputs": [],
   "source": [
    "(define-syntax selection\n",
    "  (syntax-rules ()\n",
    "    ((selection table condition)\n",
    "     (let ((schema (table 'schema))\n",
    "           (data (table 'data)))\n",
    "       (create-table schema\n",
    "         (filter (lambda (row)\n",
    "                   (apply (eval `(lambda ,schema condition) (interaction-environment)) row))\n",
    "                 data))))))"
   ]
  },
  {
   "cell_type": "code",
   "execution_count": 273,
   "id": "47c9bb52",
   "metadata": {
    "vscode": {
     "languageId": "scheme"
    }
   },
   "outputs": [],
   "source": [
    "(define large-creatures (selection prehistoric-table (> size 9)))"
   ]
  },
  {
   "cell_type": "code",
   "execution_count": 274,
   "id": "62ac2737",
   "metadata": {
    "vscode": {
     "languageId": "scheme"
    }
   },
   "outputs": [
    {
     "data": {
      "text/plain": [
       "((\"Tyrannosaurus Rex\" \"dinosaur\" \"Cretaceous\" 12.0 \"carnivore\") (\"Mosasaurus\" \"aquatic\" \"Cretaceous\" 18.0 \"carnivore\") (\"Quetzalcoatlus\" \"pterosaur\" \"Cretaceous\" 11.0 \"carnivore\"))"
      ]
     },
     "execution_count": 274,
     "metadata": {
      "text/plain": "((\"Tyrannosaurus Rex\" \"dinosaur\" \"Cretaceous\" 12.0 \"carnivore\") (\"Mosasaurus\" \"aquatic\" \"Cretaceous\" 18.0 \"carnivore\") (\"Quetzalcoatlus\" \"pterosaur\" \"Cretaceous\" 11.0 \"carnivore\"))"
     },
     "output_type": "execute_result"
    }
   ],
   "source": [
    "(large-creatures 'data)"
   ]
  },
  {
   "cell_type": "markdown",
   "id": "0ca1fe71",
   "metadata": {},
   "source": [
    "## Montando as Operações em uma operação de SELECT SQL-like"
   ]
  },
  {
   "cell_type": "code",
   "execution_count": 275,
   "id": "4a4e87c1",
   "metadata": {
    "vscode": {
     "languageId": "scheme"
    }
   },
   "outputs": [],
   "source": [
    "(define-syntax select\n",
    "  (syntax-rules (from where)\n",
    "    ((select columns from table where condition)\n",
    "     (projection (selection table condition) columns))))"
   ]
  },
  {
   "cell_type": "code",
   "execution_count": 276,
   "id": "4818a250",
   "metadata": {
    "vscode": {
     "languageId": "scheme"
    }
   },
   "outputs": [],
   "source": [
    "(define large-types (select (name type) from prehistoric-table where (> size 9)))"
   ]
  },
  {
   "cell_type": "code",
   "execution_count": 277,
   "id": "987f39e0",
   "metadata": {
    "vscode": {
     "languageId": "scheme"
    }
   },
   "outputs": [
    {
     "data": {
      "text/plain": [
       "(name type)"
      ]
     },
     "execution_count": 277,
     "metadata": {
      "text/plain": "(name type)"
     },
     "output_type": "execute_result"
    }
   ],
   "source": [
    "(large-types 'schema)"
   ]
  },
  {
   "cell_type": "code",
   "execution_count": 278,
   "id": "477d1641",
   "metadata": {
    "vscode": {
     "languageId": "scheme"
    }
   },
   "outputs": [
    {
     "data": {
      "text/plain": [
       "((\"Tyrannosaurus Rex\" \"dinosaur\") (\"Mosasaurus\" \"aquatic\") (\"Quetzalcoatlus\" \"pterosaur\"))"
      ]
     },
     "execution_count": 278,
     "metadata": {
      "text/plain": "((\"Tyrannosaurus Rex\" \"dinosaur\") (\"Mosasaurus\" \"aquatic\") (\"Quetzalcoatlus\" \"pterosaur\"))"
     },
     "output_type": "execute_result"
    }
   ],
   "source": [
    "(large-types 'data)"
   ]
  }
 ],
 "metadata": {
  "kernelspec": {
   "display_name": "Guile",
   "language": "scheme",
   "name": "guile"
  },
  "language_info": {
   "codemirror_mode": "scheme",
   "file_extension": ".scm",
   "mimetype": "application/x-scheme",
   "name": "guile",
   "pygments_lexer": "scheme",
   "version": "3.0.0"
  }
 },
 "nbformat": 4,
 "nbformat_minor": 5
}
