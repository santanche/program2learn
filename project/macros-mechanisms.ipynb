{
 "cells": [
  {
   "cell_type": "markdown",
   "id": "88e00101",
   "metadata": {},
   "source": [
    "# Mecanismos para Macros"
   ]
  },
  {
   "cell_type": "markdown",
   "id": "f7a7d2ff",
   "metadata": {},
   "source": [
    "## Lista Imprópria\n",
    "\n",
    "não termina com lista vazia\n",
    "\n",
    "`x -> y`"
   ]
  },
  {
   "cell_type": "code",
   "execution_count": 11,
   "id": "aadc0b6d",
   "metadata": {
    "vscode": {
     "languageId": "scheme"
    }
   },
   "outputs": [
    {
     "data": {
      "text/plain": [
       "(x . y)"
      ]
     },
     "execution_count": 11,
     "metadata": {
      "text/plain": "(x . y)"
     },
     "output_type": "execute_result"
    }
   ],
   "source": [
    "'(x . y)"
   ]
  },
  {
   "cell_type": "code",
   "execution_count": 12,
   "id": "516c8bce",
   "metadata": {
    "vscode": {
     "languageId": "scheme"
    }
   },
   "outputs": [
    {
     "data": {
      "text/plain": [
       "(x . y)"
      ]
     },
     "execution_count": 12,
     "metadata": {
      "text/plain": "(x . y)"
     },
     "output_type": "execute_result"
    }
   ],
   "source": [
    "(cons 'x 'y)"
   ]
  },
  {
   "cell_type": "markdown",
   "id": "a011a9bd",
   "metadata": {},
   "source": [
    "## Lista Adequada (Proper List)"
   ]
  },
  {
   "cell_type": "code",
   "execution_count": 13,
   "id": "abaa72bc",
   "metadata": {
    "vscode": {
     "languageId": "scheme"
    }
   },
   "outputs": [
    {
     "data": {
      "text/plain": [
       "(x)"
      ]
     },
     "execution_count": 13,
     "metadata": {
      "text/plain": "(x)"
     },
     "output_type": "execute_result"
    }
   ],
   "source": [
    "'( x . () )"
   ]
  },
  {
   "cell_type": "code",
   "execution_count": 14,
   "id": "4128cacb",
   "metadata": {
    "vscode": {
     "languageId": "scheme"
    }
   },
   "outputs": [
    {
     "data": {
      "text/plain": [
       "(x)"
      ]
     },
     "execution_count": 14,
     "metadata": {
      "text/plain": "(x)"
     },
     "output_type": "execute_result"
    }
   ],
   "source": [
    "(cons 'x '())"
   ]
  },
  {
   "cell_type": "code",
   "execution_count": 15,
   "id": "9ba36acb",
   "metadata": {
    "vscode": {
     "languageId": "scheme"
    }
   },
   "outputs": [
    {
     "data": {
      "text/plain": [
       "(x y)"
      ]
     },
     "execution_count": 15,
     "metadata": {
      "text/plain": "(x y)"
     },
     "output_type": "execute_result"
    }
   ],
   "source": [
    "'( x . (y . () ) )"
   ]
  },
  {
   "cell_type": "code",
   "execution_count": 16,
   "id": "682d5ae0",
   "metadata": {
    "vscode": {
     "languageId": "scheme"
    }
   },
   "outputs": [
    {
     "data": {
      "text/plain": [
       "(x y)"
      ]
     },
     "execution_count": 16,
     "metadata": {
      "text/plain": "(x y)"
     },
     "output_type": "execute_result"
    }
   ],
   "source": [
    "( cons 'x (cons 'y '() ) )"
   ]
  },
  {
   "cell_type": "code",
   "execution_count": 17,
   "id": "55b71dad",
   "metadata": {
    "vscode": {
     "languageId": "scheme"
    }
   },
   "outputs": [
    {
     "data": {
      "text/plain": [
       "(x y)"
      ]
     },
     "execution_count": 17,
     "metadata": {
      "text/plain": "(x y)"
     },
     "output_type": "execute_result"
    }
   ],
   "source": [
    "'(x y)"
   ]
  },
  {
   "cell_type": "code",
   "execution_count": 18,
   "id": "dbc43b5a",
   "metadata": {
    "vscode": {
     "languageId": "scheme"
    }
   },
   "outputs": [],
   "source": [
    "(define (soma a b)\n",
    "  (+ a b))"
   ]
  },
  {
   "cell_type": "code",
   "execution_count": 19,
   "id": "697884e5",
   "metadata": {
    "vscode": {
     "languageId": "scheme"
    }
   },
   "outputs": [
    {
     "data": {
      "text/plain": [
       "7"
      ]
     },
     "execution_count": 19,
     "metadata": {
      "text/plain": "7"
     },
     "output_type": "execute_result"
    }
   ],
   "source": [
    "(+ 3 4)"
   ]
  },
  {
   "cell_type": "code",
   "execution_count": 20,
   "id": "90a8a8ac",
   "metadata": {
    "vscode": {
     "languageId": "scheme"
    }
   },
   "outputs": [],
   "source": [
    "(define (como-lista args )\n",
    "  args )"
   ]
  },
  {
   "cell_type": "code",
   "execution_count": 21,
   "id": "c3117543",
   "metadata": {
    "vscode": {
     "languageId": "scheme"
    }
   },
   "outputs": [
    {
     "data": {
      "text/plain": [
       "(3 4 5)"
      ]
     },
     "execution_count": 21,
     "metadata": {
      "text/plain": "(3 4 5)"
     },
     "output_type": "execute_result"
    }
   ],
   "source": [
    "(como-lista '(3 4 5) )"
   ]
  },
  {
   "cell_type": "code",
   "execution_count": 22,
   "id": "73b63de7",
   "metadata": {
    "vscode": {
     "languageId": "scheme"
    }
   },
   "outputs": [],
   "source": [
    "(define (transforma-lista . args)\n",
    "  args)"
   ]
  },
  {
   "cell_type": "code",
   "execution_count": 23,
   "id": "4052c60b",
   "metadata": {
    "vscode": {
     "languageId": "scheme"
    }
   },
   "outputs": [
    {
     "data": {
      "text/plain": [
       "(3 4 5)"
      ]
     },
     "execution_count": 23,
     "metadata": {
      "text/plain": "(3 4 5)"
     },
     "output_type": "execute_result"
    }
   ],
   "source": [
    "(transforma-lista 3 4 5)"
   ]
  },
  {
   "cell_type": "code",
   "execution_count": 24,
   "id": "1772a0e8",
   "metadata": {
    "vscode": {
     "languageId": "scheme"
    }
   },
   "outputs": [],
   "source": [
    "(define (monta primeiro segundo . resto)\n",
    "  (list primeiro segundo resto)\n",
    "  )"
   ]
  },
  {
   "cell_type": "code",
   "execution_count": 25,
   "id": "ed85c9ef",
   "metadata": {
    "vscode": {
     "languageId": "scheme"
    }
   },
   "outputs": [
    {
     "data": {
      "text/plain": [
       "(5 7 (8 9))"
      ]
     },
     "execution_count": 25,
     "metadata": {
      "text/plain": "(5 7 (8 9))"
     },
     "output_type": "execute_result"
    }
   ],
   "source": [
    "(monta 5 7 8 9)"
   ]
  },
  {
   "cell_type": "markdown",
   "id": "5c1eaa9d",
   "metadata": {},
   "source": [
    "## Usando o `apply` para recursão com `.`"
   ]
  },
  {
   "cell_type": "code",
   "execution_count": 26,
   "id": "84cda9cf",
   "metadata": {
    "vscode": {
     "languageId": "scheme"
    }
   },
   "outputs": [
    {
     "data": {
      "text/plain": [
       "17"
      ]
     },
     "execution_count": 26,
     "metadata": {
      "text/plain": "17"
     },
     "output_type": "execute_result"
    }
   ],
   "source": [
    "(+ 5 7 3 2)"
   ]
  },
  {
   "cell_type": "code",
   "execution_count": 27,
   "id": "a855ada0",
   "metadata": {
    "vscode": {
     "languageId": "scheme"
    }
   },
   "outputs": [
    {
     "data": {
      "text/plain": [
       "17"
      ]
     },
     "execution_count": 27,
     "metadata": {
      "text/plain": "17"
     },
     "output_type": "execute_result"
    }
   ],
   "source": [
    "(apply + '(5 7 3 2))"
   ]
  },
  {
   "cell_type": "code",
   "execution_count": 28,
   "id": "66c8e4ab",
   "metadata": {
    "vscode": {
     "languageId": "scheme"
    }
   },
   "outputs": [],
   "source": [
    "(define (generate repetition . list)\n",
    "  (if (<= repetition 0)\n",
    "      '()\n",
    "      (cons list (apply generate (- repetition 1) list))\n",
    "      )\n",
    "  )"
   ]
  },
  {
   "cell_type": "code",
   "execution_count": 29,
   "id": "71e8e5a3",
   "metadata": {
    "vscode": {
     "languageId": "scheme"
    }
   },
   "outputs": [
    {
     "data": {
      "text/plain": [
       "((8 9 10) (8 9 10) (8 9 10))"
      ]
     },
     "execution_count": 29,
     "metadata": {
      "text/plain": "((8 9 10) (8 9 10) (8 9 10))"
     },
     "output_type": "execute_result"
    }
   ],
   "source": [
    "(generate 3 8 9 10)"
   ]
  },
  {
   "cell_type": "code",
   "execution_count": 30,
   "id": "8d21453c",
   "metadata": {
    "vscode": {
     "languageId": "scheme"
    }
   },
   "outputs": [],
   "source": [
    "(define prehistoric-schema\n",
    "  '((name . 0) (type . 1) (period . 2) (length . 3) (diet . 4)))"
   ]
  },
  {
   "cell_type": "code",
   "execution_count": 31,
   "id": "2f99dd00",
   "metadata": {
    "vscode": {
     "languageId": "scheme"
    }
   },
   "outputs": [
    {
     "data": {
      "text/plain": [
       "(type . 1)"
      ]
     },
     "execution_count": 31,
     "metadata": {
      "text/plain": "(type . 1)"
     },
     "output_type": "execute_result"
    }
   ],
   "source": [
    "(assq 'type prehistoric-schema)"
   ]
  },
  {
   "cell_type": "code",
   "execution_count": 32,
   "id": "be129ed2",
   "metadata": {
    "vscode": {
     "languageId": "scheme"
    }
   },
   "outputs": [
    {
     "data": {
      "text/plain": [
       "2"
      ]
     },
     "execution_count": 32,
     "metadata": {
      "text/plain": "2"
     },
     "output_type": "execute_result"
    }
   ],
   "source": [
    "(cdr (assq 'period prehistoric-schema))"
   ]
  },
  {
   "cell_type": "code",
   "execution_count": 33,
   "id": "ce23bd59",
   "metadata": {
    "vscode": {
     "languageId": "scheme"
    }
   },
   "outputs": [
    {
     "data": {
      "text/plain": [
       "\"Cretaceous\""
      ]
     },
     "execution_count": 33,
     "metadata": {
      "text/plain": "\"Cretaceous\""
     },
     "output_type": "execute_result"
    }
   ],
   "source": [
    "(list-ref '(\"Tyrannosaurus Rex\" \"dinosaur\" \"Cretaceous\" 12.0 \"carnivore\") 2)"
   ]
  },
  {
   "cell_type": "markdown",
   "id": "918064ea",
   "metadata": {},
   "source": [
    "## Usando `iota` para produzir pares `(coluna . posição)` automaticamente"
   ]
  },
  {
   "cell_type": "code",
   "execution_count": 34,
   "id": "332cb405",
   "metadata": {
    "vscode": {
     "languageId": "scheme"
    }
   },
   "outputs": [
    {
     "data": {
      "text/plain": [
       "(0 1 2 3 4)"
      ]
     },
     "execution_count": 34,
     "metadata": {
      "text/plain": "(0 1 2 3 4)"
     },
     "output_type": "execute_result"
    }
   ],
   "source": [
    "(iota (length '(name type period length diet)))"
   ]
  },
  {
   "cell_type": "code",
   "execution_count": 35,
   "id": "3ed0cb36",
   "metadata": {
    "vscode": {
     "languageId": "scheme"
    }
   },
   "outputs": [],
   "source": [
    "(define (indexed-pairs lst)\n",
    "  (map cons lst (iota (length lst))))"
   ]
  },
  {
   "cell_type": "code",
   "execution_count": 36,
   "id": "f7cb3edd",
   "metadata": {
    "vscode": {
     "languageId": "scheme"
    }
   },
   "outputs": [
    {
     "data": {
      "text/plain": [
       "((name . 0) (type . 1) (period . 2) (length . 3) (diet . 4))"
      ]
     },
     "execution_count": 36,
     "metadata": {
      "text/plain": "((name . 0) (type . 1) (period . 2) (length . 3) (diet . 4))"
     },
     "output_type": "execute_result"
    }
   ],
   "source": [
    "(indexed-pairs '(name type period length diet))"
   ]
  },
  {
   "cell_type": "markdown",
   "id": "2a104c8c",
   "metadata": {},
   "source": []
  },
  {
   "cell_type": "code",
   "execution_count": 37,
   "id": "8039e156",
   "metadata": {
    "vscode": {
     "languageId": "scheme"
    }
   },
   "outputs": [],
   "source": [
    "(define (make-let-binding names values body)\n",
    "  (apply (eval `(lambda ,names ,body) (interaction-environment))\n",
    "         values))"
   ]
  },
  {
   "cell_type": "code",
   "execution_count": 38,
   "id": "45ab8385",
   "metadata": {
    "vscode": {
     "languageId": "scheme"
    }
   },
   "outputs": [
    {
     "data": {
      "text/plain": [
       "Tyrannosaurus Rex is a dinosaur from the Cretaceous period."
      ]
     },
     "execution_count": 38,
     "metadata": {
      "text/plain": "Tyrannosaurus Rex is a dinosaur from the Cretaceous period."
     },
     "output_type": "execute_result"
    }
   ],
   "source": [
    "(make-let-binding \n",
    "  '(name type period)\n",
    "  '(\"Tyrannosaurus Rex\" \"dinosaur\" \"Cretaceous\")\n",
    "  '(display (string-append name \" is a \" type \" from the \" period \" period.\"))\n",
    "  )"
   ]
  }
 ],
 "metadata": {
  "kernelspec": {
   "display_name": "Guile",
   "language": "scheme",
   "name": "guile"
  },
  "language_info": {
   "codemirror_mode": "scheme",
   "file_extension": ".scm",
   "mimetype": "application/x-scheme",
   "name": "guile",
   "pygments_lexer": "scheme",
   "version": "3.0.0"
  }
 },
 "nbformat": 4,
 "nbformat_minor": 5
}
