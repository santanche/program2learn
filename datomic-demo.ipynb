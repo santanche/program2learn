{
 "cells": [
  {
   "cell_type": "markdown",
   "metadata": {},
   "source": [
    "# Datomic & Datalog Demo\n",
    "\n",
    "This notebook demonstrates Datomic with Datalog queries to teach Prolog concepts.\n",
    "\n",
    "## Prolog Connections\n",
    "- **Logical Variables**: `?name`, `?course`  \n",
    "- **Declarative Style**: Describe what you want, not how to get it\n",
    "- **Rule-Based Logic**: Define relationships and let the engine find solutions\n",
    "- **Unification**: Pattern matching across data relationships"
   ]
  },
  {
   "cell_type": "code",
   "execution_count": null,
   "metadata": {},
   "outputs": [],
   "source": [
    ";; First, let's load the Datomic dependencies\n",
    "(require '[clojupyter.display :as display])\n",
    "(require '[clojupyter.misc.helper :as helper])\n",
    "(helper/add-dependencies '[com.d/peer \"1.0.7387\"])\n",
    "(require '[datomic.api :as d])"
   ]
  },
  {
   "cell_type": "markdown",
   "metadata": {},
   "source": [
    "## 1. Create In-Memory Database"
   ]
  },
  {
   "cell_type": "code",
   "execution_count": null,
   "metadata": {},
   "outputs": [],
   "source": [
    ";; 1. Define the database URI\n",
    "(def db-uri \"datomic:mem://student-courses\")\n",
    "\n",
    ";; 2. Create the database (idempotent operation)\n",
    "(d/create-database db-uri)\n",
    "\n",
    ";; 3. Now, connect to it\n",
    "(def conn (d/connect db-uri))\n",
    "(println \"✅ Connected to in-memory database\")"
   ]
  },
  {
   "cell_type": "markdown",
   "metadata": {},
   "source": [
    "## 2. Define Schema"
   ]
  },
  {
   "cell_type": "code",
   "execution_count": null,
   "metadata": {},
   "outputs": [],
   "source": [
    ";; Define our data structure\n",
    "(def schema-tx\n",
    "  [{:db/ident :student/name\n",
    "    :db/valueType :db.type/string\n",
    "    :db/cardinality :db.cardinality/one\n",
    "    :db/doc \"A student's name\"}\n",
    "   {:db/ident :student/course\n",
    "    :db/valueType :db.type/string\n",
    "    :db/cardinality :db.cardinality/many\n",
    "    :db/doc \"A course the student is taking\"}])\n",
    "\n",
    ";; Transact the schema to the database\n",
    "@(d/transact conn schema-tx)\n",
    "(println \"✅ Schema defined\")"
   ]
  },
  {
   "cell_type": "markdown",
   "metadata": {},
   "source": [
    "## 3. Add Sample Data"
   ]
  },
  {
   "cell_type": "code",
   "execution_count": null,
   "metadata": {},
   "outputs": [],
   "source": [
    ";; Add some students and their courses\n",
    "(def sample-data-tx\n",
    "  [{:student/name \"Alice\"\n",
    "    :student/course #{\"Logic 101\" \"Databases\"}}\n",
    "   {:student/name \"Bob\" \n",
    "    :student/course #{\"Logic 101\" \"Prolog\"}}\n",
    "   {:student/name \"Charlie\"\n",
    "    :student/course #{\"Databases\" \"AI\"}}\n",
    "   {:student/name \"Diana\"\n",
    "    :student/course #{\"Prolog\" \"AI\"}}])\n",
    "\n",
    "@(d/transact conn sample-data-tx)\n",
    "(println \"✅ Sample data added\")"
   ]
  },
  {
   "cell_type": "markdown",
   "metadata": {},
   "source": [
    "## 4. Basic Datalog Queries (Prolog-like)"
   ]
  },
  {
   "cell_type": "code",
   "execution_count": null,
   "metadata": {},
   "outputs": [],
   "source": [
    ";; Query 1: Find all student names\n",
    ";; Similar to Prolog: student_name(Name)\n",
    "(println \"All student names:\")\n",
    "(d/q '[:find ?name\n",
    "             :where [?e :student/name ?name]]\n",
    "           (d/db conn))"
   ]
  },
  {
   "cell_type": "code",
   "execution_count": null,
   "metadata": {},
   "outputs": [],
   "source": [
    ";; Query 2: Find students taking \"Logic 101\"\n",
    ";; Similar to Prolog: takes_course(Name, 'Logic 101')\n",
    "(println \"Students taking Logic 101:\")\n",
    "(d/q '[:find ?name\n",
    "             :where [?e :student/name ?name]\n",
    "                    [?e :student/course \"Logic 101\"]]\n",
    "           (d/db conn))"
   ]
  },
  {
   "cell_type": "code",
   "execution_count": null,
   "metadata": {},
   "outputs": [],
   "source": [
    ";; Query 3: Find students taking Prolog\n",
    "(println \"Students taking Prolog:\")\n",
    "(d/q '[:find ?name\n",
    "             :where [?e :student/name ?name]\n",
    "                    [?e :student/course \"Prolog\"]]\n",
    "           (d/db conn))"
   ]
  },
  {
   "cell_type": "markdown",
   "metadata": {},
   "source": [
    "## 5. Advanced Queries (Joins and Logic)"
   ]
  },
  {
   "cell_type": "code",
   "execution_count": null,
   "metadata": {},
   "outputs": [],
   "source": [
    ";; Query 4: Find students who share courses\n",
    ";; This demonstrates multi-variable logic like Prolog\n",
    "(println \"Students who share courses (pairs):\")\n",
    "(d/q '[:find ?name1 ?name2 ?shared-course\n",
    "             :where [?e1 :student/name ?name1]\n",
    "                    [?e2 :student/name ?name2]\n",
    "                    [?e1 :student/course ?shared-course]\n",
    "                    [?e2 :student/course ?shared-course]\n",
    "                    [(not= ?e1 ?e2)]\n",
    "                    [(< (compare ?name1 ?name2) 0)]]\n",
    "           (d/db conn))"
   ]
  },
  {
   "cell_type": "code",
   "execution_count": null,
   "metadata": {},
   "outputs": [],
   "source": [
    ";; Query 5: Find courses with multiple students\n",
    ";; Shows aggregation and grouping\n",
    "(println \"Courses with enrollment counts:\")\n",
    "(d/q '[:find ?course (count ?name)\n",
    "             :where [?e :student/name ?name]\n",
    "                    [?e :student/course ?course]]\n",
    "           (d/db conn))"
   ]
  },
  {
   "cell_type": "markdown",
   "metadata": {},
   "source": [
    "## 6. Prolog-style Rules"
   ]
  },
  {
   "cell_type": "code",
   "execution_count": null,
   "metadata": {},
   "outputs": [],
   "source": [
    ";; Define Datalog rules (similar to Prolog rules)\n",
    "(def rules\n",
    "  '[[(classmates ?name1 ?name2)\n",
    "     [?e1 :student/name ?name1]\n",
    "     [?e2 :student/name ?name2]\n",
    "     [?e1 :student/course ?course]\n",
    "     [?e2 :student/course ?course]\n",
    "     [(not= ?e1 ?e2)]]])\n",
    "\n",
    ";; Use the rule to find all classmates\n",
    "(println \"All classmates (using rules):\")\n",
    "(d/q '[:find ?name1 ?name2\n",
    "             :in $ %\n",
    "             :where (classmates ?name1 ?name2)]\n",
    "           (d/db conn) rules)"
   ]
  },
  {
   "cell_type": "markdown",
   "metadata": {},
   "source": [
    "## 7. Interactive Exploration"
   ]
  },
  {
   "cell_type": "code",
   "execution_count": null,
   "metadata": {},
   "outputs": [],
   "source": [
    ";; Students can modify this query to explore the data\n",
    ";; Try changing the course name or adding conditions\n",
    "(println \"Custom query - modify me!\")\n",
    "(d/q '[:find ?name ?course\n",
    "             :where [?e :student/name ?name]\n",
    "                    [?e :student/course ?course]\n",
    "                    [(clojure.string/includes? ?course \"AI\")]]\n",
    "           (d/db conn))"
   ]
  },
  {
   "cell_type": "markdown",
   "metadata": {},
   "source": [
    "## Summary\n",
    "\n",
    "### Prolog Concepts Demonstrated:\n",
    "- **Logical Variables**: `?name`, `?course`, `?name1`, `?name2`\n",
    "- **Facts**: Student-course relationships as database facts\n",
    "- **Queries**: Pattern matching across relationships\n",
    "- **Rules**: Defining relationship patterns (like Prolog predicates)\n",
    "- **Unification**: Joining data across multiple variables\n",
    "- **Declarative Programming**: Describing what you want, not how to compute it\n",
    "\n",
    "This demonstrates how Datalog brings Prolog-style logic programming to database queries!"
   ]
  }
 ],
 "metadata": {
  "kernelspec": {
   "display_name": "Clojure",
   "language": "clojure",
   "name": "clojure"
  },
  "language_info": {
   "file_extension": ".clj",
   "mimetype": "text/x-clojure",
   "name": "clojure",
   "version": "1.10.3"
  }
 },
 "nbformat": 4,
 "nbformat_minor": 4
}
