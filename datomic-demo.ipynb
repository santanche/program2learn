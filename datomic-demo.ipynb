{
 "cells": [
  {
   "cell_type": "markdown",
   "metadata": {},
   "source": [
    "# Datomic and Datalog Demo\n",
    "\n",
    "This notebook demonstrates using Datomic with Datalog queries to teach Prolog concepts.\n",
    "\n",
    "## Running the Example\n",
    "\n",
    "Open a terminal and run:\n",
    "```bash\n",
    "lein run\n",
    "```\n",
    "\n",
    "## Prolog Connections\n",
    "\n",
    "Datalog is inspired by Prolog and shares:\n",
    "- Logical variables (`?name`)\n",
    "- Declarative query style\n",
    "- Rule-based logic\n",
    "- Unification\n"
   ]
  },
  {
   "cell_type": "code",
   "execution_count": null,
   "metadata": {},
   "outputs": [],
   "source": [
    "!lein run"
   ]
  }
 ],
 "metadata": {
  "kernelspec": {
   "display_name": "Python 3",
   "language": "python",
   "name": "python3"
  }
 },
 "nbformat": 4,
 "nbformat_minor": 4
}
