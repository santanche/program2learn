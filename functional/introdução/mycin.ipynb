{
 "cells": [
  {
   "cell_type": "code",
   "execution_count": 6,
   "id": "6914ed4a",
   "metadata": {
    "vscode": {
     "languageId": "scheme"
    }
   },
   "outputs": [],
   "source": [
    ";;; A very small knowledge base for diagnosing infections\n",
    "(define rules\n",
    "  '(\n",
    "    (rule-1 ; Rule Name\n",
    "     (treat-with penicillin) ; Conclusion\n",
    "     0.8 ; Certainty Factor\n",
    "     ((gram-positive ?organism) ; Premise (list of conditions)\n",
    "      (shape rod ?organism)))\n",
    "\n",
    "    (rule-2\n",
    "     (gram-positive e-coli)\n",
    "     -0.9 ; Strong evidence against\n",
    "     ((stains pink ?organism)))\n",
    "\n",
    "    (rule-3\n",
    "     (gram-positive staphylococcus)\n",
    "     0.9\n",
    "     ((stains purple ?organism)\n",
    "      (shape coccus ?organism)))\n",
    "\n",
    "    (rule-4 ; A rule that asks the user for data\n",
    "     (shape ?shape ?organism)\n",
    "     1.0 ; User input is taken as certain\n",
    "     ((ask-shape ?organism ?shape))) ; Special predicate 'ask-shape'\n",
    "\n",
    "    (rule-5\n",
    "     (stains ?stain ?organism)\n",
    "     1.0\n",
    "     ((ask-stain ?organism ?stain)))\n",
    "  ))"
   ]
  },
  {
   "cell_type": "code",
   "execution_count": 7,
   "id": "14e88dd6",
   "metadata": {
    "vscode": {
     "languageId": "scheme"
    }
   },
   "outputs": [],
   "source": [
    "(define working-memory '())\n",
    "\n",
    ";; Function to add a new fact to working memory\n",
    "(define (add-fact fact cf)\n",
    "  (let ((existing (assoc fact working-memory))) ; Check if we already know this\n",
    "    (if existing\n",
    "        (set-cdr! existing (combine-cf (cdr existing) cf)) ; Combine certainty\n",
    "        (set! working-memory (cons (cons fact cf) working-memory))))) ; Add new fact\n",
    "\n",
    ";; A very simple certainty combination function (MYCIN's was more complex)\n",
    "(define (combine-cf cf-a cf-b)\n",
    "  (if (and (> cf-a 0) (> cf-b 0))\n",
    "      (+ cf-a (* cf-b (- 1 cf-a))) ; Both positive\n",
    "      (* cf-a cf-b))) ; Other cases simplified for example"
   ]
  },
  {
   "cell_type": "code",
   "execution_count": 8,
   "id": "2f4e21f2",
   "metadata": {
    "vscode": {
     "languageId": "scheme"
    }
   },
   "outputs": [],
   "source": [
    ";; The main inference function: tries to prove a goal fact\n",
    "(define (check-fact goal)\n",
    "  (display (string-append \"Trying to prove: \" (->string goal) \"\\n\"))\n",
    "  ;; First, check if it's already in working memory\n",
    "  (let ((known (assoc goal working-memory)))\n",
    "    (if known\n",
    "        (begin\n",
    "          (display (string-append \"  Already known with CF: \" (number->string (cdr known)) \"\\n\"))\n",
    "          (cdr known)) ; Return its certainty\n",
    "\n",
    "        ;; If not known, try to find a rule that concludes it\n",
    "        (let loop ((rules-to-try rules))\n",
    "          (if (null? rules-to-try)\n",
    "              0.0 ; No rules found, CF=0 (unknown)\n",
    "              (let* ((rule (car rules-to-try))\n",
    "                     (conclusion (cadr rule))\n",
    "                     (rule-cf (caddr rule))\n",
    "                     (premise (cadddr rule)))\n",
    "                ;; Check if this rule's conclusion UNIFIES with our goal\n",
    "                (if (unify conclusion goal) ; unification binds variables\n",
    "                    (let ((bindings (unify conclusion goal)))\n",
    "                      (display (string-append \"  Found rule: \" (->string (car rule)) \"\\n\"))\n",
    "                      ;; Instantiate the premise with the bindings from unification\n",
    "                      (let ((instantiated-premise (instantiate premise bindings)))\n",
    "                        ;; Try to prove ALL conditions in the premise\n",
    "                        (let ((premise-cf (check-premise instantiated-premise)))\n",
    "                          (if (> premise-cf 0)\n",
    "                              (let ((final-cf (* premise-cf rule-cf))) ; Combine rule CF with premise CF\n",
    "                                (add-fact (instantiate (list goal) bindings) final-cf) ; Add to WM\n",
    "                                (display (string-append \"  Concluded: \" (->string goal) \" with CF: \" (number->string final-cf) \"\\n\"))\n",
    "                                final-cf)\n",
    "                              (loop (cdr rules-to-try)))))) ; Premise failed, try next rule\n",
    "                    (loop (cdr rules-to-try)))))))) ; Conclusion didn't match, try next rule\n",
    ")\n",
    "\n",
    ";; Function to check a list of premises (AND them together)\n",
    "(define (check-premise premises)\n",
    "  (if (null? premises)\n",
    "      1.0 ; Empty premise is always true (CF=1)\n",
    "      (let ((cf (check-fact (car premises)))) ; Check the first condition\n",
    "        (if (<= cf 0)\n",
    "            0.0 ; If any condition is false, the whole AND is false\n",
    "            (* cf (check-premise (cdr premises))))))) ; Combine with the rest"
   ]
  },
  {
   "cell_type": "code",
   "execution_count": 9,
   "id": "f43398b3",
   "metadata": {
    "vscode": {
     "languageId": "scheme"
    }
   },
   "outputs": [],
   "source": [
    ";;; --- Simplified Unification & Support Functions ---\n",
    "(define (variable? x)\n",
    "  (and (symbol? x) (char=? (string-ref (symbol->string x) 0) #\\?)))\n",
    "\n",
    ";; A very basic unifier for this example\n",
    "(define (unify pattern fact . bindings)\n",
    "  (cond ((null? bindings) #f)\n",
    "        ((null? pattern) (if (null? fact) (car bindings) #f))\n",
    "        ((variable? (car pattern))\n",
    "         (let ((binding (assoc (car pattern) (car bindings))))\n",
    "           (if binding\n",
    "               (if (equal? (cdr binding) (car fact))\n",
    "                   (unify (cdr pattern) (cdr fact) (car bindings))\n",
    "                   #f)\n",
    "               (unify (cdr pattern) (cdr fact) (cons (cons (car pattern) (car fact)) (car bindings))))))\n",
    "        ((equal? (car pattern) (car fact))\n",
    "         (unify (cdr pattern) (cdr fact) (car bindings)))\n",
    "        (else #f)))\n",
    "\n",
    "(define (instantiate pattern bindings)\n",
    "  (map (lambda (term)\n",
    "         (if (variable? term)\n",
    "             (let ((value (assoc term bindings)))\n",
    "               (if value (cdr value) term))\n",
    "             term))\n",
    "       pattern))\n",
    "\n",
    ";;; --- Interaction with the User ---\n",
    "(define (ask-shape organism shape)\n",
    "  (display (string-append \"What is the shape of \" (->string organism) \"? (rod/coccus)\\n> \"))\n",
    "  (let ((answer (read)))\n",
    "    (if (equal? answer shape)\n",
    "        1.0\n",
    "        0.0)))\n",
    "\n",
    "(define (ask-stain organism stain)\n",
    "  (display (string-append \"What is the Gram stain of \" (->string organism) \"? (purple/pink)\\n> \"))\n",
    "  (let ((answer (read)))\n",
    "    (if (equal? answer stain)\n",
    "        1.0\n",
    "        0.0)))\n",
    "\n",
    "(define (->string obj)\n",
    "  (format #f \"~a\" obj))"
   ]
  },
  {
   "cell_type": "code",
   "execution_count": 10,
   "id": "a2d896d8",
   "metadata": {
    "vscode": {
     "languageId": "scheme"
    }
   },
   "outputs": [
    {
     "data": {
      "text/plain": [
       "Trying to prove: (treat-with penicillin)\n",
       "0.0"
      ]
     },
     "execution_count": 10,
     "metadata": {
      "text/plain": "Trying to prove: (treat-with penicillin)\n0.0"
     },
     "output_type": "execute_result"
    }
   ],
   "source": [
    ";;; --- Run the system ---\n",
    "(define (run-mycin)\n",
    "  (set! working-memory '()) ; Clear previous facts\n",
    "  (check-fact '(treat-with penicillin))) ; Set the top-level goal\n",
    "\n",
    "(run-mycin)"
   ]
  }
 ],
 "metadata": {
  "kernelspec": {
   "display_name": "Guile",
   "language": "scheme",
   "name": "guile"
  },
  "language_info": {
   "codemirror_mode": "scheme",
   "file_extension": ".scm",
   "mimetype": "application/x-scheme",
   "name": "guile",
   "pygments_lexer": "scheme",
   "version": "3.0.0"
  }
 },
 "nbformat": 4,
 "nbformat_minor": 5
}
