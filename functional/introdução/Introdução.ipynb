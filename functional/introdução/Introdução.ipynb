{
 "cells": [
  {
   "cell_type": "markdown",
   "id": "a5a257da-bea2-4f6d-a00f-f7b0391e5967",
   "metadata": {},
   "source": [
    "# Um pouco de história\n",
    "John McCarthy foi um pesquisador estadunidense que estudava, principalmente, a ideia de programas com \"senso comum\". Em suas palavras, um programa tem senso comum se ele **\"deduz para si mesmo uma classe suficientemente ampla de consequências imediatas de qualquer coisa que lhe é dito e do que já sabe\"**.\n",
    "\n",
    "Sendo assim, o senso comum em IA refere-se a um conjunto de fatos e regras sobre o cotidiano que todos os seres humanos assumem como verdades básicas e universais, por exemplo: limões são azedos, o céu é azul, praias têm areia, Lisp é a melhor linguagem...\n",
    "\n",
    "Enquanto esse tipo de conhecimento é internalizado de maneira trivial por humanos, o mesmo não pode ser dito para máquinas. Sendo assim, McCarthy buscava um formalismo lógico para o aprendizado de máquinas.\n",
    "\n",
    "Em 1959, no artigo \"Programs with Common Sense\", McCarthy propôs um programa hipotético que \"raciocinava\" por conta própria, ou seja, um programa que pudesse:\n",
    "\n",
    "* Manipular sentenças em uma linguagem formal;\n",
    "* Deduzir conclusões imediatas a partir de uma lista de regras e premissas (senso comum);\n",
    "* Executar ações quando uma sentença **imperativa** fosse deduzida;\n",
    "* Melhorar seu comportamento simplesmente recebendo novas declarações sobre seu ambiente simbólico, sem a necessidade de reprogramação explícita (daqui vem metaprogramação, mas falaremos disso depois).\n",
    "\n",
    "A abordagem desse programa era declarativa, não imperativa, pois, como vimos anteriormente, sentenças declarativas permitem o uso de conhecimento prévio, têm consequências lógicas, são menos dependentes da ordem e do estado anterior do sistema e exigem menos conhecimento interno do programa por parte de quem instrui.\n",
    "\n",
    "Um exemplo de programa seria algo como:"
   ]
  },
  {
   "cell_type": "code",
   "execution_count": 1,
   "id": "5bf5a40f-805c-497c-9190-bc48239ab949",
   "metadata": {
    "trusted": false,
    "vscode": {
     "languageId": "scheme"
    }
   },
   "outputs": [],
   "source": [
    ";; Lista de premissas:\n",
    "(define premissas\n",
    "  '((está Eu cozinha)         ; Estou na escrivaninha\n",
    "    (está cozinha casa)       ; A escrivaninha está em casa\n",
    "    (está carro garagem)      ; O carro está em casa\n",
    "    (está garagem casa)       ; A garagem fica em casa\n",
    "    (está casa Campinas)      ; A casa fica em Campinas\n",
    "    (está aeroporto Campinas) ; O Aeroporto também está em Campinas\n",
    "      \n",
    "    ;; Regras de transitividade\n",
    "    (andável casa)       ; Posso andar em casa\n",
    "    (dirigível Campinas) ; Posso dirigir por campinas\n",
    "\n",
    "    ;; Regras de ação\n",
    "    (fez (ir Casa Aeroporto Carro)) -> (está Eu Aeroporto) \n",
    "    #| Fui de Casa para Aeroporto de Carro, logo, Estou no Aeroporto. |#))"
   ]
  },
  {
   "cell_type": "code",
   "execution_count": null,
   "id": "19594937-0fd6-46ee-ae48-62eaee7300e1",
   "metadata": {
    "trusted": false,
    "vscode": {
     "languageId": "scheme"
    }
   },
   "outputs": [],
   "source": [
    ";; Adicionamos a declaração (querer (está Eu Aeroporto)) na lista de premissas:\n",
    "(advice premissas\n",
    "        '(querer (está Eu Aeroporto))) ; Quero ir para o aeroporto"
   ]
  },
  {
   "cell_type": "code",
   "execution_count": 3,
   "id": "9fb141cf-8ce6-4d4f-9a66-3d99cd261504",
   "metadata": {
    "trusted": false,
    "vscode": {
     "languageId": "scheme"
    }
   },
   "outputs": [
    {
     "data": {
      "text/plain": [
       "((está Eu Escrivaninha) -> (pode (ir Escrivaninha Carro Andando)) (está Eu Carro) -> (pode (ir Casa Aeroporto Dirigindo)) (faça (ir Escrivaninha Carro andando) (ir Casa Aeroporto Dirigindo)))"
      ]
     },
     "execution_count": 3,
     "metadata": {
      "text/plain": "((está Eu Escrivaninha) -> (pode (ir Escrivaninha Carro Andando)) (está Eu Carro) -> (pode (ir Casa Aeroporto Dirigindo)) (faça (ir Escrivaninha Carro andando) (ir Casa Aeroporto Dirigindo)))"
     },
     "output_type": "execute_result"
    }
   ],
   "source": [
    ";; A partir disso, o algoritimo deveria gerar a resposta: \n",
    "'((está Eu Escrivaninha) -> (pode (ir Escrivaninha Carro Andando))\n",
    "  ;; Posso andar da escrivaninha até o carro\n",
    "  (está Eu Carro) -> (pode (ir Casa Aeroporto Dirigindo))\n",
    "  ;; Posso ir de Casa até Aeroporto de Carro\n",
    "\n",
    "  ;;  A dedução final seria uma sentença imperativa:\n",
    "  (faça (ir Escrivaninha Carro andando)\n",
    "        (ir Casa Aeroporto Dirigindo)))"
   ]
  },
  {
   "cell_type": "markdown",
   "id": "866dde30-5bd7-40d3-9477-caa8466fed1e",
   "metadata": {},
   "source": [
    "## Resumo:\n",
    "McCarthy queria discutir um sistema que partisse de declarações, utilizasse símbolos e premissas e chegasse a uma solução logicamente viável para um dado problema. "
   ]
  },
  {
   "cell_type": "code",
   "execution_count": null,
   "id": "59b648e6-f8c2-4fce-8e89-ca14c70f272b",
   "metadata": {
    "trusted": false,
    "vscode": {
     "languageId": "scheme"
    }
   },
   "outputs": [],
   "source": []
  }
 ],
 "metadata": {
  "kernelspec": {
   "display_name": "Guile",
   "language": "scheme",
   "name": "guile"
  },
  "language_info": {
   "codemirror_mode": "scheme",
   "file_extension": ".scm",
   "mimetype": "application/x-scheme",
   "name": "guile",
   "pygments_lexer": "scheme",
   "version": "3.0.0"
  }
 },
 "nbformat": 4,
 "nbformat_minor": 5
}
