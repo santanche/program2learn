{
 "cells": [
  {
   "cell_type": "markdown",
   "id": "3adb8ee1",
   "metadata": {},
   "source": [
    "## Problema do Empréstimo\n",
    "\n",
    "Construa em Scheme um ADT:\n",
    "\n",
    "<img src=\"tad-emprestimo.png\" width=\"600px\" height=\"auto\">"
   ]
  },
  {
   "cell_type": "markdown",
   "id": "28d19538",
   "metadata": {},
   "source": [
    "## Scheme"
   ]
  },
  {
   "cell_type": "code",
   "execution_count": 1,
   "id": "db658bcd",
   "metadata": {
    "vscode": {
     "languageId": "scheme"
    }
   },
   "outputs": [],
   "source": [
    "(define (make-installment-calculator initial-value interest-rate)\n",
    "  (let ((current-value initial-value)\n",
    "        (rate interest-rate))\n",
    "    \n",
    "    (define (next-installment)\n",
    "      (let ((result current-value))\n",
    "        (set! current-value (+ current-value \n",
    "                              (* current-value (/ rate 100.0))))\n",
    "        result))\n",
    "    \n",
    "    next-installment))"
   ]
  },
  {
   "cell_type": "code",
   "execution_count": 2,
   "id": "3ec40126",
   "metadata": {
    "vscode": {
     "languageId": "scheme"
    }
   },
   "outputs": [
    {
     "data": {
      "text/plain": [
       "O valor da parcela 1 eh 200.0\n",
       "O valor da parcela 2 eh 202.0\n",
       "O valor da parcela 3 eh 204.02\n",
       "O valor da parcela 4 eh 206.0602\n",
       "O valor da parcela 5 eh 208.120802\n"
      ]
     },
     "execution_count": 2,
     "metadata": {
      "text/plain": "O valor da parcela 1 eh 200.0\nO valor da parcela 2 eh 202.0\nO valor da parcela 3 eh 204.02\nO valor da parcela 4 eh 206.0602\nO valor da parcela 5 eh 208.120802\n"
     },
     "output_type": "execute_result"
    }
   ],
   "source": [
    "(define my-next-installment (make-installment-calculator 200.0 1.0))\n",
    "\n",
    "(do ((i 1 (+ i 1)))\n",
    "  ((> i 5))\n",
    "  (display \"O valor da parcela \")\n",
    "  (display i)\n",
    "  (display \" eh \")\n",
    "  (display (my-next-installment))\n",
    "  (newline))\n"
   ]
  },
  {
   "cell_type": "markdown",
   "id": "7c32eab7",
   "metadata": {},
   "source": [
    "## Python"
   ]
  },
  {
   "cell_type": "code",
   "execution_count": null,
   "id": "aa17068a",
   "metadata": {
    "vscode": {
     "languageId": "scheme"
    }
   },
   "outputs": [],
   "source": [
    "def make_installment_calculator(initial_value, interest_rate):\n",
    "\n",
    "    current_value = initial_value\n",
    "    rate = interest_rate\n",
    "\n",
    "    def calculate_next_installment():\n",
    "        nonlocal current_value, rate\n",
    "        result = current_value\n",
    "        current_value = current_value + (current_value * (rate / 100))\n",
    "        return result\n",
    "\n",
    "    return calculate_next_installment"
   ]
  },
  {
   "cell_type": "code",
   "execution_count": null,
   "id": "79ad0ee9",
   "metadata": {
    "vscode": {
     "languageId": "scheme"
    }
   },
   "outputs": [],
   "source": [
    "my_next_installment = make_installment_calculator(200, 1)\n",
    "\n",
    "for i in range(1, 6):\n",
    "    p = my_next_installment()\n",
    "    print(f\"O valor da parcela {i} eh {p:.2f}\")"
   ]
  }
 ],
 "metadata": {
  "kernelspec": {
   "display_name": "Guile",
   "language": "scheme",
   "name": "guile"
  },
  "language_info": {
   "codemirror_mode": "scheme",
   "file_extension": ".scm",
   "mimetype": "application/x-scheme",
   "name": "guile",
   "pygments_lexer": "scheme",
   "version": "3.0.0"
  }
 },
 "nbformat": 4,
 "nbformat_minor": 5
}
