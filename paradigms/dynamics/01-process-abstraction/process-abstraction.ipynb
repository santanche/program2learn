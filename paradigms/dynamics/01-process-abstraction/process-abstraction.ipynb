{
 "cells": [
  {
   "cell_type": "markdown",
   "id": "b09977c2",
   "metadata": {},
   "source": [
    "# Elementos de Programação\n",
    "\n",
    "Mecanismos das linguagens para ideias simples em complexas:\n",
    "* expressões primitivas\n",
    "* meios de combinação\n",
    "* meios de abstração\n",
    "\n",
    "\n",
    "Baseado em:\n",
    "> Abelson, H., Sussman, G. J., & Sussman, J. (1996). Structure and Interpretation of Computer Programs (2nd ed.). MIT Press. https://mitp-content-server.mit.edu/books/content/sectbyfn/books_pres_0/6515/sicp.zip/index.html"
   ]
  },
  {
   "cell_type": "markdown",
   "id": "346d4461",
   "metadata": {},
   "source": [
    "## Expressões\n",
    "\n",
    "### Cinco ao Quadrado"
   ]
  },
  {
   "cell_type": "code",
   "execution_count": 8,
   "id": "6007b9ca",
   "metadata": {
    "vscode": {
     "languageId": "scheme"
    }
   },
   "outputs": [
    {
     "data": {
      "text/plain": [
       "25"
      ]
     },
     "execution_count": 8,
     "metadata": {
      "text/plain": "25"
     },
     "output_type": "execute_result"
    }
   ],
   "source": [
    "(* 5 5)"
   ]
  },
  {
   "cell_type": "markdown",
   "id": "e32be7b5",
   "metadata": {},
   "source": [
    "## Tarefa\n",
    "\n",
    "### Faça uma gramática que aceite expressões LISP-like, com as seguintes simplificações:\n",
    "\n",
    "1. não é recursiva (não há parêntese dentro de parêntese)\n",
    "2. cada operador só aceita dois operandos\n",
    "3. só aceita `1` e `0` (com um dígito)\n",
    "4. só aceita os operadores `+` e `-`\n",
    "\n",
    "Teste a expressão: `( + 1 0 )`\n",
    "\n",
    "Usando [LL(1) Parser Visualization](https://www.cs.princeton.edu/courses/archive/spring20/cos320/LL1/)"
   ]
  },
  {
   "cell_type": "markdown",
   "id": "09d1a1af",
   "metadata": {
    "vscode": {
     "languageId": "scheme"
    }
   },
   "source": []
  },
  {
   "cell_type": "markdown",
   "id": "b6297ade",
   "metadata": {},
   "source": [
    "## Nomeando Expressões\n",
    "\n",
    "### Definir Pi"
   ]
  },
  {
   "cell_type": "code",
   "execution_count": 10,
   "id": "98cdfb16",
   "metadata": {
    "vscode": {
     "languageId": "scheme"
    }
   },
   "outputs": [],
   "source": [
    "(define pi 3.1416)"
   ]
  },
  {
   "cell_type": "markdown",
   "id": "4311b5cf",
   "metadata": {},
   "source": [
    "### Usando Pi para calcular a área de um círculo de raio 10"
   ]
  },
  {
   "cell_type": "code",
   "execution_count": 11,
   "id": "bfb2e4c5",
   "metadata": {
    "vscode": {
     "languageId": "scheme"
    }
   },
   "outputs": [
    {
     "data": {
      "text/plain": [
       "314.15999999999997"
      ]
     },
     "execution_count": 11,
     "metadata": {
      "text/plain": "314.15999999999997"
     },
     "output_type": "execute_result"
    }
   ],
   "source": [
    "(* pi (* 10 10))"
   ]
  },
  {
   "cell_type": "markdown",
   "id": "df9aa2c2",
   "metadata": {},
   "source": [
    "## Avaliando Combinações\n",
    "\n",
    "1. avaliando sub-expressões da combinação\n",
    "2. aplicando recursivamente o resultado das sub-expressões nos argumentos\n",
    "\n",
    "> (Abelson et al., 1996)"
   ]
  },
  {
   "cell_type": "markdown",
   "id": "3028b122",
   "metadata": {},
   "source": [
    "## Tarefa\n",
    "\n",
    "Estenda a gramática anterior para que aceite sub-expressões, mantendo as demais simplificações.\n",
    "\n",
    "Teste a expressão: `( + ( + 0 1 ) ( - 1 1 ) )`"
   ]
  },
  {
   "cell_type": "markdown",
   "id": "4a7cc07b",
   "metadata": {
    "vscode": {
     "languageId": "scheme"
    }
   },
   "source": []
  },
  {
   "cell_type": "markdown",
   "id": "da7418f8",
   "metadata": {},
   "source": [
    "## Compound Procedures\n",
    "\n",
    "## Tarefa\n",
    "\n",
    "### Defina uma função `square` que eleve o argumento ao quadrado:"
   ]
  },
  {
   "cell_type": "code",
   "execution_count": null,
   "id": "6e82c779",
   "metadata": {
    "vscode": {
     "languageId": "scheme"
    }
   },
   "outputs": [],
   "source": []
  },
  {
   "cell_type": "markdown",
   "id": "598dc6d9",
   "metadata": {},
   "source": [
    "### Teste sua função:"
   ]
  },
  {
   "cell_type": "code",
   "execution_count": 14,
   "id": "c15d9c6e",
   "metadata": {
    "vscode": {
     "languageId": "scheme"
    }
   },
   "outputs": [
    {
     "data": {
      "text/plain": [
       "64"
      ]
     },
     "execution_count": 14,
     "metadata": {
      "text/plain": "64"
     },
     "output_type": "execute_result"
    }
   ],
   "source": [
    "(square 8)"
   ]
  },
  {
   "cell_type": "code",
   "execution_count": 15,
   "id": "16a2a7b0",
   "metadata": {
    "vscode": {
     "languageId": "scheme"
    }
   },
   "outputs": [
    {
     "data": {
      "text/plain": [
       "256"
      ]
     },
     "execution_count": 15,
     "metadata": {
      "text/plain": "256"
     },
     "output_type": "execute_result"
    }
   ],
   "source": [
    "(square (square 4))"
   ]
  },
  {
   "cell_type": "markdown",
   "id": "7e2420ee",
   "metadata": {},
   "source": [
    "### Usando a sua função `square`, defina uma função `hypotenuse` que calcule o cateto oposto e a hipotenusa usando a medida do cateto oposto e do adjacente:"
   ]
  },
  {
   "cell_type": "code",
   "execution_count": null,
   "id": "c32ceaec",
   "metadata": {
    "vscode": {
     "languageId": "scheme"
    }
   },
   "outputs": [],
   "source": []
  },
  {
   "cell_type": "markdown",
   "id": "5f8287fc",
   "metadata": {},
   "source": [
    "### Teste a sua função:"
   ]
  },
  {
   "cell_type": "code",
   "execution_count": 17,
   "id": "843b04e9",
   "metadata": {
    "vscode": {
     "languageId": "scheme"
    }
   },
   "outputs": [
    {
     "data": {
      "text/plain": [
       "5"
      ]
     },
     "execution_count": 17,
     "metadata": {
      "text/plain": "5"
     },
     "output_type": "execute_result"
    }
   ],
   "source": [
    "(hypotenuse 3 4)"
   ]
  },
  {
   "cell_type": "markdown",
   "id": "ef1eb6e4",
   "metadata": {},
   "source": [
    "### Usando a função `quadrado`, defina uma função `euclidian-distance-coord` que calcule a distância Euclidiana de dois pontos com coordenada (x1, y1) e (x2, y2):"
   ]
  },
  {
   "cell_type": "code",
   "execution_count": null,
   "id": "4e016c74",
   "metadata": {
    "vscode": {
     "languageId": "scheme"
    }
   },
   "outputs": [],
   "source": []
  },
  {
   "cell_type": "markdown",
   "id": "a819c690",
   "metadata": {},
   "source": [
    "### Teste sua função:"
   ]
  },
  {
   "cell_type": "code",
   "execution_count": 19,
   "id": "a1cb4c40",
   "metadata": {
    "vscode": {
     "languageId": "scheme"
    }
   },
   "outputs": [
    {
     "data": {
      "text/plain": [
       "5"
      ]
     },
     "execution_count": 19,
     "metadata": {
      "text/plain": "5"
     },
     "output_type": "execute_result"
    }
   ],
   "source": [
    "(euclidian-distance-coord 1 2 4 6)"
   ]
  },
  {
   "cell_type": "markdown",
   "id": "9fd53969",
   "metadata": {},
   "source": [
    "### Usando a `euclidian-distance-coord`, escreva uma função `euclidian-distance-origin` que calcule a distância Euclidiana de um ponto (x, y) da origem."
   ]
  },
  {
   "cell_type": "code",
   "execution_count": null,
   "id": "e9fdeb55",
   "metadata": {
    "vscode": {
     "languageId": "scheme"
    }
   },
   "outputs": [],
   "source": []
  },
  {
   "cell_type": "markdown",
   "id": "5f52d3d4",
   "metadata": {},
   "source": [
    "### Teste a sua função:"
   ]
  },
  {
   "cell_type": "code",
   "execution_count": 21,
   "id": "3cc69c92",
   "metadata": {
    "vscode": {
     "languageId": "scheme"
    }
   },
   "outputs": [
    {
     "data": {
      "text/plain": [
       "5"
      ]
     },
     "execution_count": 21,
     "metadata": {
      "text/plain": "5"
     },
     "output_type": "execute_result"
    }
   ],
   "source": [
    "(euclidian-distance-origin 3 4)"
   ]
  }
 ],
 "metadata": {
  "kernelspec": {
   "display_name": "Guile",
   "language": "scheme",
   "name": "guile"
  },
  "language_info": {
   "codemirror_mode": "scheme",
   "file_extension": ".scm",
   "mimetype": "application/x-scheme",
   "name": "guile",
   "pygments_lexer": "scheme",
   "version": "3.0.0"
  }
 },
 "nbformat": 4,
 "nbformat_minor": 5
}
