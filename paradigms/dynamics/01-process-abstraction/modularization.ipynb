{
 "cells": [
  {
   "cell_type": "markdown",
   "id": "dc75b83e",
   "metadata": {},
   "source": [
    "# Abstract Data Type (ADT)\n",
    "\n",
    "## Máquina de Empréstimo\n",
    "\n",
    "Financiamento com juros compostos e número de parcelas fixas.\n",
    "\n",
    "Dados disponíveis:\n",
    "* S - valor da primeira parcela\n",
    "* N - número de parcelas\n",
    "* J – percentual de juros mensal\n",
    "\n",
    "Cada nova parcela é sempre calculada em relação à anterior:\n",
    "Parcela[mês] = Parcela[mês-1] * (1 + J / 100)"
   ]
  },
  {
   "cell_type": "markdown",
   "id": "229c1459",
   "metadata": {},
   "source": [
    "## Programa em Python para o problema:"
   ]
  },
  {
   "cell_type": "code",
   "execution_count": 5,
   "id": "a3e926ad",
   "metadata": {},
   "outputs": [
    {
     "name": "stdout",
     "output_type": "stream",
     "text": [
      "O valor da parcela 1 eh 200.00\n",
      "O valor da parcela 2 eh 202.00\n",
      "O valor da parcela 3 eh 204.02\n",
      "O valor da parcela 4 eh 206.06\n",
      "O valor da parcela 5 eh 208.12\n"
     ]
    }
   ],
   "source": [
    "s = 200.0\n",
    "n = 5\n",
    "j = 1.0\n",
    "\n",
    "p = s\n",
    "for i in range(1, n + 1):\n",
    "    print(f\"O valor da parcela {i} eh {p:.2f}\")\n",
    "    p = p + (p * (j/100))"
   ]
  },
  {
   "cell_type": "markdown",
   "id": "52491049",
   "metadata": {},
   "source": [
    "## Estágio 1\n",
    "\n",
    "### Tarefa\n",
    "\n",
    "Considere o seguinte versão em COBOL deste programa. Construa em Python o equivalente."
   ]
  },
  {
   "cell_type": "markdown",
   "id": "df3defad",
   "metadata": {},
   "source": [
    "~~~cobol\n",
    "IDENTIFICATION DIVISION.\n",
    "       PROGRAM-ID. INSTALLMENT-CALC.\n",
    "       \n",
    "       DATA DIVISION.\n",
    "       WORKING-STORAGE SECTION.\n",
    "       01  WS-INITIAL-VALUE        PIC 9(3)V99 VALUE 200.00.\n",
    "       01  WS-NUM-INSTALLMENTS     PIC 9(2) VALUE 5.\n",
    "       01  WS-INTEREST-RATE        PIC 9V99 VALUE 1.00.\n",
    "       01  WS-CURRENT-VALUE        PIC 9(6)V99.\n",
    "       01  WS-COUNTER              PIC 9(2).\n",
    "       01  WS-DISPLAY-LINE         PIC X(50).\n",
    "       01  WS-TEMP-CALC            PIC 9(6)V99.\n",
    "       \n",
    "       PROCEDURE DIVISION.\n",
    "       MAIN-PROGRAM.\n",
    "           MOVE WS-INITIAL-VALUE TO WS-CURRENT-VALUE\n",
    "           \n",
    "           PERFORM VARYING WS-COUNTER FROM 1 BY 1 \n",
    "                   UNTIL WS-COUNTER > WS-NUM-INSTALLMENTS\n",
    "               \n",
    "               STRING \"O valor da parcela \" WS-COUNTER \n",
    "                      \" eh \" WS-CURRENT-VALUE\n",
    "                      INTO WS-DISPLAY-LINE\n",
    "               DISPLAY WS-DISPLAY-LINE\n",
    "               \n",
    "               PERFORM CALCULATE-NEXT-INSTALLMENT\n",
    "           END-PERFORM\n",
    "           \n",
    "           STOP RUN.\n",
    "       \n",
    "       CALCULATE-NEXT-INSTALLMENT.\n",
    "           COMPUTE WS-TEMP-CALC = WS-CURRENT-VALUE * \n",
    "                                  (WS-INTEREST-RATE / 100)\n",
    "           COMPUTE WS-CURRENT-VALUE = WS-CURRENT-VALUE + WS-TEMP-CALC.\n",
    "~~~"
   ]
  },
  {
   "cell_type": "markdown",
   "id": "ffaeb9aa",
   "metadata": {},
   "source": [
    "~~~cobol"
   ]
  },
  {
   "cell_type": "code",
   "execution_count": null,
   "id": "e2837d66",
   "metadata": {},
   "outputs": [],
   "source": []
  },
  {
   "cell_type": "markdown",
   "id": "491c9e4a",
   "metadata": {},
   "source": [
    "## Tarefa\n",
    "\n",
    "Relacione as vantagens e desvantagens desta versão (em Python) sobre a versão original."
   ]
  },
  {
   "cell_type": "markdown",
   "id": "d43139e7",
   "metadata": {},
   "source": []
  },
  {
   "cell_type": "markdown",
   "id": "4f8a7f88",
   "metadata": {},
   "source": [
    "## Estágio 2\n",
    "\n",
    "### Tarefa\n",
    "\n",
    "Considere o seguinte versão em FORTRAN deste programa. Construa em Python o equivalente."
   ]
  },
  {
   "cell_type": "markdown",
   "id": "f06ac76d",
   "metadata": {},
   "source": [
    "~~~fortran\n",
    "C     INSTALLMENT CALCULATOR IN FORTRAN II\n",
    "      PROGRAM INSTALL\n",
    "      \n",
    "C     VARIABLE DECLARATIONS\n",
    "      REAL S, J, P, RESULT\n",
    "      INTEGER N, I\n",
    "      \n",
    "C     INITIALIZE VALUES\n",
    "      S = 200.0\n",
    "      N = 5\n",
    "      J = 1.0\n",
    "      P = S\n",
    "      \n",
    "C     MAIN LOOP\n",
    "      DO 100 I = 1, N\n",
    "          WRITE(6,200) I, P\n",
    "200       FORMAT(' O VALOR DA PARCELA ', I2, ' EH ', F6.2)\n",
    "          P = CALCNEXT(P, J)\n",
    "100   CONTINUE\n",
    "      \n",
    "      STOP\n",
    "      END\n",
    "\n",
    "C     FUNCTION TO CALCULATE NEXT INSTALLMENT\n",
    "      FUNCTION CALCNEXT(CURVAL, RATE)\n",
    "      REAL CALCNEXT, CURVAL, RATE\n",
    "      CALCNEXT = CURVAL + (CURVAL * (RATE / 100.0))\n",
    "      RETURN\n",
    "      END\n",
    "~~~"
   ]
  },
  {
   "cell_type": "code",
   "execution_count": null,
   "id": "078de9c8",
   "metadata": {},
   "outputs": [],
   "source": []
  },
  {
   "cell_type": "markdown",
   "id": "306d6eb2",
   "metadata": {},
   "source": [
    "## Tarefa\n",
    "\n",
    "Relacione as vantagens e desvantagens desta versão em relação à anterior."
   ]
  },
  {
   "cell_type": "markdown",
   "id": "30ca6ffa",
   "metadata": {},
   "source": []
  }
 ],
 "metadata": {
  "kernelspec": {
   "display_name": "Python 3 (ipykernel)",
   "language": "python",
   "name": "python3"
  },
  "language_info": {
   "codemirror_mode": {
    "name": "ipython",
    "version": 3
   },
   "file_extension": ".py",
   "mimetype": "text/x-python",
   "name": "python",
   "nbconvert_exporter": "python",
   "pygments_lexer": "ipython3",
   "version": "3.9.23"
  }
 },
 "nbformat": 4,
 "nbformat_minor": 5
}
