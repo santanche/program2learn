{
 "cells": [
  {
   "cell_type": "code",
   "execution_count": 1,
   "id": "0f25fbb4",
   "metadata": {
    "vscode": {
     "languageId": "scheme"
    }
   },
   "outputs": [],
   "source": [
    "(define bacteria-ontology '(\n",
    "  (is-a \"V. cholerae\" \"Vibrio\")\n",
    "  (is-a \"P. aeruginosa\" \"Pseudomonas\")\n",
    "  (is-a \"S. typhi\" \"Salmonella\")\n",
    "  (is-a \"E. coli\" \"Escherichia\")\n",
    "  (is-a \"Vibrio\" \"Gammaproteobacteria\")\n",
    "  (is-a \"Pseudomonas\" \"Pseudomonadaceae\")\n",
    "  (is-a \"Pseudomonadaceae\" \"Gammaproteobacteria\")\n",
    "  (is-a \"Salmonella\" \"Enterobacteriaceae\")\n",
    "  (is-a \"Escherichia\" \"Enterobacteriaceae\")\n",
    "  (is-a \"Enterobacteriaceae\" \"Gammaproteobacteria\")\n",
    "  (is-a \"Gammaproteobacteria\" \"Pseudomonadota\")\n",
    "  (is-a \"N. gonorrhoeae\" \"Neisseria\")\n",
    "  (is-a \"Neisseria\" \"Betaproteobacteria\")\n",
    "  (is-a \"Betaproteobacteria\" \"Pseudomonadota\")\n",
    "  (is-a \"Pseudomonadota\" \"Bacteria\")\n",
    "  (is-a \"S. aureus\" \"Staphylococcus\")\n",
    "  (is-a \"S. pyogenes\" \"Streptococcus\")\n",
    "  (is-a \"C. difficile\" \"Clostridium\")\n",
    "  (is-a \"B. anthracis\" \"Bacillus\")\n",
    "  (is-a \"L. monocytogenes\" \"Listeria\")\n",
    "  (is-a \"Staphylococcus\" \"Bacillales\")\n",
    "  (is-a \"Bacillus\" \"Bacillales\")\n",
    "  (is-a \"Bacillales\" \"Bacilli\")\n",
    "  (is-a \"Streptococcus\" \"Lactobacillales\")\n",
    "  (is-a \"Lactobacillales\" \"Bacilli\")\n",
    "  (is-a \"Listeria\" \"Listeriaceae\")\n",
    "  (is-a \"Listeriaceae\" \"Bacillales\")\n",
    "  (is-a \"Clostridium\" \"Clostridia\")\n",
    "  (is-a \"Bacilli\" \"Bacillota\")\n",
    "  (is-a \"Clostridia\" \"Bacillota\")\n",
    "  (is-a \"Bacillota\" \"Bacteria\")\n",
    "  (gram-stain \"Pseudomonadota\" \"negative\")\n",
    "  (gram-stain \"Bacillota\" \"positive\")\n",
    "  (cell-shape \"V. cholerae\" \"rod\")\n",
    "  (cell-shape \"Enterobacteriaceae\" \"rod\")\n",
    "  (cell-shape \"Pseudomonadaceae\" \"rod\")\n",
    "  (cell-shape \"N. gonorrhoeae\" \"coccus\")\n",
    "  (cell-shape \"Staphylococcus\" \"coccus\")\n",
    "  (cell-shape \"Streptococcus\" \"coccus\")\n",
    "  (cell-shape \"Clostridia\" \"rod\")\n",
    "  (cell-shape \"Listeriaceae\" \"rod\")\n",
    "  (cell-shape \"Bacillus\" \"rod\")\n",
    "))"
   ]
  },
  {
   "cell_type": "code",
   "execution_count": 13,
   "id": "077253cf",
   "metadata": {
    "vscode": {
     "languageId": "scheme"
    }
   },
   "outputs": [],
   "source": [
    "(define (is-a? child parent)\n",
    "  (if (member (list 'is-a child parent) bacteria-ontology)\n",
    "      #t\n",
    "      #f))"
   ]
  },
  {
   "cell_type": "code",
   "execution_count": 14,
   "id": "32417611",
   "metadata": {
    "vscode": {
     "languageId": "scheme"
    }
   },
   "outputs": [
    {
     "data": {
      "text/plain": [
       "#t"
      ]
     },
     "execution_count": 14,
     "metadata": {
      "text/plain": "#t"
     },
     "output_type": "execute_result"
    }
   ],
   "source": [
    "(is-a? \"E. coli\" \"Escherichia\")"
   ]
  },
  {
   "cell_type": "code",
   "execution_count": 15,
   "id": "cbfa84ce",
   "metadata": {
    "vscode": {
     "languageId": "scheme"
    }
   },
   "outputs": [
    {
     "data": {
      "text/plain": [
       "#f"
      ]
     },
     "execution_count": 15,
     "metadata": {
      "text/plain": "#f"
     },
     "output_type": "execute_result"
    }
   ],
   "source": [
    "(is-a? \"E. coli\" \"Bacteria\")"
   ]
  },
  {
   "cell_type": "code",
   "execution_count": 16,
   "id": "02d04a20",
   "metadata": {
    "vscode": {
     "languageId": "scheme"
    }
   },
   "outputs": [],
   "source": [
    "(define (is-a? child parent)\n",
    "  (cond\n",
    "    ((equal? child parent) #t)  ; Base case: everything is-a itself\n",
    "    ((member (list 'is-a child parent) bacteria-ontology) #t)  ; Direct relationship\n",
    "    (else\n",
    "     ; Find the immediate parent and check recursively\n",
    "     (let ((immediate-parent (find-parent child)))\n",
    "       (and immediate-parent (is-a? immediate-parent parent))))))\n",
    "\n",
    "; Helper function to find the immediate parent of a child\n",
    "(define (find-parent child)\n",
    "  (let ((result (assoc child \n",
    "                      (map (lambda (x) (list (cadr x) (caddr x))) \n",
    "                           bacteria-ontology))))\n",
    "    (and result (cadr result))))"
   ]
  },
  {
   "cell_type": "code",
   "execution_count": 17,
   "id": "5d4b6549",
   "metadata": {
    "vscode": {
     "languageId": "scheme"
    }
   },
   "outputs": [
    {
     "data": {
      "text/plain": [
       "#t"
      ]
     },
     "execution_count": 17,
     "metadata": {
      "text/plain": "#t"
     },
     "output_type": "execute_result"
    }
   ],
   "source": [
    "(is-a? \"B. anthracis\" \"Bacillus\")"
   ]
  },
  {
   "cell_type": "code",
   "execution_count": 19,
   "id": "e0b86178",
   "metadata": {
    "vscode": {
     "languageId": "scheme"
    }
   },
   "outputs": [
    {
     "data": {
      "text/plain": [
       "#t"
      ]
     },
     "execution_count": 19,
     "metadata": {
      "text/plain": "#t"
     },
     "output_type": "execute_result"
    }
   ],
   "source": [
    "(is-a? \"E. coli\" \"Bacteria\")"
   ]
  }
 ],
 "metadata": {
  "kernelspec": {
   "display_name": "Guile",
   "language": "scheme",
   "name": "guile"
  },
  "language_info": {
   "codemirror_mode": "scheme",
   "file_extension": ".scm",
   "mimetype": "application/x-scheme",
   "name": "guile",
   "pygments_lexer": "scheme",
   "version": "3.0.0"
  }
 },
 "nbformat": 4,
 "nbformat_minor": 5
}
