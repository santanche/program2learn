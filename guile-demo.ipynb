{
 "cells": [
  {
   "cell_type": "markdown",
   "id": "ed228c7a",
   "metadata": {},
   "source": [
    "# Certifique que o kernel selecionado é o Guile (não ipykernel)"
   ]
  },
  {
   "cell_type": "code",
   "execution_count": null,
   "id": "1558ac60",
   "metadata": {
    "vscode": {
     "languageId": "plaintext"
    }
   },
   "outputs": [],
   "source": [
    "(display \"Sinta-se à vontade na disciplina de Paradigmas de Programação\")"
   ]
  }
 ],
 "metadata": {
  "language_info": {
   "name": "python"
  }
 },
 "nbformat": 4,
 "nbformat_minor": 5
}
