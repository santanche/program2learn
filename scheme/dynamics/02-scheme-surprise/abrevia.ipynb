{
 "cells": [
  {
   "cell_type": "markdown",
   "id": "1044f2f4-474e-4b6d-bd14-892ae3ef9ef4",
   "metadata": {},
   "source": [
    "# Presente!\n",
    "Como todos se saíram tão bem na aula anterior, decidimos dar um presente para vocês.\n",
    "\n",
    "Vocês desbloquearam um **açúcar sintático**:\n",
    "\n",
    "```scheme\n",
    "(define (nome p1 ... pn) = (define nome \n",
    "  corpo)                     (lambda (p1 ... pn)\n",
    "                               corpo))\n",
    "``` "
   ]
  },
  {
   "cell_type": "markdown",
   "id": "e04fbb34-4ccd-434d-9574-0dbd3110c09b",
   "metadata": {},
   "source": [
    "## Abreviações:\n",
    "\n",
    "### `(c....ar)` ou `(c....dr)`\n",
    "\n",
    "As abreviações c`x`r, onde `x` é uma sequência de `a`s ou `d`s, corresponde a aplicação sucessiva de `cars` e `cdrs`. Por exemplo, a expressão (cadr e) é equivalente (car (cdr e)). Em scheme essas funçẽos se limitam até o quinto `a` ou `d`, ou seja, vão até `(c....ar)` ou `(c....dr)`."
   ]
  },
  {
   "cell_type": "code",
   "execution_count": 8,
   "id": "2b1f1973",
   "metadata": {
    "vscode": {
     "languageId": "plaintext"
    }
   },
   "outputs": [
    {
     "data": {
      "text/plain": [
       "x"
      ]
     },
     "execution_count": 8,
     "metadata": {
      "text/plain": "x"
     },
     "output_type": "execute_result"
    }
   ],
   "source": [
    "(car '(x y z w))"
   ]
  },
  {
   "cell_type": "code",
   "execution_count": 9,
   "id": "b1f28c40",
   "metadata": {
    "vscode": {
     "languageId": "plaintext"
    }
   },
   "outputs": [
    {
     "data": {
      "text/plain": [
       "(y z w)"
      ]
     },
     "execution_count": 9,
     "metadata": {
      "text/plain": "(y z w)"
     },
     "output_type": "execute_result"
    }
   ],
   "source": [
    "(cdr '(x y z w))"
   ]
  },
  {
   "cell_type": "code",
   "execution_count": 10,
   "id": "24a5bf2d",
   "metadata": {
    "vscode": {
     "languageId": "plaintext"
    }
   },
   "outputs": [
    {
     "data": {
      "text/plain": [
       "y"
      ]
     },
     "execution_count": 10,
     "metadata": {
      "text/plain": "y"
     },
     "output_type": "execute_result"
    }
   ],
   "source": [
    "(car (cdr '(x y z w)))"
   ]
  },
  {
   "cell_type": "code",
   "execution_count": 11,
   "id": "769d3602",
   "metadata": {
    "vscode": {
     "languageId": "plaintext"
    }
   },
   "outputs": [
    {
     "data": {
      "text/plain": [
       "y"
      ]
     },
     "execution_count": 11,
     "metadata": {
      "text/plain": "y"
     },
     "output_type": "execute_result"
    }
   ],
   "source": [
    "(cadr '(x y z w))"
   ]
  },
  {
   "cell_type": "markdown",
   "id": "3acc8877",
   "metadata": {},
   "source": [
    "#### Exercício\n",
    "\n",
    "Tente adivinhar o que acontece antes de executar:"
   ]
  },
  {
   "cell_type": "code",
   "execution_count": null,
   "id": "cf90818b",
   "metadata": {
    "vscode": {
     "languageId": "plaintext"
    }
   },
   "outputs": [],
   "source": [
    "(caddr '(x y z w))"
   ]
  },
  {
   "cell_type": "markdown",
   "id": "cd3c025f",
   "metadata": {},
   "source": [
    "### `(list ...)`\n",
    "\n",
    "A função `list` abrevia cons sucessivos:\n",
    "```scheme\n",
    "(list 'x 'y 'z) = (cons 'x (cons 'y (cons 'z '())))\n",
    "```"
   ]
  },
  {
   "cell_type": "code",
   "execution_count": 13,
   "id": "866ee567",
   "metadata": {
    "vscode": {
     "languageId": "plaintext"
    }
   },
   "outputs": [
    {
     "data": {
      "text/plain": [
       "(x y z)"
      ]
     },
     "execution_count": 13,
     "metadata": {
      "text/plain": "(x y z)"
     },
     "output_type": "execute_result"
    }
   ],
   "source": [
    "(cons 'x (cons 'y (cons 'z '())))"
   ]
  },
  {
   "cell_type": "code",
   "execution_count": 14,
   "id": "22f4527a",
   "metadata": {
    "vscode": {
     "languageId": "plaintext"
    }
   },
   "outputs": [
    {
     "data": {
      "text/plain": [
       "(x y z)"
      ]
     },
     "execution_count": 14,
     "metadata": {
      "text/plain": "(x y z)"
     },
     "output_type": "execute_result"
    }
   ],
   "source": [
    "(list 'x 'y 'z)"
   ]
  }
 ],
 "metadata": {
  "kernelspec": {
   "display_name": "Guile",
   "language": "scheme",
   "name": "guile"
  },
  "language_info": {
   "codemirror_mode": "scheme",
   "file_extension": ".scm",
   "mimetype": "application/x-scheme",
   "name": "guile",
   "pygments_lexer": "scheme",
   "version": "3.0.0"
  }
 },
 "nbformat": 4,
 "nbformat_minor": 5
}
