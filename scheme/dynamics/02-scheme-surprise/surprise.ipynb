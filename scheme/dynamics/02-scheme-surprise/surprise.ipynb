{
 "cells": [
  {
   "cell_type": "markdown",
   "id": "01282ee9-3a72-4370-87f9-5dd2c4aecb63",
   "metadata": {},
   "source": [
    "# Code Golf!\n",
    "\n",
    "## Como funciona?\n",
    "Vamos fazer `6` exercícios juntos. Para cada exercício, vocês terão um tempo. Quem terminar primeiro levanta a mão, eu vou até a cadeira avaliar e, se estiver correto, a pessoa ganha um bombom.\n",
    "**Atenção**: Para ser justo, a mesma pessoa não pode ganhar mais de `1` vez.\n",
    "\n",
    "## Regras:\n",
    "* Só pode ser utilizado o que foi dado em aula até o momento e o que for implementado em uma questão anterior.\n",
    "* Toda implementação deve ser seguida de pelo menos 2 testes.\n",
    "* Não é permitido o uso de nenhuma ferramenta externa, seja uma simples busca na internet ou IA."
   ]
  },
  {
   "cell_type": "markdown",
   "id": "819b8615-05cd-4e4d-8f75-fe599c519cda",
   "metadata": {},
   "source": [
    "### Questão 1:\n",
    "Defina uma função `my-nil?` que recebe um argumento e retorna `#t` se a lista for vazia `'()` e `#f` caso contrário."
   ]
  },
  {
   "cell_type": "code",
   "execution_count": null,
   "id": "ca162f8d-3cbb-468c-887c-416d1b9ba786",
   "metadata": {
    "trusted": true
   },
   "outputs": [],
   "source": [
    "(define (my-nil? ...) ...)"
   ]
  },
  {
   "cell_type": "markdown",
   "id": "4629dfdc-7053-48a2-b4bd-b7080fb915d1",
   "metadata": {},
   "source": [
    "### Questão 2:\n",
    "Defina uma função `my-and` que recebe dois argumentos, retornando `#t` se ambos os argumentos forem verdadeiros e retornando `#f`caso contrário."
   ]
  },
  {
   "cell_type": "code",
   "execution_count": null,
   "id": "173af59b-d5b7-4166-8ee8-b5dd2ebf0793",
   "metadata": {
    "trusted": true
   },
   "outputs": [],
   "source": [
    "(define (my-and ...) ...)"
   ]
  },
  {
   "cell_type": "markdown",
   "id": "d661fbae-303c-4cec-94f3-05bc7f98f1af",
   "metadata": {},
   "source": [
    "### Questão 3\n",
    "Define uma função `not`que recebe um argumento e retorna `#f` se ele for verdadeiro e `#t` caso contrário."
   ]
  },
  {
   "cell_type": "code",
   "execution_count": null,
   "id": "7572ffcc-92d0-430b-930a-5772bdf2bad7",
   "metadata": {
    "trusted": true
   },
   "outputs": [],
   "source": [
    "(define (my-not ...) ...)"
   ]
  },
  {
   "cell_type": "markdown",
   "id": "7ba4a4be-1587-48e9-8262-11eb5a56ee70",
   "metadata": {},
   "source": [
    "### Questão 4:\n",
    "\n",
    "Defina uma função `append` que recebe dois argumentos:\n",
    "* `l`: uma lista;\n",
    "* `x`: uma lista.\n",
    "A função deve retornar uma nova lista onde `x` é o último elemento de `l`. Caso `l` seja uma lista vazia `'()`, a função deve retornar apenas `x`."
   ]
  },
  {
   "cell_type": "code",
   "execution_count": null,
   "id": "4d58808f-92e4-47ef-bf7f-6eec0c71920d",
   "metadata": {
    "trusted": true
   },
   "outputs": [],
   "source": [
    "(define (my-append ...) ...)"
   ]
  },
  {
   "cell_type": "markdown",
   "id": "3d465463",
   "metadata": {},
   "source": [
    "### Questão 5\n",
    "Defina uma função `search`que recebe dois argumentos:\n",
    "* `x` um valor qualquer;\n",
    "* `l` uma lista.\n",
    "A função retorna `#t`se `x` estiver na lista e `#f` caso contrário."
   ]
  },
  {
   "cell_type": "code",
   "execution_count": null,
   "id": "f3ce0d4b",
   "metadata": {},
   "outputs": [],
   "source": [
    "(define (my-search ...) ...)"
   ]
  },
  {
   "cell_type": "markdown",
   "id": "3ff4ffbe-dd88-4f34-bb86-941ec1007411",
   "metadata": {},
   "source": [
    "### Questão 6:\n",
    "Defina uma função que recebe duas listas `l1` e `l2` e retorne uma lista `lr` que combina as duas da seguinte maneira: cada elemento de `lr` é uma sub-lista com a combinação de um par de elementos de `l1` e `l2` na mesma posição. A lista resultante deve conter apenas os pares formados até que uma das listas termine, ou seja, seu tamanho será igual ao da menor lista.\n",
    "\n",
    "Exemplo:\n",
    "```scheme\n",
    "(my-pairs '(1 2 3) '(a b c)) -> '((1 a) (2 b) (3 c))\n",
    "```"
   ]
  },
  {
   "cell_type": "code",
   "execution_count": null,
   "id": "eee55679-3fec-45bd-b879-6abb729240b9",
   "metadata": {
    "trusted": true
   },
   "outputs": [],
   "source": [
    "(define (my-pairs ...) ...) "
   ]
  },
  {
   "cell_type": "markdown",
   "id": "8f7c633b-a51e-46cc-9712-81c259466aeb",
   "metadata": {},
   "source": [
    "### Questão 7:\n",
    "Escreva uma função que recebe dois argumentos:\n",
    "* `x`: um valor qualquer;\n",
    "* `a`: uma lista de listas, em que cada sub-lista contém dois elementos (como o resultado da função my-pairs da questão anterior).\n",
    "\n",
    "A função deve procurar em `a` uma sub-lista onde o **primeiro** elemento seja igual a `x` e retornar o **segundo** elemento dessa sub-lista. A função presume que `x` deve ser encontrado."
   ]
  },
  {
   "cell_type": "code",
   "execution_count": null,
   "id": "5c0a9c70-2832-45ee-9fc8-4b2e3a4b852f",
   "metadata": {
    "trusted": true
   },
   "outputs": [],
   "source": [
    "(define (my-assoc ...) ...)"
   ]
  },
  {
   "cell_type": "markdown",
   "id": "df150cb6-8ada-40e3-bd83-50b3e8bf7a80",
   "metadata": {},
   "source": [
    "## Final:\n",
    "\n",
    "Vamos implementar `3` funções juntos:"
   ]
  }
 ],
 "metadata": {
  "kernelspec": {
   "display_name": "Guile",
   "language": "scheme",
   "name": "guile"
  },
  "language_info": {
   "codemirror_mode": "scheme",
   "file_extension": ".scm",
   "mimetype": "application/x-scheme",
   "name": "scheme",
   "pygments_lexer": "scheme",
   "version": "3.0.0"
  }
 },
 "nbformat": 4,
 "nbformat_minor": 5
}
