{
 "cells": [
  {
   "cell_type": "markdown",
   "id": "a6e73250-68a0-4959-947d-b8820637f4b1",
   "metadata": {},
   "source": [
    "# Colinha\n",
    "* `(quote x)` ou `'x` para retornar o **simbolo** x. Lembrete: `quote` de uma lista aplica `quote` em cada elemento individualmente, ou seja, `'(x y z) -> (x y z)`;\n",
    "* `(pair? x)` retorna `#t` se x é uma lista não vazia e `#f` caso contrário;\n",
    "* `(eqv? x y)` retorna `#t` se x e y são o mesmo átomo, caso contrário retorna `#f`;\n",
    "* `(car x)` espera que x seja uma lista e retorna o primeiro elemento de x.\n",
    "* `(cdr x)` espera que x seja uma lista e retorna tudo exceto o primeiro elemento;\n",
    "* `(cons x y)` retorna uma lista formada por x e y. Se y for uma lista, será equivalente a um preppend (gruda no inicio);\n",
    "* `(list ...)` abrevia `cons` sucessivos;\n",
    "* `(cond (p_1 e_1) ... (p_n e_n))` as expressões p são computadas em ordem até que uma delas retorne um valor diferente de `#f` ou seja o átomo `else`. Quando isso ocorre para a expressão `p_i`, o valor da expressão `e_i` é retornado. Se todas as expressões p retornarem `#f`, nada é retornado;\n",
    "* `(lambda (args) corpo)` retorna uma função que recebe como parâmetro `args` e computa o `corpo`;\n",
    "* `(define nome valor)` ou `(define (nome . args) corpo)` define uma nova váriavel como nome `nome` e valor `valor` ou função com `nome`, parametros `args` e corpo `corpo`."
   ]
  },
  {
   "cell_type": "markdown",
   "id": "a7d2cf44",
   "metadata": {},
   "source": [
    "## `(quote x)`"
   ]
  },
  {
   "cell_type": "code",
   "execution_count": 1,
   "id": "4e04b8d9",
   "metadata": {},
   "outputs": [
    {
     "data": {
      "text/plain": [
       "(x y z)"
      ]
     },
     "execution_count": 1,
     "metadata": {
      "text/plain": "(x y z)"
     },
     "output_type": "execute_result"
    }
   ],
   "source": [
    "(quote (x y z))"
   ]
  },
  {
   "cell_type": "code",
   "execution_count": 2,
   "id": "93f706c0",
   "metadata": {},
   "outputs": [
    {
     "data": {
      "text/plain": [
       "(x y z)"
      ]
     },
     "execution_count": 2,
     "metadata": {
      "text/plain": "(x y z)"
     },
     "output_type": "execute_result"
    }
   ],
   "source": [
    "'(x y z)"
   ]
  },
  {
   "cell_type": "markdown",
   "id": "dca84ca8",
   "metadata": {},
   "source": [
    "## `(pair? x)`"
   ]
  },
  {
   "cell_type": "code",
   "execution_count": 3,
   "id": "e8eae485",
   "metadata": {},
   "outputs": [
    {
     "data": {
      "text/plain": [
       "#t"
      ]
     },
     "execution_count": 3,
     "metadata": {
      "text/plain": "#t"
     },
     "output_type": "execute_result"
    }
   ],
   "source": [
    "(pair? '(a b))"
   ]
  },
  {
   "cell_type": "code",
   "execution_count": 4,
   "id": "03d862c8",
   "metadata": {},
   "outputs": [
    {
     "data": {
      "text/plain": [
       "#f"
      ]
     },
     "execution_count": 4,
     "metadata": {
      "text/plain": "#f"
     },
     "output_type": "execute_result"
    }
   ],
   "source": [
    "(pair? '())"
   ]
  },
  {
   "cell_type": "code",
   "execution_count": 5,
   "id": "9ec0b842",
   "metadata": {},
   "outputs": [
    {
     "data": {
      "text/plain": [
       "#f"
      ]
     },
     "execution_count": 5,
     "metadata": {
      "text/plain": "#f"
     },
     "output_type": "execute_result"
    }
   ],
   "source": [
    "(pair? 'x)"
   ]
  },
  {
   "cell_type": "markdown",
   "id": "553edc21",
   "metadata": {},
   "source": [
    "## `(eqv? x y)`"
   ]
  },
  {
   "cell_type": "code",
   "execution_count": 6,
   "id": "1444c4aa",
   "metadata": {},
   "outputs": [
    {
     "data": {
      "text/plain": [
       "#t"
      ]
     },
     "execution_count": 6,
     "metadata": {
      "text/plain": "#t"
     },
     "output_type": "execute_result"
    }
   ],
   "source": [
    "(eqv? 'x 'x)"
   ]
  },
  {
   "cell_type": "code",
   "execution_count": 7,
   "id": "3c4d4a0f",
   "metadata": {},
   "outputs": [
    {
     "data": {
      "text/plain": [
       "#f"
      ]
     },
     "execution_count": 7,
     "metadata": {
      "text/plain": "#f"
     },
     "output_type": "execute_result"
    }
   ],
   "source": [
    "(eqv? 'x 'y)"
   ]
  },
  {
   "cell_type": "code",
   "execution_count": 8,
   "id": "5ed71db8",
   "metadata": {},
   "outputs": [
    {
     "data": {
      "text/plain": [
       "#f"
      ]
     },
     "execution_count": 8,
     "metadata": {
      "text/plain": "#f"
     },
     "output_type": "execute_result"
    }
   ],
   "source": [
    "(eqv? 'x '(x))"
   ]
  },
  {
   "cell_type": "markdown",
   "id": "e04fbb34-4ccd-434d-9574-0dbd3110c09b",
   "metadata": {},
   "source": [
    "## `(car x)`, `(cdr x)`, `(c....ar)` ou `(c....dr)`"
   ]
  },
  {
   "cell_type": "code",
   "execution_count": 9,
   "id": "2b1f1973",
   "metadata": {},
   "outputs": [
    {
     "data": {
      "text/plain": [
       "x"
      ]
     },
     "execution_count": 9,
     "metadata": {
      "text/plain": "x"
     },
     "output_type": "execute_result"
    }
   ],
   "source": [
    "(car '(x y z w))"
   ]
  },
  {
   "cell_type": "code",
   "execution_count": 10,
   "id": "b1f28c40",
   "metadata": {},
   "outputs": [
    {
     "data": {
      "text/plain": [
       "(y z w)"
      ]
     },
     "execution_count": 10,
     "metadata": {
      "text/plain": "(y z w)"
     },
     "output_type": "execute_result"
    }
   ],
   "source": [
    "(cdr '(x y z w))"
   ]
  },
  {
   "cell_type": "code",
   "execution_count": 11,
   "id": "24a5bf2d",
   "metadata": {},
   "outputs": [
    {
     "data": {
      "text/plain": [
       "y"
      ]
     },
     "execution_count": 11,
     "metadata": {
      "text/plain": "y"
     },
     "output_type": "execute_result"
    }
   ],
   "source": [
    "(car (cdr '(x y z w)))"
   ]
  },
  {
   "cell_type": "code",
   "execution_count": 12,
   "id": "769d3602",
   "metadata": {},
   "outputs": [
    {
     "data": {
      "text/plain": [
       "y"
      ]
     },
     "execution_count": 12,
     "metadata": {
      "text/plain": "y"
     },
     "output_type": "execute_result"
    }
   ],
   "source": [
    "(cadr '(x y z w))"
   ]
  },
  {
   "cell_type": "code",
   "execution_count": 13,
   "id": "cf90818b",
   "metadata": {},
   "outputs": [
    {
     "data": {
      "text/plain": [
       "z"
      ]
     },
     "execution_count": 13,
     "metadata": {
      "text/plain": "z"
     },
     "output_type": "execute_result"
    }
   ],
   "source": [
    "(caddr '(x y z w))"
   ]
  },
  {
   "cell_type": "markdown",
   "id": "cd3c025f",
   "metadata": {},
   "source": [
    "## `(cons x y)` e `(list ...)`"
   ]
  },
  {
   "cell_type": "code",
   "execution_count": 14,
   "id": "866ee567",
   "metadata": {},
   "outputs": [
    {
     "data": {
      "text/plain": [
       "(x y z)"
      ]
     },
     "execution_count": 14,
     "metadata": {
      "text/plain": "(x y z)"
     },
     "output_type": "execute_result"
    }
   ],
   "source": [
    "(cons 'x (cons 'y (cons 'z '())))"
   ]
  },
  {
   "cell_type": "code",
   "execution_count": 15,
   "id": "22f4527a",
   "metadata": {},
   "outputs": [
    {
     "data": {
      "text/plain": [
       "(x y z)"
      ]
     },
     "execution_count": 15,
     "metadata": {
      "text/plain": "(x y z)"
     },
     "output_type": "execute_result"
    }
   ],
   "source": [
    "(list 'x 'y 'z)"
   ]
  },
  {
   "cell_type": "markdown",
   "id": "a05a1381",
   "metadata": {},
   "source": [
    "## `(cond (p_1 e_1) ... (p_n e_n))`"
   ]
  },
  {
   "cell_type": "code",
   "execution_count": 16,
   "id": "b67343ef",
   "metadata": {},
   "outputs": [
    {
     "data": {
      "text/plain": [
       "\"negative\""
      ]
     },
     "execution_count": 16,
     "metadata": {
      "text/plain": "\"negative\""
     },
     "output_type": "execute_result"
    }
   ],
   "source": [
    "(cond\n",
    "     ((> -3 0) \"positive\")\n",
    "     ((< -3 0) \"negative\")\n",
    "     ((= -3 0) \"zero\"))"
   ]
  },
  {
   "cell_type": "markdown",
   "id": "97b6e170",
   "metadata": {},
   "source": []
  },
  {
   "cell_type": "markdown",
   "id": "4776d945",
   "metadata": {},
   "source": [
    "## `(define nome valor)` ou `(define (nome . args) corpo)`"
   ]
  },
  {
   "cell_type": "code",
   "execution_count": null,
   "id": "99dc230e",
   "metadata": {},
   "outputs": [
    {
     "data": {
      "text/plain": [
       "\"negative\""
      ]
     },
     "execution_count": 17,
     "metadata": {
      "text/plain": "\"negative\""
     },
     "output_type": "execute_result"
    }
   ],
   "source": [
    "(define n -3)\n",
    "\n",
    "(cond\n",
    "  ((> n 0) \"positive\")\n",
    "  ((< n 0) \"negative\")\n",
    "  ((= n 0) \"zero\"))"
   ]
  },
  {
   "cell_type": "code",
   "execution_count": 18,
   "id": "ac6e541c",
   "metadata": {},
   "outputs": [
    {
     "data": {
      "text/plain": [
       "\"negative\""
      ]
     },
     "execution_count": 18,
     "metadata": {
      "text/plain": "\"negative\""
     },
     "output_type": "execute_result"
    }
   ],
   "source": [
    "(define (number-type n)\n",
    "  (cond\n",
    "    ((> n 0) \"positive\")\n",
    "    ((< n 0) \"negative\")\n",
    "    ((= n 0) \"zero\")))\n",
    "\n",
    "(number-type -3)"
   ]
  }
 ],
 "metadata": {
  "kernelspec": {
   "display_name": "Guile",
   "language": "scheme",
   "name": "guile"
  },
  "language_info": {
   "codemirror_mode": "scheme",
   "file_extension": ".scm",
   "mimetype": "application/x-scheme",
   "name": "scheme",
   "pygments_lexer": "scheme",
   "version": "3.0.0"
  }
 },
 "nbformat": 4,
 "nbformat_minor": 5
}
