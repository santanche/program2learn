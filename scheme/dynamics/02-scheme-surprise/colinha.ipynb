{
 "cells": [
  {
   "cell_type": "markdown",
   "id": "a6e73250-68a0-4959-947d-b8820637f4b1",
   "metadata": {},
   "source": [
    "# Colinha\n",
    "* `(quote x)` ou `'x` para retornar o **simbolo** x. Lembrete: `quote` de uma lista aplica `quote` em cada elemento individualmente, ou seja, `'(x y z) -> (x y z)`;\n",
    "* `(pair? x)` retorna `#t` se x é uma lista não vazia e `#f` caso contrário;\n",
    "* `(eqv? x y)` retorna `#t` se x e y são o mesmo átomo, caso contrário retorna `#f`;\n",
    "* `(car x)` espera que x seja uma lista e retorna o primeiro elemento de x.\n",
    "* `(cdr x)` espera que x seja uma lista e retorna tudo exceto o primeiro elemento;\n",
    "* `(cons x y)` retorna uma lista formada por x e y. Se y for uma lista, será equivalente a um preppend (gruda no inicio);\n",
    "* `(list ...)` abrevia `cons` sucessivos;\n",
    "* `(cond (p_1 e_1) ... (p_n e_n))` as expressões p são computadas em ordem até que uma delas retorne um valor diferente de `#f` ou seja o átomo `else`. Quando isso ocorre para a expressão `p_i`, o valor da expressão `e_i` é retornado. Se todas as expressões p retornarem `#f`, nada é retornado;\n",
    "* `(define nome valor)` ou `(define (nome . args) corpo)` define uma nova váriavel como nome `nome` e valor `valor` ou função com `nome`, parametros `args` e corpo `corpo`."
   ]
  },
  {
   "cell_type": "markdown",
   "id": "a7d2cf44",
   "metadata": {},
   "source": [
    "## `(quote x)`"
   ]
  },
  {
   "cell_type": "code",
   "execution_count": 22,
   "id": "4e04b8d9",
   "metadata": {
    "vscode": {
     "languageId": "plaintext"
    }
   },
   "outputs": [
    {
     "data": {
      "text/plain": [
       "(x y z)"
      ]
     },
     "execution_count": 22,
     "metadata": {
      "text/plain": "(x y z)"
     },
     "output_type": "execute_result"
    }
   ],
   "source": [
    "(quote (x y z))"
   ]
  },
  {
   "cell_type": "code",
   "execution_count": 23,
   "id": "93f706c0",
   "metadata": {
    "vscode": {
     "languageId": "plaintext"
    }
   },
   "outputs": [
    {
     "data": {
      "text/plain": [
       "(x y z)"
      ]
     },
     "execution_count": 23,
     "metadata": {
      "text/plain": "(x y z)"
     },
     "output_type": "execute_result"
    }
   ],
   "source": [
    "'(x y z)"
   ]
  },
  {
   "cell_type": "markdown",
   "id": "dca84ca8",
   "metadata": {},
   "source": [
    "## `(pair? x)`"
   ]
  },
  {
   "cell_type": "code",
   "execution_count": 24,
   "id": "e8eae485",
   "metadata": {
    "vscode": {
     "languageId": "plaintext"
    }
   },
   "outputs": [
    {
     "data": {
      "text/plain": [
       "#t"
      ]
     },
     "execution_count": 24,
     "metadata": {
      "text/plain": "#t"
     },
     "output_type": "execute_result"
    }
   ],
   "source": [
    "(pair? '(a b))"
   ]
  },
  {
   "cell_type": "code",
   "execution_count": 25,
   "id": "03d862c8",
   "metadata": {
    "vscode": {
     "languageId": "plaintext"
    }
   },
   "outputs": [
    {
     "data": {
      "text/plain": [
       "#f"
      ]
     },
     "execution_count": 25,
     "metadata": {
      "text/plain": "#f"
     },
     "output_type": "execute_result"
    }
   ],
   "source": [
    "(pair? '())"
   ]
  },
  {
   "cell_type": "code",
   "execution_count": 26,
   "id": "9ec0b842",
   "metadata": {
    "vscode": {
     "languageId": "plaintext"
    }
   },
   "outputs": [
    {
     "data": {
      "text/plain": [
       "#f"
      ]
     },
     "execution_count": 26,
     "metadata": {
      "text/plain": "#f"
     },
     "output_type": "execute_result"
    }
   ],
   "source": [
    "(pair? 'x)"
   ]
  },
  {
   "cell_type": "markdown",
   "id": "553edc21",
   "metadata": {},
   "source": [
    "## `(eqv? x y)`"
   ]
  },
  {
   "cell_type": "code",
   "execution_count": 27,
   "id": "1444c4aa",
   "metadata": {
    "vscode": {
     "languageId": "plaintext"
    }
   },
   "outputs": [
    {
     "data": {
      "text/plain": [
       "#t"
      ]
     },
     "execution_count": 27,
     "metadata": {
      "text/plain": "#t"
     },
     "output_type": "execute_result"
    }
   ],
   "source": [
    "(eqv? 'x 'x)"
   ]
  },
  {
   "cell_type": "code",
   "execution_count": 28,
   "id": "3c4d4a0f",
   "metadata": {
    "vscode": {
     "languageId": "plaintext"
    }
   },
   "outputs": [
    {
     "data": {
      "text/plain": [
       "#f"
      ]
     },
     "execution_count": 28,
     "metadata": {
      "text/plain": "#f"
     },
     "output_type": "execute_result"
    }
   ],
   "source": [
    "(eqv? 'x 'y)"
   ]
  },
  {
   "cell_type": "code",
   "execution_count": 29,
   "id": "5ed71db8",
   "metadata": {
    "vscode": {
     "languageId": "plaintext"
    }
   },
   "outputs": [
    {
     "data": {
      "text/plain": [
       "#f"
      ]
     },
     "execution_count": 29,
     "metadata": {
      "text/plain": "#f"
     },
     "output_type": "execute_result"
    }
   ],
   "source": [
    "(eqv? 'x '(x))"
   ]
  },
  {
   "cell_type": "markdown",
   "id": "e04fbb34-4ccd-434d-9574-0dbd3110c09b",
   "metadata": {},
   "source": [
    "## `(car x)`, `(cdr x)`, `(c....ar)` ou `(c....dr)`"
   ]
  },
  {
   "cell_type": "code",
   "execution_count": 30,
   "id": "2b1f1973",
   "metadata": {
    "vscode": {
     "languageId": "plaintext"
    }
   },
   "outputs": [
    {
     "data": {
      "text/plain": [
       "x"
      ]
     },
     "execution_count": 30,
     "metadata": {
      "text/plain": "x"
     },
     "output_type": "execute_result"
    }
   ],
   "source": [
    "(car '(x y z w))"
   ]
  },
  {
   "cell_type": "code",
   "execution_count": 31,
   "id": "b1f28c40",
   "metadata": {
    "vscode": {
     "languageId": "plaintext"
    }
   },
   "outputs": [
    {
     "data": {
      "text/plain": [
       "(y z w)"
      ]
     },
     "execution_count": 31,
     "metadata": {
      "text/plain": "(y z w)"
     },
     "output_type": "execute_result"
    }
   ],
   "source": [
    "(cdr '(x y z w))"
   ]
  },
  {
   "cell_type": "code",
   "execution_count": 32,
   "id": "24a5bf2d",
   "metadata": {
    "vscode": {
     "languageId": "plaintext"
    }
   },
   "outputs": [
    {
     "data": {
      "text/plain": [
       "y"
      ]
     },
     "execution_count": 32,
     "metadata": {
      "text/plain": "y"
     },
     "output_type": "execute_result"
    }
   ],
   "source": [
    "(car (cdr '(x y z w)))"
   ]
  },
  {
   "cell_type": "code",
   "execution_count": 33,
   "id": "769d3602",
   "metadata": {
    "vscode": {
     "languageId": "plaintext"
    }
   },
   "outputs": [
    {
     "data": {
      "text/plain": [
       "y"
      ]
     },
     "execution_count": 33,
     "metadata": {
      "text/plain": "y"
     },
     "output_type": "execute_result"
    }
   ],
   "source": [
    "(cadr '(x y z w))"
   ]
  },
  {
   "cell_type": "code",
   "execution_count": 34,
   "id": "cf90818b",
   "metadata": {
    "vscode": {
     "languageId": "plaintext"
    }
   },
   "outputs": [
    {
     "data": {
      "text/plain": [
       "z"
      ]
     },
     "execution_count": 34,
     "metadata": {
      "text/plain": "z"
     },
     "output_type": "execute_result"
    }
   ],
   "source": [
    "(caddr '(x y z w))"
   ]
  },
  {
   "cell_type": "markdown",
   "id": "cd3c025f",
   "metadata": {},
   "source": [
    "## `(cons x y)` e `(list ...)`"
   ]
  },
  {
   "cell_type": "code",
   "execution_count": 35,
   "id": "866ee567",
   "metadata": {
    "vscode": {
     "languageId": "plaintext"
    }
   },
   "outputs": [
    {
     "data": {
      "text/plain": [
       "(x y z)"
      ]
     },
     "execution_count": 35,
     "metadata": {
      "text/plain": "(x y z)"
     },
     "output_type": "execute_result"
    }
   ],
   "source": [
    "(cons 'x (cons 'y (cons 'z '())))"
   ]
  },
  {
   "cell_type": "code",
   "execution_count": 36,
   "id": "22f4527a",
   "metadata": {
    "vscode": {
     "languageId": "plaintext"
    }
   },
   "outputs": [
    {
     "data": {
      "text/plain": [
       "(x y z)"
      ]
     },
     "execution_count": 36,
     "metadata": {
      "text/plain": "(x y z)"
     },
     "output_type": "execute_result"
    }
   ],
   "source": [
    "(list 'x 'y 'z)"
   ]
  },
  {
   "cell_type": "markdown",
   "id": "a05a1381",
   "metadata": {},
   "source": [
    "## `(cond (p_1 e_1) ... (p_n e_n))`"
   ]
  },
  {
   "cell_type": "code",
   "execution_count": 37,
   "id": "b67343ef",
   "metadata": {
    "vscode": {
     "languageId": "plaintext"
    }
   },
   "outputs": [
    {
     "data": {
      "text/plain": [
       "\"negative\""
      ]
     },
     "execution_count": 37,
     "metadata": {
      "text/plain": "\"negative\""
     },
     "output_type": "execute_result"
    }
   ],
   "source": [
    "(cond\n",
    "     ((> -3 0) \"positive\")\n",
    "     ((< -3 0) \"negative\")\n",
    "     ((= -3 0) \"zero\"))"
   ]
  },
  {
   "cell_type": "markdown",
   "id": "4776d945",
   "metadata": {},
   "source": [
    "## `(define nome valor)` ou `(define (nome . args) corpo)`"
   ]
  },
  {
   "cell_type": "code",
   "execution_count": 38,
   "id": "99dc230e",
   "metadata": {
    "vscode": {
     "languageId": "plaintext"
    }
   },
   "outputs": [
    {
     "data": {
      "text/plain": [
       "\"negative\""
      ]
     },
     "execution_count": 38,
     "metadata": {
      "text/plain": "\"negative\""
     },
     "output_type": "execute_result"
    }
   ],
   "source": [
    "(define n -3)\n",
    "\n",
    "(cond\n",
    "     ((> n 0) \"positive\")\n",
    "     ((< n 0) \"negative\")\n",
    "     ((= n 0) \"zero\"))"
   ]
  },
  {
   "cell_type": "code",
   "execution_count": 39,
   "id": "ac6e541c",
   "metadata": {
    "vscode": {
     "languageId": "plaintext"
    }
   },
   "outputs": [
    {
     "data": {
      "text/plain": [
       "\"negative\""
      ]
     },
     "execution_count": 39,
     "metadata": {
      "text/plain": "\"negative\""
     },
     "output_type": "execute_result"
    }
   ],
   "source": [
    "(define (number-type n)\n",
    "  (cond\n",
    "    ((> n 0) \"positive\")\n",
    "    ((< n 0) \"negative\")\n",
    "    ((= n 0) \"zero\")))\n",
    "\n",
    "(number-type -3)"
   ]
  }
 ],
 "metadata": {
  "kernelspec": {
   "display_name": "Guile",
   "language": "scheme",
   "name": "guile"
  },
  "language_info": {
   "codemirror_mode": "scheme",
   "file_extension": ".scm",
   "mimetype": "application/x-scheme",
   "name": "guile",
   "pygments_lexer": "scheme",
   "version": "3.0.0"
  }
 },
 "nbformat": 4,
 "nbformat_minor": 5
}
