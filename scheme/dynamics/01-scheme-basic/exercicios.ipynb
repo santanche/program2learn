{
 "cells": [
  {
   "cell_type": "markdown",
   "id": "e774a52a-5219-484c-b45e-6c67a3525367",
   "metadata": {},
   "source": [
    "# Exercícios em Sala\n",
    "*Aula de 13/08/2025*"
   ]
  },
  {
   "cell_type": "markdown",
   "id": "115b2fb2-b9fa-422a-bc8d-6ae5d28ea24a",
   "metadata": {},
   "source": [
    "# Exercício 1\n",
    "\n",
    "Escreva em Scheme a resolução da equação:\n",
    "`2 + 5 * 3 + 4`"
   ]
  },
  {
   "cell_type": "code",
   "execution_count": null,
   "id": "13733d69-cada-4eb8-ae26-85cf1c14e77c",
   "metadata": {
    "trusted": true,
    "vscode": {
     "languageId": "scheme"
    }
   },
   "outputs": [],
   "source": []
  },
  {
   "cell_type": "markdown",
   "id": "7fe0c0ae-5e1c-40b9-ab41-6ec226c3e101",
   "metadata": {},
   "source": [
    "# Exercício 2\n",
    "\n",
    "Construa uma solução para retornar o segundo elemento de uma lista."
   ]
  },
  {
   "cell_type": "code",
   "execution_count": null,
   "id": "58bcc3a1-11fa-4166-849e-0a71430f511b",
   "metadata": {
    "trusted": true,
    "vscode": {
     "languageId": "scheme"
    }
   },
   "outputs": [],
   "source": []
  },
  {
   "cell_type": "markdown",
   "id": "49ab1bd0-6c47-483f-a250-9931950e5ca6",
   "metadata": {},
   "source": [
    "# Exercício 3\n",
    "\n",
    "Escreva uma função que receba dois valores e os some."
   ]
  },
  {
   "cell_type": "code",
   "execution_count": null,
   "id": "f83c7785-0d0e-4b11-a869-4113374f0ff4",
   "metadata": {
    "trusted": true,
    "vscode": {
     "languageId": "scheme"
    }
   },
   "outputs": [],
   "source": []
  },
  {
   "cell_type": "markdown",
   "id": "b0ee3d0f-9390-454f-80ba-df0c9f39a545",
   "metadata": {},
   "source": [
    "# Exercício 4\n",
    "\n",
    "Faça uma função que se a entrada for uma lista ele retorne `true` e se não for ele retorne `false`."
   ]
  },
  {
   "cell_type": "code",
   "execution_count": null,
   "id": "dd9609d2-deb9-47f5-804c-e70ea51e48c5",
   "metadata": {
    "trusted": true,
    "vscode": {
     "languageId": "scheme"
    }
   },
   "outputs": [],
   "source": []
  }
 ],
 "metadata": {
  "kernelspec": {
   "display_name": "Guile",
   "language": "scheme",
   "name": "guile"
  },
  "language_info": {
   "codemirror_mode": "scheme",
   "file_extension": ".scm",
   "mimetype": "application/x-scheme",
   "name": "guile",
   "pygments_lexer": "scheme",
   "version": "3.0.0"
  }
 },
 "nbformat": 4,
 "nbformat_minor": 5
}
