{
 "cells": [
  {
   "cell_type": "markdown",
   "id": "f7a7d2ff",
   "metadata": {},
   "source": [
    "## Lista Imprópria\n",
    "\n",
    "não termina com lista vazia\n",
    "\n",
    "`x -> y`"
   ]
  },
  {
   "cell_type": "code",
   "execution_count": 4,
   "id": "aadc0b6d",
   "metadata": {
    "vscode": {
     "languageId": "scheme"
    }
   },
   "outputs": [
    {
     "data": {
      "text/plain": [
       "(x . y)"
      ]
     },
     "execution_count": 4,
     "metadata": {
      "text/plain": "(x . y)"
     },
     "output_type": "execute_result"
    }
   ],
   "source": [
    "'(x . y)"
   ]
  },
  {
   "cell_type": "code",
   "execution_count": 1,
   "id": "516c8bce",
   "metadata": {
    "vscode": {
     "languageId": "scheme"
    }
   },
   "outputs": [
    {
     "data": {
      "text/plain": [
       "(x . y)"
      ]
     },
     "execution_count": 1,
     "metadata": {
      "text/plain": "(x . y)"
     },
     "output_type": "execute_result"
    }
   ],
   "source": [
    "(cons 'x 'y)"
   ]
  },
  {
   "cell_type": "markdown",
   "id": "a011a9bd",
   "metadata": {},
   "source": []
  },
  {
   "cell_type": "code",
   "execution_count": 16,
   "id": "abaa72bc",
   "metadata": {
    "vscode": {
     "languageId": "scheme"
    }
   },
   "outputs": [
    {
     "data": {
      "text/plain": [
       "(x)"
      ]
     },
     "execution_count": 16,
     "metadata": {
      "text/plain": "(x)"
     },
     "output_type": "execute_result"
    }
   ],
   "source": [
    "'( x . () )"
   ]
  },
  {
   "cell_type": "code",
   "execution_count": 2,
   "id": "4128cacb",
   "metadata": {
    "vscode": {
     "languageId": "scheme"
    }
   },
   "outputs": [
    {
     "data": {
      "text/plain": [
       "(x)"
      ]
     },
     "execution_count": 2,
     "metadata": {
      "text/plain": "(x)"
     },
     "output_type": "execute_result"
    }
   ],
   "source": [
    "(cons 'x '())"
   ]
  },
  {
   "cell_type": "code",
   "execution_count": 17,
   "id": "9ba36acb",
   "metadata": {
    "vscode": {
     "languageId": "scheme"
    }
   },
   "outputs": [
    {
     "data": {
      "text/plain": [
       "(x y)"
      ]
     },
     "execution_count": 17,
     "metadata": {
      "text/plain": "(x y)"
     },
     "output_type": "execute_result"
    }
   ],
   "source": [
    "'( x . (y . () ) )"
   ]
  },
  {
   "cell_type": "code",
   "execution_count": 3,
   "id": "682d5ae0",
   "metadata": {
    "vscode": {
     "languageId": "scheme"
    }
   },
   "outputs": [
    {
     "data": {
      "text/plain": [
       "(x y)"
      ]
     },
     "execution_count": 3,
     "metadata": {
      "text/plain": "(x y)"
     },
     "output_type": "execute_result"
    }
   ],
   "source": [
    "( cons 'x (cons 'y '() ) )"
   ]
  },
  {
   "cell_type": "code",
   "execution_count": 5,
   "id": "55b71dad",
   "metadata": {
    "vscode": {
     "languageId": "scheme"
    }
   },
   "outputs": [
    {
     "data": {
      "text/plain": [
       "(x y)"
      ]
     },
     "execution_count": 5,
     "metadata": {
      "text/plain": "(x y)"
     },
     "output_type": "execute_result"
    }
   ],
   "source": [
    "'(x y)"
   ]
  },
  {
   "cell_type": "code",
   "execution_count": 34,
   "id": "dbc43b5a",
   "metadata": {
    "vscode": {
     "languageId": "scheme"
    }
   },
   "outputs": [],
   "source": [
    "(define (soma a b)\n",
    "  (+ a b))"
   ]
  },
  {
   "cell_type": "code",
   "execution_count": 35,
   "id": "697884e5",
   "metadata": {
    "vscode": {
     "languageId": "scheme"
    }
   },
   "outputs": [
    {
     "data": {
      "text/plain": [
       "7"
      ]
     },
     "execution_count": 35,
     "metadata": {
      "text/plain": "7"
     },
     "output_type": "execute_result"
    }
   ],
   "source": [
    "(+ 3 4)"
   ]
  },
  {
   "cell_type": "code",
   "execution_count": 23,
   "id": "90a8a8ac",
   "metadata": {
    "vscode": {
     "languageId": "scheme"
    }
   },
   "outputs": [],
   "source": [
    "(define (como-lista args )\n",
    "  args )"
   ]
  },
  {
   "cell_type": "code",
   "execution_count": 24,
   "id": "c3117543",
   "metadata": {
    "vscode": {
     "languageId": "scheme"
    }
   },
   "outputs": [
    {
     "data": {
      "text/plain": [
       "(3 4 5)"
      ]
     },
     "execution_count": 24,
     "metadata": {
      "text/plain": "(3 4 5)"
     },
     "output_type": "execute_result"
    }
   ],
   "source": [
    "(como-lista '(3 4 5) )"
   ]
  },
  {
   "cell_type": "code",
   "execution_count": 25,
   "id": "73b63de7",
   "metadata": {
    "vscode": {
     "languageId": "scheme"
    }
   },
   "outputs": [],
   "source": [
    "(define (transforma-lista . args)\n",
    "  args)"
   ]
  },
  {
   "cell_type": "code",
   "execution_count": 27,
   "id": "4052c60b",
   "metadata": {
    "vscode": {
     "languageId": "scheme"
    }
   },
   "outputs": [
    {
     "data": {
      "text/plain": [
       "(3 4 5)"
      ]
     },
     "execution_count": 27,
     "metadata": {
      "text/plain": "(3 4 5)"
     },
     "output_type": "execute_result"
    }
   ],
   "source": [
    "(transforma-lista 3 4 5)"
   ]
  },
  {
   "cell_type": "code",
   "execution_count": 39,
   "id": "1772a0e8",
   "metadata": {
    "vscode": {
     "languageId": "scheme"
    }
   },
   "outputs": [],
   "source": [
    "(define (monta primeiro segundo . resto)\n",
    "  (list primeiro segundo resto)\n",
    "  )"
   ]
  },
  {
   "cell_type": "code",
   "execution_count": 40,
   "id": "ed85c9ef",
   "metadata": {
    "vscode": {
     "languageId": "scheme"
    }
   },
   "outputs": [
    {
     "data": {
      "text/plain": [
       "(5 7 (8 9))"
      ]
     },
     "execution_count": 40,
     "metadata": {
      "text/plain": "(5 7 (8 9))"
     },
     "output_type": "execute_result"
    }
   ],
   "source": [
    "(monta 5 7 8 9)"
   ]
  },
  {
   "cell_type": "markdown",
   "id": "5c1eaa9d",
   "metadata": {},
   "source": []
  },
  {
   "cell_type": "code",
   "execution_count": 41,
   "id": "84cda9cf",
   "metadata": {
    "vscode": {
     "languageId": "scheme"
    }
   },
   "outputs": [
    {
     "data": {
      "text/plain": [
       "17"
      ]
     },
     "execution_count": 41,
     "metadata": {
      "text/plain": "17"
     },
     "output_type": "execute_result"
    }
   ],
   "source": [
    "(+ 5 7 3 2)"
   ]
  },
  {
   "cell_type": "code",
   "execution_count": 42,
   "id": "a855ada0",
   "metadata": {
    "vscode": {
     "languageId": "scheme"
    }
   },
   "outputs": [
    {
     "data": {
      "text/plain": [
       "17"
      ]
     },
     "execution_count": 42,
     "metadata": {
      "text/plain": "17"
     },
     "output_type": "execute_result"
    }
   ],
   "source": [
    "(apply + '(5 7 3 2))"
   ]
  },
  {
   "cell_type": "code",
   "execution_count": 32,
   "id": "66c8e4ab",
   "metadata": {
    "vscode": {
     "languageId": "scheme"
    }
   },
   "outputs": [],
   "source": [
    "(define (generate repetition . list)\n",
    "  (if (<= repetition 0)\n",
    "      '()\n",
    "      (cons list (apply generate (- repetition 1) list))\n",
    "      )\n",
    "  )"
   ]
  },
  {
   "cell_type": "code",
   "execution_count": 43,
   "id": "71e8e5a3",
   "metadata": {
    "vscode": {
     "languageId": "scheme"
    }
   },
   "outputs": [
    {
     "data": {
      "text/plain": [
       "((8 9 10) (8 9 10) (8 9 10))"
      ]
     },
     "execution_count": 43,
     "metadata": {
      "text/plain": "((8 9 10) (8 9 10) (8 9 10))"
     },
     "output_type": "execute_result"
    }
   ],
   "source": [
    "(generate 3 8 9 10)"
   ]
  },
  {
   "cell_type": "code",
   "execution_count": null,
   "id": "11eda784",
   "metadata": {
    "vscode": {
     "languageId": "scheme"
    }
   },
   "outputs": [],
   "source": []
  },
  {
   "cell_type": "markdown",
   "id": "eba0f371",
   "metadata": {
    "vscode": {
     "languageId": "scheme"
    }
   },
   "source": [
    "## Criando um Lista de Associação\n",
    "\n",
    "A lista representa o esquema de um conjunto de dados."
   ]
  },
  {
   "cell_type": "code",
   "execution_count": 9,
   "id": "8d21453c",
   "metadata": {
    "vscode": {
     "languageId": "scheme"
    }
   },
   "outputs": [],
   "source": [
    "(define prehistoric-schema\n",
    "  '((name . 0) (type . 1) (period . 2) (length . 3) (diet . 4)))"
   ]
  },
  {
   "cell_type": "code",
   "execution_count": 68,
   "id": "2f99dd00",
   "metadata": {
    "vscode": {
     "languageId": "scheme"
    }
   },
   "outputs": [
    {
     "data": {
      "text/plain": [
       "(type . 1)"
      ]
     },
     "execution_count": 68,
     "metadata": {
      "text/plain": "(type . 1)"
     },
     "output_type": "execute_result"
    }
   ],
   "source": [
    "(assq 'type prehistoric-schema)"
   ]
  },
  {
   "cell_type": "code",
   "execution_count": 72,
   "id": "be129ed2",
   "metadata": {
    "vscode": {
     "languageId": "scheme"
    }
   },
   "outputs": [
    {
     "data": {
      "text/plain": [
       "2"
      ]
     },
     "execution_count": 72,
     "metadata": {
      "text/plain": "2"
     },
     "output_type": "execute_result"
    }
   ],
   "source": [
    "(cdr (assq 'period prehistoric-schema))"
   ]
  },
  {
   "cell_type": "code",
   "execution_count": 71,
   "id": "ce23bd59",
   "metadata": {
    "vscode": {
     "languageId": "scheme"
    }
   },
   "outputs": [
    {
     "data": {
      "text/plain": [
       "\"Cretaceous\""
      ]
     },
     "execution_count": 71,
     "metadata": {
      "text/plain": "\"Cretaceous\""
     },
     "output_type": "execute_result"
    }
   ],
   "source": [
    "(list-ref '(\"Tyrannosaurus Rex\" \"dinosaur\" \"Cretaceous\" 12.0 \"carnivore\") 2)"
   ]
  },
  {
   "cell_type": "markdown",
   "id": "42be010a",
   "metadata": {},
   "source": [
    "## Projeção de 1 elemento (`project-1`)"
   ]
  },
  {
   "cell_type": "code",
   "execution_count": 42,
   "id": "d59a9534",
   "metadata": {
    "vscode": {
     "languageId": "scheme"
    }
   },
   "outputs": [],
   "source": [
    "(define (project-1 row column-name)\n",
    "  (let ((position (cdr (assq column-name prehistoric-schema))))\n",
    "    (list-ref row position)))"
   ]
  },
  {
   "cell_type": "code",
   "execution_count": 43,
   "id": "4295a94c",
   "metadata": {
    "vscode": {
     "languageId": "scheme"
    }
   },
   "outputs": [
    {
     "data": {
      "text/plain": [
       "\"Cretaceous\""
      ]
     },
     "execution_count": 43,
     "metadata": {
      "text/plain": "\"Cretaceous\""
     },
     "output_type": "execute_result"
    }
   ],
   "source": [
    "(project-1 '(\"Tyrannosaurus Rex\" \"dinosaur\" \"Cretaceous\" 12.0 \"carnivore\") 'period)"
   ]
  },
  {
   "cell_type": "markdown",
   "id": "e51b312d",
   "metadata": {},
   "source": [
    "## Tarefa\n",
    "\n",
    "O que vai acontecer no seguinte cenário?"
   ]
  },
  {
   "cell_type": "code",
   "execution_count": 49,
   "id": "a8ff69a3",
   "metadata": {
    "vscode": {
     "languageId": "scheme"
    }
   },
   "outputs": [],
   "source": [
    "(define (project-1 row column-name)\n",
    "  (let ((position (cdr (assq 'column-name prehistoric-schema))))\n",
    "    (list-ref 'row position)))"
   ]
  },
  {
   "cell_type": "code",
   "execution_count": 50,
   "id": "4ab46318",
   "metadata": {
    "vscode": {
     "languageId": "scheme"
    }
   },
   "outputs": [
    {
     "ename": "wrong-type-arg",
     "evalue": "(#f Wrong type to apply: ~S (Tyrannosaurus Rex) (Tyrannosaurus Rex))",
     "output_type": "error",
     "traceback": [
      "wrong-type-arg",
      "(#f Wrong type to apply: ~S (Tyrannosaurus Rex) (Tyrannosaurus Rex))"
     ]
    }
   ],
   "source": [
    "(project-1 (\"Tyrannosaurus Rex\" \"dinosaur\" \"Cretaceous\" 12.0 \"carnivore\") period)"
   ]
  },
  {
   "cell_type": "markdown",
   "id": "a6855f6d",
   "metadata": {},
   "source": [
    "## Macro\n",
    "\n",
    "`define-macro`"
   ]
  },
  {
   "cell_type": "code",
   "execution_count": 44,
   "id": "36d7d35b",
   "metadata": {
    "vscode": {
     "languageId": "scheme"
    }
   },
   "outputs": [],
   "source": [
    "(define-macro (project-1 row column-name)\n",
    "  `(let ((position (cdr (assq ,column-name prehistoric-schema))))\n",
    "     (list-ref ,row position)))"
   ]
  },
  {
   "cell_type": "code",
   "execution_count": 45,
   "id": "79909d96",
   "metadata": {
    "vscode": {
     "languageId": "scheme"
    }
   },
   "outputs": [
    {
     "data": {
      "text/plain": [
       "\"Cretaceous\""
      ]
     },
     "execution_count": 45,
     "metadata": {
      "text/plain": "\"Cretaceous\""
     },
     "output_type": "execute_result"
    }
   ],
   "source": [
    "(project-1 '(\"Tyrannosaurus Rex\" \"dinosaur\" \"Cretaceous\" 12.0 \"carnivore\") 'period)"
   ]
  },
  {
   "cell_type": "code",
   "execution_count": 46,
   "id": "364ebbc8",
   "metadata": {
    "vscode": {
     "languageId": "scheme"
    }
   },
   "outputs": [
    {
     "data": {
      "text/plain": [
       "\"Cretaceous\""
      ]
     },
     "execution_count": 46,
     "metadata": {
      "text/plain": "\"Cretaceous\""
     },
     "output_type": "execute_result"
    }
   ],
   "source": [
    "(let ((position (cdr (assq 'period prehistoric-schema))))\n",
    "    (list-ref '(\"Tyrannosaurus Rex\" \"dinosaur\" \"Cretaceous\" 12.0 \"carnivore\") position)))"
   ]
  },
  {
   "cell_type": "code",
   "execution_count": 47,
   "id": "1fdd55bd",
   "metadata": {
    "vscode": {
     "languageId": "scheme"
    }
   },
   "outputs": [],
   "source": [
    "(define-macro (project-1 row column-name)\n",
    "  `(let ((position (cdr (assq ',column-name prehistoric-schema))))\n",
    "     (list-ref ',row position)))"
   ]
  },
  {
   "cell_type": "code",
   "execution_count": 48,
   "id": "23dc8644",
   "metadata": {
    "vscode": {
     "languageId": "scheme"
    }
   },
   "outputs": [
    {
     "data": {
      "text/plain": [
       "\"Cretaceous\""
      ]
     },
     "execution_count": 48,
     "metadata": {
      "text/plain": "\"Cretaceous\""
     },
     "output_type": "execute_result"
    }
   ],
   "source": [
    "(project-1 (\"Tyrannosaurus Rex\" \"dinosaur\" \"Cretaceous\" 12.0 \"carnivore\") period)"
   ]
  },
  {
   "cell_type": "markdown",
   "id": "d72f19dc",
   "metadata": {},
   "source": [
    "## Hygienic Macro\n",
    "\n",
    "`define-syntax`"
   ]
  },
  {
   "cell_type": "code",
   "execution_count": 78,
   "id": "916daa7c",
   "metadata": {
    "vscode": {
     "languageId": "scheme"
    }
   },
   "outputs": [],
   "source": [
    "(define-syntax project-1\n",
    "  (syntax-rules ()\n",
    "    ((project-1 row column-name)\n",
    "     (let ((position (cdr (assq 'column-name prehistoric-schema))))\n",
    "       (list-ref row position)))))"
   ]
  },
  {
   "cell_type": "code",
   "execution_count": 81,
   "id": "9e196b97",
   "metadata": {
    "vscode": {
     "languageId": "scheme"
    }
   },
   "outputs": [
    {
     "data": {
      "text/plain": [
       "\"Cretaceous\""
      ]
     },
     "execution_count": 81,
     "metadata": {
      "text/plain": "\"Cretaceous\""
     },
     "output_type": "execute_result"
    }
   ],
   "source": [
    "(project-1 '(\"Tyrannosaurus Rex\" \"dinosaur\" \"Cretaceous\" 12.0 \"carnivore\") period)"
   ]
  },
  {
   "cell_type": "markdown",
   "id": "5788344c",
   "metadata": {},
   "source": []
  },
  {
   "cell_type": "code",
   "execution_count": 10,
   "id": "126b4433",
   "metadata": {
    "vscode": {
     "languageId": "scheme"
    }
   },
   "outputs": [],
   "source": [
    "(define-syntax select-1\n",
    "  (syntax-rules (from)\n",
    "    ((select-1 column-name from row)\n",
    "     (let ((position (cdr (assq 'column-name prehistoric-schema))))\n",
    "       (list-ref row position)))))"
   ]
  },
  {
   "cell_type": "code",
   "execution_count": 11,
   "id": "44845217",
   "metadata": {
    "vscode": {
     "languageId": "scheme"
    }
   },
   "outputs": [
    {
     "data": {
      "text/plain": [
       "\"Cretaceous\""
      ]
     },
     "execution_count": 11,
     "metadata": {
      "text/plain": "\"Cretaceous\""
     },
     "output_type": "execute_result"
    }
   ],
   "source": [
    "(select-1 period from '(\"Tyrannosaurus Rex\" \"dinosaur\" \"Cretaceous\" 12.0 \"carnivore\"))"
   ]
  },
  {
   "cell_type": "markdown",
   "id": "45bfafaa",
   "metadata": {},
   "source": []
  },
  {
   "cell_type": "code",
   "execution_count": 82,
   "id": "826a3299",
   "metadata": {
    "vscode": {
     "languageId": "scheme"
    }
   },
   "outputs": [],
   "source": [
    "(define-syntax define-project-from-schema\n",
    "  (syntax-rules ()\n",
    "    ((define-project-from-schema schema-name macro-name)\n",
    "     (define-syntax macro-name\n",
    "       (syntax-rules ()\n",
    "         ((macro-name row col-name)\n",
    "          (list-ref row\n",
    "            (cdr (assq 'col-name schema-name)))))))))"
   ]
  },
  {
   "cell_type": "code",
   "execution_count": 83,
   "id": "29a535c6",
   "metadata": {
    "vscode": {
     "languageId": "scheme"
    }
   },
   "outputs": [],
   "source": [
    "(define-project-from-schema prehistoric-schema project-1)"
   ]
  },
  {
   "cell_type": "code",
   "execution_count": 85,
   "id": "cbc7784c",
   "metadata": {
    "vscode": {
     "languageId": "scheme"
    }
   },
   "outputs": [
    {
     "data": {
      "text/plain": [
       "\"Cretaceous\""
      ]
     },
     "execution_count": 85,
     "metadata": {
      "text/plain": "\"Cretaceous\""
     },
     "output_type": "execute_result"
    }
   ],
   "source": [
    "(project-1 '(\"Tyrannosaurus Rex\" \"dinosaur\" \"Cretaceous\" 12.0 \"carnivore\") period)"
   ]
  }
 ],
 "metadata": {
  "kernelspec": {
   "display_name": "Guile",
   "language": "scheme",
   "name": "guile"
  },
  "language_info": {
   "codemirror_mode": "scheme",
   "file_extension": ".scm",
   "mimetype": "application/x-scheme",
   "name": "guile",
   "pygments_lexer": "scheme",
   "version": "3.0.0"
  }
 },
 "nbformat": 4,
 "nbformat_minor": 5
}
