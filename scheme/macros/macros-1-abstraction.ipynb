{
 "cells": [
  {
   "cell_type": "markdown",
   "id": "f7a7d2ff",
   "metadata": {},
   "source": [
    "## Lista Imprópria\n",
    "\n",
    "não termina com lista vazia\n",
    "\n",
    "`x -> y`"
   ]
  },
  {
   "cell_type": "code",
   "execution_count": null,
   "id": "aadc0b6d",
   "metadata": {
    "vscode": {
     "languageId": "scheme"
    }
   },
   "outputs": [],
   "source": [
    "'(x . y)"
   ]
  },
  {
   "cell_type": "code",
   "execution_count": null,
   "id": "516c8bce",
   "metadata": {
    "vscode": {
     "languageId": "scheme"
    }
   },
   "outputs": [],
   "source": [
    "(cons 'x 'y)"
   ]
  },
  {
   "cell_type": "markdown",
   "id": "a011a9bd",
   "metadata": {},
   "source": [
    "## Lista Adequada (Proper List)"
   ]
  },
  {
   "cell_type": "code",
   "execution_count": null,
   "id": "abaa72bc",
   "metadata": {
    "vscode": {
     "languageId": "scheme"
    }
   },
   "outputs": [],
   "source": [
    "'( x . () )"
   ]
  },
  {
   "cell_type": "code",
   "execution_count": null,
   "id": "4128cacb",
   "metadata": {
    "vscode": {
     "languageId": "scheme"
    }
   },
   "outputs": [],
   "source": [
    "(cons 'x '())"
   ]
  },
  {
   "cell_type": "code",
   "execution_count": null,
   "id": "9ba36acb",
   "metadata": {
    "vscode": {
     "languageId": "scheme"
    }
   },
   "outputs": [],
   "source": [
    "'( x . (y . () ) )"
   ]
  },
  {
   "cell_type": "code",
   "execution_count": null,
   "id": "682d5ae0",
   "metadata": {
    "vscode": {
     "languageId": "scheme"
    }
   },
   "outputs": [],
   "source": [
    "( cons 'x (cons 'y '() ) )"
   ]
  },
  {
   "cell_type": "code",
   "execution_count": null,
   "id": "55b71dad",
   "metadata": {
    "vscode": {
     "languageId": "scheme"
    }
   },
   "outputs": [],
   "source": [
    "'(x y)"
   ]
  },
  {
   "cell_type": "code",
   "execution_count": null,
   "id": "dbc43b5a",
   "metadata": {
    "vscode": {
     "languageId": "scheme"
    }
   },
   "outputs": [],
   "source": [
    "(define (soma a b)\n",
    "  (+ a b))"
   ]
  },
  {
   "cell_type": "code",
   "execution_count": null,
   "id": "697884e5",
   "metadata": {
    "vscode": {
     "languageId": "scheme"
    }
   },
   "outputs": [],
   "source": [
    "(+ 3 4)"
   ]
  },
  {
   "cell_type": "code",
   "execution_count": null,
   "id": "90a8a8ac",
   "metadata": {
    "vscode": {
     "languageId": "scheme"
    }
   },
   "outputs": [],
   "source": [
    "(define (como-lista args )\n",
    "  args )"
   ]
  },
  {
   "cell_type": "code",
   "execution_count": null,
   "id": "c3117543",
   "metadata": {
    "vscode": {
     "languageId": "scheme"
    }
   },
   "outputs": [],
   "source": [
    "(como-lista '(3 4 5) )"
   ]
  },
  {
   "cell_type": "code",
   "execution_count": null,
   "id": "73b63de7",
   "metadata": {
    "vscode": {
     "languageId": "scheme"
    }
   },
   "outputs": [],
   "source": [
    "(define (transforma-lista . args)\n",
    "  args)"
   ]
  },
  {
   "cell_type": "code",
   "execution_count": null,
   "id": "4052c60b",
   "metadata": {
    "vscode": {
     "languageId": "scheme"
    }
   },
   "outputs": [],
   "source": [
    "(transforma-lista 3 4 5)"
   ]
  },
  {
   "cell_type": "code",
   "execution_count": null,
   "id": "1772a0e8",
   "metadata": {
    "vscode": {
     "languageId": "scheme"
    }
   },
   "outputs": [],
   "source": [
    "(define (monta primeiro segundo . resto)\n",
    "  (list primeiro segundo resto)\n",
    "  )"
   ]
  },
  {
   "cell_type": "code",
   "execution_count": null,
   "id": "ed85c9ef",
   "metadata": {
    "vscode": {
     "languageId": "scheme"
    }
   },
   "outputs": [],
   "source": [
    "(monta 5 7 8 9)"
   ]
  },
  {
   "cell_type": "markdown",
   "id": "5c1eaa9d",
   "metadata": {},
   "source": [
    "## Usando o `apply` para recursão com `.`"
   ]
  },
  {
   "cell_type": "code",
   "execution_count": null,
   "id": "84cda9cf",
   "metadata": {
    "vscode": {
     "languageId": "scheme"
    }
   },
   "outputs": [],
   "source": [
    "(+ 5 7 3 2)"
   ]
  },
  {
   "cell_type": "code",
   "execution_count": null,
   "id": "a855ada0",
   "metadata": {
    "vscode": {
     "languageId": "scheme"
    }
   },
   "outputs": [],
   "source": [
    "(apply + '(5 7 3 2))"
   ]
  },
  {
   "cell_type": "code",
   "execution_count": null,
   "id": "66c8e4ab",
   "metadata": {
    "vscode": {
     "languageId": "scheme"
    }
   },
   "outputs": [],
   "source": [
    "(define (generate repetition . list)\n",
    "  (if (<= repetition 0)\n",
    "      '()\n",
    "      (cons list (apply generate (- repetition 1) list))\n",
    "      )\n",
    "  )"
   ]
  },
  {
   "cell_type": "code",
   "execution_count": null,
   "id": "71e8e5a3",
   "metadata": {
    "vscode": {
     "languageId": "scheme"
    }
   },
   "outputs": [],
   "source": [
    "(generate 3 8 9 10)"
   ]
  },
  {
   "cell_type": "markdown",
   "id": "11eda784",
   "metadata": {
    "vscode": {
     "languageId": "scheme"
    }
   },
   "source": [
    "# Criando Primitivas SQL-like"
   ]
  },
  {
   "cell_type": "markdown",
   "id": "eba0f371",
   "metadata": {
    "vscode": {
     "languageId": "scheme"
    }
   },
   "source": [
    "## Criando um Lista de Associação\n",
    "\n",
    "A lista representa o esquema de um conjunto de dados."
   ]
  },
  {
   "cell_type": "code",
   "execution_count": null,
   "id": "8d21453c",
   "metadata": {
    "vscode": {
     "languageId": "scheme"
    }
   },
   "outputs": [],
   "source": [
    "(define prehistoric-schema\n",
    "  '((name . 0) (type . 1) (period . 2) (length . 3) (diet . 4)))"
   ]
  },
  {
   "cell_type": "code",
   "execution_count": null,
   "id": "2f99dd00",
   "metadata": {
    "vscode": {
     "languageId": "scheme"
    }
   },
   "outputs": [],
   "source": [
    "(assq 'type prehistoric-schema)"
   ]
  },
  {
   "cell_type": "code",
   "execution_count": null,
   "id": "be129ed2",
   "metadata": {
    "vscode": {
     "languageId": "scheme"
    }
   },
   "outputs": [],
   "source": [
    "(cdr (assq 'period prehistoric-schema))"
   ]
  },
  {
   "cell_type": "code",
   "execution_count": null,
   "id": "ce23bd59",
   "metadata": {
    "vscode": {
     "languageId": "scheme"
    }
   },
   "outputs": [],
   "source": [
    "(list-ref '(\"Tyrannosaurus Rex\" \"dinosaur\" \"Cretaceous\" 12.0 \"carnivore\") 2)"
   ]
  },
  {
   "cell_type": "markdown",
   "id": "42be010a",
   "metadata": {},
   "source": [
    "## Projeção de 1 elemento (`project-1`)"
   ]
  },
  {
   "cell_type": "code",
   "execution_count": null,
   "id": "d59a9534",
   "metadata": {
    "vscode": {
     "languageId": "scheme"
    }
   },
   "outputs": [],
   "source": [
    "(define (project-1 row column-name)\n",
    "  (let ((position (cdr (assq column-name prehistoric-schema))))\n",
    "    (list-ref row position)))"
   ]
  },
  {
   "cell_type": "code",
   "execution_count": null,
   "id": "4295a94c",
   "metadata": {
    "vscode": {
     "languageId": "scheme"
    }
   },
   "outputs": [],
   "source": [
    "(project-1 '(\"Tyrannosaurus Rex\" \"dinosaur\" \"Cretaceous\" 12.0 \"carnivore\") 'period)"
   ]
  },
  {
   "cell_type": "markdown",
   "id": "e51b312d",
   "metadata": {},
   "source": [
    "## Tarefa\n",
    "\n",
    "O que vai acontecer no seguinte cenário?"
   ]
  },
  {
   "cell_type": "code",
   "execution_count": null,
   "id": "a8ff69a3",
   "metadata": {
    "vscode": {
     "languageId": "scheme"
    }
   },
   "outputs": [],
   "source": [
    "(define (project-1 row column-name)\n",
    "  (let ((position (cdr (assq 'column-name prehistoric-schema))))\n",
    "    (list-ref 'row position)))"
   ]
  },
  {
   "cell_type": "code",
   "execution_count": null,
   "id": "4ab46318",
   "metadata": {
    "vscode": {
     "languageId": "scheme"
    }
   },
   "outputs": [],
   "source": [
    "(project-1 (\"Tyrannosaurus Rex\" \"dinosaur\" \"Cretaceous\" 12.0 \"carnivore\") period)"
   ]
  },
  {
   "cell_type": "markdown",
   "id": "a6855f6d",
   "metadata": {},
   "source": [
    "## Macro\n",
    "\n",
    "`define-macro`"
   ]
  },
  {
   "cell_type": "code",
   "execution_count": null,
   "id": "36d7d35b",
   "metadata": {
    "vscode": {
     "languageId": "scheme"
    }
   },
   "outputs": [],
   "source": [
    "(define-macro (project-1 row column-name)\n",
    "  `(let ((position (cdr (assq ,column-name prehistoric-schema))))\n",
    "     (list-ref ,row position)))"
   ]
  },
  {
   "cell_type": "code",
   "execution_count": null,
   "id": "79909d96",
   "metadata": {
    "vscode": {
     "languageId": "scheme"
    }
   },
   "outputs": [],
   "source": [
    "(project-1 '(\"Tyrannosaurus Rex\" \"dinosaur\" \"Cretaceous\" 12.0 \"carnivore\") 'period)"
   ]
  },
  {
   "cell_type": "code",
   "execution_count": null,
   "id": "364ebbc8",
   "metadata": {
    "vscode": {
     "languageId": "scheme"
    }
   },
   "outputs": [],
   "source": [
    "(let ((position (cdr (assq 'period prehistoric-schema))))\n",
    "    (list-ref '(\"Tyrannosaurus Rex\" \"dinosaur\" \"Cretaceous\" 12.0 \"carnivore\") position)))"
   ]
  },
  {
   "cell_type": "code",
   "execution_count": null,
   "id": "1fdd55bd",
   "metadata": {
    "vscode": {
     "languageId": "scheme"
    }
   },
   "outputs": [],
   "source": [
    "(define-macro (project-1 row column-name)\n",
    "  `(let ((position (cdr (assq ',column-name prehistoric-schema))))\n",
    "     (list-ref ',row position)))"
   ]
  },
  {
   "cell_type": "code",
   "execution_count": null,
   "id": "23dc8644",
   "metadata": {
    "vscode": {
     "languageId": "scheme"
    }
   },
   "outputs": [],
   "source": [
    "(project-1 (\"Tyrannosaurus Rex\" \"dinosaur\" \"Cretaceous\" 12.0 \"carnivore\") period)"
   ]
  }
 ],
 "metadata": {
  "kernelspec": {
   "display_name": "Guile",
   "language": "scheme",
   "name": "guile"
  },
  "language_info": {
   "codemirror_mode": "scheme",
   "file_extension": ".scm",
   "mimetype": "application/x-scheme",
   "name": "guile",
   "pygments_lexer": "scheme",
   "version": "3.0.0"
  }
 },
 "nbformat": 4,
 "nbformat_minor": 5
}
